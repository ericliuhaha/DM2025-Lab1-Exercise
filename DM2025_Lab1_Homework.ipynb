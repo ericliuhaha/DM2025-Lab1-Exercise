{
  "cells": [
    {
      "cell_type": "markdown",
      "metadata": {
        "id": "wxkCRSaVNEA8"
      },
      "source": [
        "### Student Information\n",
        "Name:劉政諺\n",
        "\n",
        "Student ID:b1123088\n",
        "\n",
        "GitHub ID:ericliuhaha"
      ]
    },
    {
      "cell_type": "markdown",
      "metadata": {
        "id": "7HJ2kno1NEA-"
      },
      "source": [
        "---"
      ]
    },
    {
      "cell_type": "markdown",
      "metadata": {
        "id": "9HjK-w1YNEA_"
      },
      "source": [
        "### Instructions"
      ]
    },
    {
      "cell_type": "markdown",
      "metadata": {
        "id": "taWjZFVONEA_"
      },
      "source": [
        "### First Phase Submission"
      ]
    },
    {
      "cell_type": "markdown",
      "metadata": {
        "id": "S9m6sTmNNEBA"
      },
      "source": [
        "1. First: do the **take home** exercises in the [DM2025-Lab1-Master](https://github.com/leoson-wu/DM2025-Lab1-Exercise/blob/main/DM2025-Lab1-Master.ipynb) that considered as **phase 1 (from exercise 1 to exercise 15)**. You can answer in the master file. __This part is worth 10% of your grade.__\n",
        "\n",
        "\n",
        "2. Second: follow the same process from the [DM2025-Lab1-Master](https://github.com/leoson-wu/DM2025-Lab1-Exercise/blob/main/DM2025-Lab1-Master.ipynb) on **the new dataset** up **until phase 1**. You can skip some exercises if you think some steps are not necessary. However main exercises should be completed. You don't need to explain all details as we did (some **minimal comments** explaining your code are useful though).  __This part is worth 15% of your grade.__\n",
        "    -  Use [the new dataset](https://github.com/leoson-wu/DM2025-Lab1-Exercise/blob/main/newdataset/Reddit-stock-sentiment.csv). The dataset contains a 16 columns including 'text' and 'label', with the sentiment labels being: 1.0 is positive, 0.0 is neutral and -1.0 is negative. You can simplify the dataset and use only the columns that you think are necessary.\n",
        "    \n",
        "    - You are allowed to use and modify the `helper` functions in the folder of the first lab session (notice they may need modification) or create your own.\n",
        "    - Use this file to complete the homework from the second part. Make sure the code can be run from the beginning till the end and has all the needed output.\n",
        "\n",
        "\n",
        "3. Third: please attempt the following tasks on **the new dataset**. __This part is worth 10% of your grade.__\n",
        "    - Generate meaningful **new data visualizations**. Refer to online resources and the Data Mining textbook for inspiration and ideas.\n",
        "    \n",
        "\n",
        "\n",
        "4. Fourth: It's hard for us to follow if your code is messy, so please **tidy up your notebook** and **add minimal comments where needed**. __This part is worth 5% of your grade.__\n",
        "\n",
        "You can submit your homework following these guidelines: [DM2025-Lab1-announcement](https://github.com/leoson-wu/DM2025-Lab1-Announcement/blob/main/README.md). Make sure to commit and save your changes to your repository __BEFORE the deadline (September 28th 11:59 pm, Sunday)__."
      ]
    },
    {
      "cell_type": "markdown",
      "metadata": {
        "id": "8A43Id7pNEBB"
      },
      "source": [
        "### Second Phase Submission"
      ]
    },
    {
      "cell_type": "markdown",
      "metadata": {
        "id": "PHDJ1CkPNEBB"
      },
      "source": [
        "**You can keep the answer for phase 1 for easier running and update the phase 2 on the same page.**\n",
        "\n",
        "1. First: Continue doing the **take home** exercises in the [DM2025-Lab1-Master](https://github.com/leoson-wu/DM2025-Lab1-Exercise/blob/main/DM2025-Lab1-Master.ipynb) for **phase 2, starting from Finding frequent patterns**. Use the same master(.ipynb) file. Answer from phase 1 will not be considered at this stage. You can answer in the master file. __This part is worth 10% of your grade.__\n",
        "\n",
        "\n",
        "2. Second: Continue from first phase and do the same process from the [DM2025-Lab1-Master](https://github.com/leoson-wu/DM2025-Lab1-Exercise/blob/main/DM2025-Lab1-Master.ipynb) on **the new dataset** for phase 2, starting from Finding frequent pattern. You can skip some exercises if you think some steps are not necessary. However main exercises should be completed. You don't need to explain all details as we did (some **minimal comments** explaining your code are useful though).  __This part is worth 15% of your grade.__\n",
        "    - Continue using this file to complete the homework from the second part. Make sure the code can be run from the beginning till the end and has all the needed output. Use the same new dataset as in phase 1.\n",
        "    \n",
        "    - You are allowed to use and modify the `helper` functions in the folder of the first lab session (notice they may need modification) or create your own.\n",
        "\n",
        "3. Third: please attempt the following tasks on **the new dataset**. __This part is worth 20% of your grade.__\n",
        "    - Use this file to answer.\n",
        "    - Generate **TF-IDF features** from the tokens of each text. This will generating a document matrix, however, the weights will be computed differently (using the TF-IDF value of each word per document as opposed to the word frequency).  Refer to this Scikit-learn [guide](http://scikit-learn.org/stable/modules/generated/sklearn.feature_extraction.text.TfidfVectorizer.html) .\n",
        "    - Implement a simple **Naive Bayes classifier** that automatically classifies the records into their categories. Use both the TF-IDF features and word frequency features to build two seperate classifiers. Note that for the TF-IDF features you might need to use other type of NB classifier different than the one in the Master Notebook. Comment on the differences and when using augmentation with feature pattern.  Refer to this [article](https://hub.packtpub.com/implementing-3-naive-bayes-classifiers-in-scikit-learn/).\n",
        "\n",
        "\n",
        "4. Fourth: In the lab, we applied each step really quickly just to illustrate how to work with your dataset. There are somethings that are not ideal or the most efficient/meaningful. Each dataset can be handled differently as well. What are those inefficent parts you noticed? How can you improve the Data preprocessing for these specific datasets? __This part is worth 10% of your grade.__\n",
        "\n",
        "\n",
        "5. Fifth: It's hard for us to follow if your code is messy, so please **tidy up your notebook** and **add minimal comments where needed**. __This part is worth 5% of your grade.__\n",
        "\n",
        "\n",
        "You can submit your homework following these guidelines: [DM2025-Lab1-announcement](https://github.com/leoson-wu/DM2025-Lab1-Announcement/blob/main/README.md). Make sure to commit and save your changes to your repository __BEFORE the deadline (October 19th 11:59 pm, Sunday)__."
      ]
    },
    {
      "cell_type": "markdown",
      "metadata": {
        "id": "zCv-GHKSNEBB"
      },
      "source": [
        "# Phase 1"
      ]
    },
    {
      "cell_type": "code",
      "execution_count": null,
      "metadata": {
        "id": "I_aKjjvyNEBB"
      },
      "outputs": [],
      "source": [
        "### Begin Assignment Here"
      ]
    },
    {
      "cell_type": "code",
      "source": [
        "!pip3 install PAMI"
      ],
      "metadata": {
        "id": "z_eokBs6Neyo"
      },
      "execution_count": null,
      "outputs": []
    },
    {
      "cell_type": "code",
      "source": [
        "# test code for environment setup\n",
        "import pandas as pd\n",
        "import numpy as np\n",
        "import nltk\n",
        "nltk.download('punkt') # download the NLTK datasets\n",
        "from sklearn.datasets import fetch_20newsgroups\n",
        "from sklearn.feature_extraction.text import CountVectorizer\n",
        "import plotly as py\n",
        "import math\n",
        "# If you get \"ModuleNotFoundError: No module named 'PAMI'\"\n",
        "# run the following in a new Jupyter cell:\n",
        "# !pip3 install PAMI\n",
        "import PAMI\n",
        "import umap"
      ],
      "metadata": {
        "colab": {
          "base_uri": "https://localhost:8080/"
        },
        "id": "6g7AKetBOSmJ",
        "outputId": "dbbaa74a-b45d-48a9-b9b0-dddf26696a38"
      },
      "execution_count": 5,
      "outputs": [
        {
          "output_type": "stream",
          "name": "stderr",
          "text": [
            "[nltk_data] Downloading package punkt to /root/nltk_data...\n",
            "[nltk_data]   Package punkt is already up-to-date!\n"
          ]
        }
      ]
    },
    {
      "cell_type": "code",
      "source": [
        "datapath=\"/content/newdataset/Reddit-stock-sentiment.csv\""
      ],
      "metadata": {
        "id": "F9wxyV8BNrRA"
      },
      "execution_count": 6,
      "outputs": []
    },
    {
      "cell_type": "code",
      "source": [
        "import pandas as pd\n",
        "\n",
        "from sklearn.datasets import fetch_20newsgroups\n",
        "\n",
        "display(df.head())"
      ],
      "metadata": {
        "colab": {
          "base_uri": "https://localhost:8080/",
          "height": 2040
        },
        "id": "onAwKGXJNrVg",
        "outputId": "5dc7780a-343b-4131-ac65-7390f9304518"
      },
      "execution_count": 7,
      "outputs": [
        {
          "output_type": "display_data",
          "data": {
            "text/plain": [
              "      type             datetime  post_id         subreddit  \\\n",
              "0  comment  2025-04-11 17:29:56  mmli62w    wallstreetbets   \n",
              "1  comment   2025-04-12 1:12:19  mmnu7v9    wallstreetbets   \n",
              "2  comment  2025-04-10 15:09:41  mmeevio       StockMarket   \n",
              "3     post  2023-08-30 17:12:55  165kllm  stockstobuytoday   \n",
              "4  comment  2025-04-11 14:48:05  mmkl6bw       StockMarket   \n",
              "\n",
              "                                               title                author  \\\n",
              "0    Retardation is on the menu boys! WSB is so back          StickyTip420   \n",
              "1  Retail giant TARGET has now declined for 10 co...  Comfortable-Dog-8437   \n",
              "2  How do you feel about a sitting president maki...          Btankersly66   \n",
              "3                              Who knows more? $VMAR             emiljenfn   \n",
              "4  The Trump administration is begging Xi Jinping...          Just-Big6411   \n",
              "\n",
              "                                                 url  upvotes  downvotes  \\\n",
              "0               https://i.redd.it/0yq2ftren8ue1.jpeg        0        NaN   \n",
              "1               https://i.redd.it/7tl6puv9waue1.jpeg      -15        NaN   \n",
              "2  https://apnews.com/article/trump-truth-social-...        1        NaN   \n",
              "3  https://www.reddit.com/r/stockstobuytoday/comm...       30        0.0   \n",
              "4  https://edition.cnn.com/2025/04/10/politics/tr...        1        NaN   \n",
              "\n",
              "   upvote_ratio                                               text  \\\n",
              "0           NaN                                   Calls on retards   \n",
              "1           NaN  Stunt as in like why did they even make a big ...   \n",
              "2           NaN                  Seeing lots of red in the ticker.   \n",
              "3          0.98  Vision Marine Technologies Inc. is rewriting t...   \n",
              "4           NaN                           He didn’t say thank you.   \n",
              "\n",
              "   subjectivity  polarity  sentiment  \\\n",
              "0      1.000000 -0.900000       -1.0   \n",
              "1      0.177778  0.083333        1.0   \n",
              "2      0.000000  0.000000        0.0   \n",
              "3      0.646970  0.216383        1.0   \n",
              "4      0.000000  0.000000        0.0   \n",
              "\n",
              "                                            entities  label  \n",
              "0                                                 []   -1.0  \n",
              "1              ['Stunt', 'company', 'deal', 'place']    0.0  \n",
              "2                                         ['ticker']    0.0  \n",
              "3  ['watercraft', 'skill', 'power', ']', 'feat', ...    1.0  \n",
              "4                                                 []   -1.0  "
            ],
            "text/html": [
              "\n",
              "  <div id=\"df-993cf699-424d-4cec-84db-ad65bc3d4cb6\" class=\"colab-df-container\">\n",
              "    <div>\n",
              "<style scoped>\n",
              "    .dataframe tbody tr th:only-of-type {\n",
              "        vertical-align: middle;\n",
              "    }\n",
              "\n",
              "    .dataframe tbody tr th {\n",
              "        vertical-align: top;\n",
              "    }\n",
              "\n",
              "    .dataframe thead th {\n",
              "        text-align: right;\n",
              "    }\n",
              "</style>\n",
              "<table border=\"1\" class=\"dataframe\">\n",
              "  <thead>\n",
              "    <tr style=\"text-align: right;\">\n",
              "      <th></th>\n",
              "      <th>type</th>\n",
              "      <th>datetime</th>\n",
              "      <th>post_id</th>\n",
              "      <th>subreddit</th>\n",
              "      <th>title</th>\n",
              "      <th>author</th>\n",
              "      <th>url</th>\n",
              "      <th>upvotes</th>\n",
              "      <th>downvotes</th>\n",
              "      <th>upvote_ratio</th>\n",
              "      <th>text</th>\n",
              "      <th>subjectivity</th>\n",
              "      <th>polarity</th>\n",
              "      <th>sentiment</th>\n",
              "      <th>entities</th>\n",
              "      <th>label</th>\n",
              "    </tr>\n",
              "  </thead>\n",
              "  <tbody>\n",
              "    <tr>\n",
              "      <th>0</th>\n",
              "      <td>comment</td>\n",
              "      <td>2025-04-11 17:29:56</td>\n",
              "      <td>mmli62w</td>\n",
              "      <td>wallstreetbets</td>\n",
              "      <td>Retardation is on the menu boys! WSB is so back</td>\n",
              "      <td>StickyTip420</td>\n",
              "      <td>https://i.redd.it/0yq2ftren8ue1.jpeg</td>\n",
              "      <td>0</td>\n",
              "      <td>NaN</td>\n",
              "      <td>NaN</td>\n",
              "      <td>Calls on retards</td>\n",
              "      <td>1.000000</td>\n",
              "      <td>-0.900000</td>\n",
              "      <td>-1.0</td>\n",
              "      <td>[]</td>\n",
              "      <td>-1.0</td>\n",
              "    </tr>\n",
              "    <tr>\n",
              "      <th>1</th>\n",
              "      <td>comment</td>\n",
              "      <td>2025-04-12 1:12:19</td>\n",
              "      <td>mmnu7v9</td>\n",
              "      <td>wallstreetbets</td>\n",
              "      <td>Retail giant TARGET has now declined for 10 co...</td>\n",
              "      <td>Comfortable-Dog-8437</td>\n",
              "      <td>https://i.redd.it/7tl6puv9waue1.jpeg</td>\n",
              "      <td>-15</td>\n",
              "      <td>NaN</td>\n",
              "      <td>NaN</td>\n",
              "      <td>Stunt as in like why did they even make a big ...</td>\n",
              "      <td>0.177778</td>\n",
              "      <td>0.083333</td>\n",
              "      <td>1.0</td>\n",
              "      <td>['Stunt', 'company', 'deal', 'place']</td>\n",
              "      <td>0.0</td>\n",
              "    </tr>\n",
              "    <tr>\n",
              "      <th>2</th>\n",
              "      <td>comment</td>\n",
              "      <td>2025-04-10 15:09:41</td>\n",
              "      <td>mmeevio</td>\n",
              "      <td>StockMarket</td>\n",
              "      <td>How do you feel about a sitting president maki...</td>\n",
              "      <td>Btankersly66</td>\n",
              "      <td>https://apnews.com/article/trump-truth-social-...</td>\n",
              "      <td>1</td>\n",
              "      <td>NaN</td>\n",
              "      <td>NaN</td>\n",
              "      <td>Seeing lots of red in the ticker.</td>\n",
              "      <td>0.000000</td>\n",
              "      <td>0.000000</td>\n",
              "      <td>0.0</td>\n",
              "      <td>['ticker']</td>\n",
              "      <td>0.0</td>\n",
              "    </tr>\n",
              "    <tr>\n",
              "      <th>3</th>\n",
              "      <td>post</td>\n",
              "      <td>2023-08-30 17:12:55</td>\n",
              "      <td>165kllm</td>\n",
              "      <td>stockstobuytoday</td>\n",
              "      <td>Who knows more? $VMAR</td>\n",
              "      <td>emiljenfn</td>\n",
              "      <td>https://www.reddit.com/r/stockstobuytoday/comm...</td>\n",
              "      <td>30</td>\n",
              "      <td>0.0</td>\n",
              "      <td>0.98</td>\n",
              "      <td>Vision Marine Technologies Inc. is rewriting t...</td>\n",
              "      <td>0.646970</td>\n",
              "      <td>0.216383</td>\n",
              "      <td>1.0</td>\n",
              "      <td>['watercraft', 'skill', 'power', ']', 'feat', ...</td>\n",
              "      <td>1.0</td>\n",
              "    </tr>\n",
              "    <tr>\n",
              "      <th>4</th>\n",
              "      <td>comment</td>\n",
              "      <td>2025-04-11 14:48:05</td>\n",
              "      <td>mmkl6bw</td>\n",
              "      <td>StockMarket</td>\n",
              "      <td>The Trump administration is begging Xi Jinping...</td>\n",
              "      <td>Just-Big6411</td>\n",
              "      <td>https://edition.cnn.com/2025/04/10/politics/tr...</td>\n",
              "      <td>1</td>\n",
              "      <td>NaN</td>\n",
              "      <td>NaN</td>\n",
              "      <td>He didn’t say thank you.</td>\n",
              "      <td>0.000000</td>\n",
              "      <td>0.000000</td>\n",
              "      <td>0.0</td>\n",
              "      <td>[]</td>\n",
              "      <td>-1.0</td>\n",
              "    </tr>\n",
              "  </tbody>\n",
              "</table>\n",
              "</div>\n",
              "    <div class=\"colab-df-buttons\">\n",
              "\n",
              "  <div class=\"colab-df-container\">\n",
              "    <button class=\"colab-df-convert\" onclick=\"convertToInteractive('df-993cf699-424d-4cec-84db-ad65bc3d4cb6')\"\n",
              "            title=\"Convert this dataframe to an interactive table.\"\n",
              "            style=\"display:none;\">\n",
              "\n",
              "  <svg xmlns=\"http://www.w3.org/2000/svg\" height=\"24px\" viewBox=\"0 -960 960 960\">\n",
              "    <path d=\"M120-120v-720h720v720H120Zm60-500h600v-160H180v160Zm220 220h160v-160H400v160Zm0 220h160v-160H400v160ZM180-400h160v-160H180v160Zm440 0h160v-160H620v160ZM180-180h160v-160H180v160Zm440 0h160v-160H620v160Z\"/>\n",
              "  </svg>\n",
              "    </button>\n",
              "\n",
              "  <style>\n",
              "    .colab-df-container {\n",
              "      display:flex;\n",
              "      gap: 12px;\n",
              "    }\n",
              "\n",
              "    .colab-df-convert {\n",
              "      background-color: #E8F0FE;\n",
              "      border: none;\n",
              "      border-radius: 50%;\n",
              "      cursor: pointer;\n",
              "      display: none;\n",
              "      fill: #1967D2;\n",
              "      height: 32px;\n",
              "      padding: 0 0 0 0;\n",
              "      width: 32px;\n",
              "    }\n",
              "\n",
              "    .colab-df-convert:hover {\n",
              "      background-color: #E2EBFA;\n",
              "      box-shadow: 0px 1px 2px rgba(60, 64, 67, 0.3), 0px 1px 3px 1px rgba(60, 64, 67, 0.15);\n",
              "      fill: #174EA6;\n",
              "    }\n",
              "\n",
              "    .colab-df-buttons div {\n",
              "      margin-bottom: 4px;\n",
              "    }\n",
              "\n",
              "    [theme=dark] .colab-df-convert {\n",
              "      background-color: #3B4455;\n",
              "      fill: #D2E3FC;\n",
              "    }\n",
              "\n",
              "    [theme=dark] .colab-df-convert:hover {\n",
              "      background-color: #434B5C;\n",
              "      box-shadow: 0px 1px 3px 1px rgba(0, 0, 0, 0.15);\n",
              "      filter: drop-shadow(0px 1px 2px rgba(0, 0, 0, 0.3));\n",
              "      fill: #FFFFFF;\n",
              "    }\n",
              "  </style>\n",
              "\n",
              "    <script>\n",
              "      const buttonEl =\n",
              "        document.querySelector('#df-993cf699-424d-4cec-84db-ad65bc3d4cb6 button.colab-df-convert');\n",
              "      buttonEl.style.display =\n",
              "        google.colab.kernel.accessAllowed ? 'block' : 'none';\n",
              "\n",
              "      async function convertToInteractive(key) {\n",
              "        const element = document.querySelector('#df-993cf699-424d-4cec-84db-ad65bc3d4cb6');\n",
              "        const dataTable =\n",
              "          await google.colab.kernel.invokeFunction('convertToInteractive',\n",
              "                                                    [key], {});\n",
              "        if (!dataTable) return;\n",
              "\n",
              "        const docLinkHtml = 'Like what you see? Visit the ' +\n",
              "          '<a target=\"_blank\" href=https://colab.research.google.com/notebooks/data_table.ipynb>data table notebook</a>'\n",
              "          + ' to learn more about interactive tables.';\n",
              "        element.innerHTML = '';\n",
              "        dataTable['output_type'] = 'display_data';\n",
              "        await google.colab.output.renderOutput(dataTable, element);\n",
              "        const docLink = document.createElement('div');\n",
              "        docLink.innerHTML = docLinkHtml;\n",
              "        element.appendChild(docLink);\n",
              "      }\n",
              "    </script>\n",
              "  </div>\n",
              "\n",
              "\n",
              "    <div id=\"df-39a408e8-d3b9-4da0-9e7a-d42b51cac660\">\n",
              "      <button class=\"colab-df-quickchart\" onclick=\"quickchart('df-39a408e8-d3b9-4da0-9e7a-d42b51cac660')\"\n",
              "                title=\"Suggest charts\"\n",
              "                style=\"display:none;\">\n",
              "\n",
              "<svg xmlns=\"http://www.w3.org/2000/svg\" height=\"24px\"viewBox=\"0 0 24 24\"\n",
              "     width=\"24px\">\n",
              "    <g>\n",
              "        <path d=\"M19 3H5c-1.1 0-2 .9-2 2v14c0 1.1.9 2 2 2h14c1.1 0 2-.9 2-2V5c0-1.1-.9-2-2-2zM9 17H7v-7h2v7zm4 0h-2V7h2v10zm4 0h-2v-4h2v4z\"/>\n",
              "    </g>\n",
              "</svg>\n",
              "      </button>\n",
              "\n",
              "<style>\n",
              "  .colab-df-quickchart {\n",
              "      --bg-color: #E8F0FE;\n",
              "      --fill-color: #1967D2;\n",
              "      --hover-bg-color: #E2EBFA;\n",
              "      --hover-fill-color: #174EA6;\n",
              "      --disabled-fill-color: #AAA;\n",
              "      --disabled-bg-color: #DDD;\n",
              "  }\n",
              "\n",
              "  [theme=dark] .colab-df-quickchart {\n",
              "      --bg-color: #3B4455;\n",
              "      --fill-color: #D2E3FC;\n",
              "      --hover-bg-color: #434B5C;\n",
              "      --hover-fill-color: #FFFFFF;\n",
              "      --disabled-bg-color: #3B4455;\n",
              "      --disabled-fill-color: #666;\n",
              "  }\n",
              "\n",
              "  .colab-df-quickchart {\n",
              "    background-color: var(--bg-color);\n",
              "    border: none;\n",
              "    border-radius: 50%;\n",
              "    cursor: pointer;\n",
              "    display: none;\n",
              "    fill: var(--fill-color);\n",
              "    height: 32px;\n",
              "    padding: 0;\n",
              "    width: 32px;\n",
              "  }\n",
              "\n",
              "  .colab-df-quickchart:hover {\n",
              "    background-color: var(--hover-bg-color);\n",
              "    box-shadow: 0 1px 2px rgba(60, 64, 67, 0.3), 0 1px 3px 1px rgba(60, 64, 67, 0.15);\n",
              "    fill: var(--button-hover-fill-color);\n",
              "  }\n",
              "\n",
              "  .colab-df-quickchart-complete:disabled,\n",
              "  .colab-df-quickchart-complete:disabled:hover {\n",
              "    background-color: var(--disabled-bg-color);\n",
              "    fill: var(--disabled-fill-color);\n",
              "    box-shadow: none;\n",
              "  }\n",
              "\n",
              "  .colab-df-spinner {\n",
              "    border: 2px solid var(--fill-color);\n",
              "    border-color: transparent;\n",
              "    border-bottom-color: var(--fill-color);\n",
              "    animation:\n",
              "      spin 1s steps(1) infinite;\n",
              "  }\n",
              "\n",
              "  @keyframes spin {\n",
              "    0% {\n",
              "      border-color: transparent;\n",
              "      border-bottom-color: var(--fill-color);\n",
              "      border-left-color: var(--fill-color);\n",
              "    }\n",
              "    20% {\n",
              "      border-color: transparent;\n",
              "      border-left-color: var(--fill-color);\n",
              "      border-top-color: var(--fill-color);\n",
              "    }\n",
              "    30% {\n",
              "      border-color: transparent;\n",
              "      border-left-color: var(--fill-color);\n",
              "      border-top-color: var(--fill-color);\n",
              "      border-right-color: var(--fill-color);\n",
              "    }\n",
              "    40% {\n",
              "      border-color: transparent;\n",
              "      border-right-color: var(--fill-color);\n",
              "      border-top-color: var(--fill-color);\n",
              "    }\n",
              "    60% {\n",
              "      border-color: transparent;\n",
              "      border-right-color: var(--fill-color);\n",
              "    }\n",
              "    80% {\n",
              "      border-color: transparent;\n",
              "      border-right-color: var(--fill-color);\n",
              "      border-bottom-color: var(--fill-color);\n",
              "    }\n",
              "    90% {\n",
              "      border-color: transparent;\n",
              "      border-bottom-color: var(--fill-color);\n",
              "    }\n",
              "  }\n",
              "</style>\n",
              "\n",
              "      <script>\n",
              "        async function quickchart(key) {\n",
              "          const quickchartButtonEl =\n",
              "            document.querySelector('#' + key + ' button');\n",
              "          quickchartButtonEl.disabled = true;  // To prevent multiple clicks.\n",
              "          quickchartButtonEl.classList.add('colab-df-spinner');\n",
              "          try {\n",
              "            const charts = await google.colab.kernel.invokeFunction(\n",
              "                'suggestCharts', [key], {});\n",
              "          } catch (error) {\n",
              "            console.error('Error during call to suggestCharts:', error);\n",
              "          }\n",
              "          quickchartButtonEl.classList.remove('colab-df-spinner');\n",
              "          quickchartButtonEl.classList.add('colab-df-quickchart-complete');\n",
              "        }\n",
              "        (() => {\n",
              "          let quickchartButtonEl =\n",
              "            document.querySelector('#df-39a408e8-d3b9-4da0-9e7a-d42b51cac660 button');\n",
              "          quickchartButtonEl.style.display =\n",
              "            google.colab.kernel.accessAllowed ? 'block' : 'none';\n",
              "        })();\n",
              "      </script>\n",
              "    </div>\n",
              "\n",
              "    </div>\n",
              "  </div>\n"
            ],
            "application/vnd.google.colaboratory.intrinsic+json": {
              "type": "dataframe",
              "summary": "{\n  \"name\": \"display(df\",\n  \"rows\": 5,\n  \"fields\": [\n    {\n      \"column\": \"type\",\n      \"properties\": {\n        \"dtype\": \"category\",\n        \"num_unique_values\": 2,\n        \"samples\": [\n          \"post\",\n          \"comment\"\n        ],\n        \"semantic_type\": \"\",\n        \"description\": \"\"\n      }\n    },\n    {\n      \"column\": \"datetime\",\n      \"properties\": {\n        \"dtype\": \"object\",\n        \"num_unique_values\": 5,\n        \"samples\": [\n          \"2025-04-12 1:12:19\",\n          \"2025-04-11 14:48:05\"\n        ],\n        \"semantic_type\": \"\",\n        \"description\": \"\"\n      }\n    },\n    {\n      \"column\": \"post_id\",\n      \"properties\": {\n        \"dtype\": \"string\",\n        \"num_unique_values\": 5,\n        \"samples\": [\n          \"mmnu7v9\",\n          \"mmkl6bw\"\n        ],\n        \"semantic_type\": \"\",\n        \"description\": \"\"\n      }\n    },\n    {\n      \"column\": \"subreddit\",\n      \"properties\": {\n        \"dtype\": \"string\",\n        \"num_unique_values\": 3,\n        \"samples\": [\n          \"wallstreetbets\",\n          \"StockMarket\"\n        ],\n        \"semantic_type\": \"\",\n        \"description\": \"\"\n      }\n    },\n    {\n      \"column\": \"title\",\n      \"properties\": {\n        \"dtype\": \"string\",\n        \"num_unique_values\": 5,\n        \"samples\": [\n          \"Retail giant TARGET has now declined for 10 consecutive weeks, its longest losing streak in history\",\n          \"The Trump administration is begging Xi Jinping to call Trump quickly.\"\n        ],\n        \"semantic_type\": \"\",\n        \"description\": \"\"\n      }\n    },\n    {\n      \"column\": \"author\",\n      \"properties\": {\n        \"dtype\": \"string\",\n        \"num_unique_values\": 5,\n        \"samples\": [\n          \"Comfortable-Dog-8437\",\n          \"Just-Big6411\"\n        ],\n        \"semantic_type\": \"\",\n        \"description\": \"\"\n      }\n    },\n    {\n      \"column\": \"url\",\n      \"properties\": {\n        \"dtype\": \"string\",\n        \"num_unique_values\": 5,\n        \"samples\": [\n          \"https://i.redd.it/7tl6puv9waue1.jpeg\",\n          \"https://edition.cnn.com/2025/04/10/politics/trump-xi-china-tariffs/index.html\"\n        ],\n        \"semantic_type\": \"\",\n        \"description\": \"\"\n      }\n    },\n    {\n      \"column\": \"upvotes\",\n      \"properties\": {\n        \"dtype\": \"number\",\n        \"std\": 16,\n        \"min\": -15,\n        \"max\": 30,\n        \"num_unique_values\": 4,\n        \"samples\": [\n          -15,\n          30\n        ],\n        \"semantic_type\": \"\",\n        \"description\": \"\"\n      }\n    },\n    {\n      \"column\": \"downvotes\",\n      \"properties\": {\n        \"dtype\": \"number\",\n        \"std\": null,\n        \"min\": 0.0,\n        \"max\": 0.0,\n        \"num_unique_values\": 1,\n        \"samples\": [\n          0.0\n        ],\n        \"semantic_type\": \"\",\n        \"description\": \"\"\n      }\n    },\n    {\n      \"column\": \"upvote_ratio\",\n      \"properties\": {\n        \"dtype\": \"number\",\n        \"std\": null,\n        \"min\": 0.98,\n        \"max\": 0.98,\n        \"num_unique_values\": 1,\n        \"samples\": [\n          0.98\n        ],\n        \"semantic_type\": \"\",\n        \"description\": \"\"\n      }\n    },\n    {\n      \"column\": \"text\",\n      \"properties\": {\n        \"dtype\": \"string\",\n        \"num_unique_values\": 5,\n        \"samples\": [\n          \"Stunt as in like why did they even make a big deal about starting it in the first place? No company should ever talk about politics ever.\"\n        ],\n        \"semantic_type\": \"\",\n        \"description\": \"\"\n      }\n    },\n    {\n      \"column\": \"subjectivity\",\n      \"properties\": {\n        \"dtype\": \"number\",\n        \"std\": 0.4427849528126518,\n        \"min\": 0.0,\n        \"max\": 1.0,\n        \"num_unique_values\": 4,\n        \"samples\": [\n          0.1777777777777777\n        ],\n        \"semantic_type\": \"\",\n        \"description\": \"\"\n      }\n    },\n    {\n      \"column\": \"polarity\",\n      \"properties\": {\n        \"dtype\": \"number\",\n        \"std\": 0.4448869703577013,\n        \"min\": -0.9,\n        \"max\": 0.2163825757575757,\n        \"num_unique_values\": 4,\n        \"samples\": [\n          0.0833333333333333\n        ],\n        \"semantic_type\": \"\",\n        \"description\": \"\"\n      }\n    },\n    {\n      \"column\": \"sentiment\",\n      \"properties\": {\n        \"dtype\": \"number\",\n        \"std\": 0.8366600265340756,\n        \"min\": -1.0,\n        \"max\": 1.0,\n        \"num_unique_values\": 3,\n        \"samples\": [\n          -1.0\n        ],\n        \"semantic_type\": \"\",\n        \"description\": \"\"\n      }\n    },\n    {\n      \"column\": \"entities\",\n      \"properties\": {\n        \"dtype\": \"string\",\n        \"num_unique_values\": 4,\n        \"samples\": [\n          \"['Stunt', 'company', 'deal', 'place']\"\n        ],\n        \"semantic_type\": \"\",\n        \"description\": \"\"\n      }\n    },\n    {\n      \"column\": \"label\",\n      \"properties\": {\n        \"dtype\": \"number\",\n        \"std\": 0.8366600265340756,\n        \"min\": -1.0,\n        \"max\": 1.0,\n        \"num_unique_values\": 3,\n        \"samples\": [\n          -1.0\n        ],\n        \"semantic_type\": \"\",\n        \"description\": \"\"\n      }\n    }\n  ]\n}"
            }
          },
          "metadata": {}
        }
      ]
    },
    {
      "cell_type": "code",
      "source": [
        "print(df.columns)\n",
        "print()\n",
        "print('total is:',df.shape[1])"
      ],
      "metadata": {
        "colab": {
          "base_uri": "https://localhost:8080/"
        },
        "id": "X0FdTbVoOefA",
        "outputId": "9d0d5e09-9a06-46c8-864d-1f04f6cb764d"
      },
      "execution_count": 19,
      "outputs": [
        {
          "output_type": "stream",
          "name": "stdout",
          "text": [
            "Index(['type', 'datetime', 'post_id', 'subreddit', 'title', 'author', 'url',\n",
            "       'upvotes', 'downvotes', 'upvote_ratio', 'text', 'subjectivity',\n",
            "       'polarity', 'sentiment', 'entities', 'label'],\n",
            "      dtype='object')\n",
            "\n",
            "total is: 16\n"
          ]
        }
      ]
    },
    {
      "cell_type": "code",
      "source": [
        "len(df)"
      ],
      "metadata": {
        "colab": {
          "base_uri": "https://localhost:8080/"
        },
        "id": "b1flvxE4Oehv",
        "outputId": "e63a9dc5-2c35-4043-faed-4f0429044bde"
      },
      "execution_count": 20,
      "outputs": [
        {
          "output_type": "execute_result",
          "data": {
            "text/plain": [
              "847"
            ]
          },
          "metadata": {},
          "execution_count": 20
        }
      ]
    },
    {
      "cell_type": "code",
      "source": [
        "print(df['title'][0])\n",
        "print(df['title'][1])\n",
        "print(df['title'][2])"
      ],
      "metadata": {
        "colab": {
          "base_uri": "https://localhost:8080/"
        },
        "id": "GljOZ3qvOekB",
        "outputId": "23dc0eb0-cf1b-4e2e-bf0b-6280d8afe6f5"
      },
      "execution_count": 22,
      "outputs": [
        {
          "output_type": "stream",
          "name": "stdout",
          "text": [
            "Retardation is on the menu boys! WSB is so back\n",
            "Retail giant TARGET has now declined for 10 consecutive weeks, its longest losing streak in history\n",
            "How do you feel about a sitting president making $415M in one day after pumping his own stock with social media and a policy decision?\n"
          ]
        }
      ]
    },
    {
      "cell_type": "code",
      "source": [
        "list(df['label'][0:10])"
      ],
      "metadata": {
        "colab": {
          "base_uri": "https://localhost:8080/"
        },
        "id": "xmAWeCheOemY",
        "outputId": "0400a49a-362d-4cff-b4ec-4f50171e4e55"
      },
      "execution_count": 31,
      "outputs": [
        {
          "output_type": "execute_result",
          "data": {
            "text/plain": [
              "[-1.0, 0.0, 0.0, 1.0, -1.0, 0.0, -1.0, 0.0, 1.0, 1.0]"
            ]
          },
          "metadata": {},
          "execution_count": 31
        }
      ]
    },
    {
      "cell_type": "code",
      "source": [
        "for index in range(10):\n",
        "    print(\"\\n\".join(df['text'][index].split(\"\\n\")))\n",
        "    print()\n",
        "    print(\"-------------------------next----------------------------\")\n",
        "    print()"
      ],
      "metadata": {
        "colab": {
          "base_uri": "https://localhost:8080/"
        },
        "id": "zUnwGxoNOeok",
        "outputId": "0f7a0072-372c-4500-ee4f-655724682e36"
      },
      "execution_count": 39,
      "outputs": [
        {
          "output_type": "stream",
          "name": "stdout",
          "text": [
            "Calls on retards\n",
            "\n",
            "-------------------------next----------------------------\n",
            "\n",
            "Stunt as in like why did they even make a big deal about starting it in the first place? No company should ever talk about politics ever.\n",
            "\n",
            "-------------------------next----------------------------\n",
            "\n",
            "Seeing lots of red in the ticker.\n",
            "\n",
            "-------------------------next----------------------------\n",
            "\n",
            "Vision Marine Technologies Inc. is rewriting the watercraft rulebook. Their collaboration with Shaun Torrente has achieved the unthinkable – a blazing 116 mph on water! This isn't just about speed; it's about propelling electric boating into a new era. Their cutting-edge technology, combined with Torrente's skill, is making waves that'll ripple for generations.\n",
            "\n",
            "**Highlight Main Points**\n",
            "\n",
            "* Vision Marine Technologies Inc. achieves a record-breaking 116 mph speed on water with Shaun Torrente.\n",
            "* The feat highlights the power of electric boating and pushes the limits of innovation.\n",
            "* Partners like Octillion Power Systems and Danfoss Editron contribute to this groundbreaking achievement.\n",
            "\n",
            "**TLDR**\n",
            "\n",
            "Hold onto your seats – Vision Marine Technologies Inc. and Shaun Torrente have shattered the water-speed record at an astonishing 116 mph!  This isn't just about speed; it's about pioneering electric boating and innovation. The collaboration of technology, skill, and passion is creating ripples that'll be felt for years to come in the world of watercraft.\n",
            "\n",
            "[]()\n",
            "\n",
            "-------------------------next----------------------------\n",
            "\n",
            "He didn’t say thank you.\n",
            "\n",
            "-------------------------next----------------------------\n",
            "\n",
            "Hoping to ejaculate in wet warm puss tonight, wish me luck\n",
            "\n",
            "-------------------------next----------------------------\n",
            "\n",
            "Trump will respond to china increasing their tariffs. Trump is looking to fire Jerome Powell. Earnings reporting is starting. I personally think the next few weeks are going to be brutal.... if all companies adjust downwards and JPow is fired, i can see it going down A LOT and very quickly even\n",
            "\n",
            "-------------------------next----------------------------\n",
            "\n",
            "Confirmed not a trap. Its been like this for probably 2 months, we have just let it slowly spread by word of mouth\n",
            "\n",
            "-------------------------next----------------------------\n",
            "\n",
            "Am I the only one seeing the cup & handle breakout here? 52 week high? Third Green Day? The pivot was on Thursday. Perfectly held the base trend line to a new high. Follow the technicals folks.\n",
            "\n",
            "-------------------------next----------------------------\n",
            "\n",
            "HLGN is $10. Hurry and catch it now before it shoots to the moon!\n",
            "\n",
            "-------------------------next----------------------------\n",
            "\n"
          ]
        }
      ]
    },
    {
      "cell_type": "code",
      "source": [
        "# add nothing to the dataframe\n",
        "df['nothing'] = len(df)*[0]"
      ],
      "metadata": {
        "id": "1LjLtPkTOese"
      },
      "execution_count": 40,
      "outputs": []
    },
    {
      "cell_type": "code",
      "source": [
        "df[:10][[\"text\",\"title\",\"label\"]]"
      ],
      "metadata": {
        "colab": {
          "base_uri": "https://localhost:8080/",
          "height": 363
        },
        "id": "gxyDpkPFOexA",
        "outputId": "5a381f74-859a-4e5c-8580-bf27fd04b015"
      },
      "execution_count": 44,
      "outputs": [
        {
          "output_type": "execute_result",
          "data": {
            "text/plain": [
              "                                                text  \\\n",
              "0                                   Calls on retards   \n",
              "1  Stunt as in like why did they even make a big ...   \n",
              "2                  Seeing lots of red in the ticker.   \n",
              "3  Vision Marine Technologies Inc. is rewriting t...   \n",
              "4                           He didn’t say thank you.   \n",
              "5  Hoping to ejaculate in wet warm puss tonight, ...   \n",
              "6  Trump will respond to china increasing their t...   \n",
              "7  Confirmed not a trap. Its been like this for p...   \n",
              "8  Am I the only one seeing the cup & handle brea...   \n",
              "9  HLGN is $10. Hurry and catch it now before it ...   \n",
              "\n",
              "                                               title  label  \n",
              "0    Retardation is on the menu boys! WSB is so back   -1.0  \n",
              "1  Retail giant TARGET has now declined for 10 co...    0.0  \n",
              "2  How do you feel about a sitting president maki...    0.0  \n",
              "3                              Who knows more? $VMAR    1.0  \n",
              "4  The Trump administration is begging Xi Jinping...   -1.0  \n",
              "5  Weekend Discussion Thread for the Weekend of A...    0.0  \n",
              "6        Is the market in complete denial right now?   -1.0  \n",
              "7    Retardation is on the menu boys! WSB is so back    0.0  \n",
              "8  It's fucking awful seeing the \"Silver\" misinfo...    1.0  \n",
              "9                        Any cheap stocks under $10?    1.0  "
            ],
            "text/html": [
              "\n",
              "  <div id=\"df-923c1a5d-633c-424b-82cf-3cc4ed1c5be3\" class=\"colab-df-container\">\n",
              "    <div>\n",
              "<style scoped>\n",
              "    .dataframe tbody tr th:only-of-type {\n",
              "        vertical-align: middle;\n",
              "    }\n",
              "\n",
              "    .dataframe tbody tr th {\n",
              "        vertical-align: top;\n",
              "    }\n",
              "\n",
              "    .dataframe thead th {\n",
              "        text-align: right;\n",
              "    }\n",
              "</style>\n",
              "<table border=\"1\" class=\"dataframe\">\n",
              "  <thead>\n",
              "    <tr style=\"text-align: right;\">\n",
              "      <th></th>\n",
              "      <th>text</th>\n",
              "      <th>title</th>\n",
              "      <th>label</th>\n",
              "    </tr>\n",
              "  </thead>\n",
              "  <tbody>\n",
              "    <tr>\n",
              "      <th>0</th>\n",
              "      <td>Calls on retards</td>\n",
              "      <td>Retardation is on the menu boys! WSB is so back</td>\n",
              "      <td>-1.0</td>\n",
              "    </tr>\n",
              "    <tr>\n",
              "      <th>1</th>\n",
              "      <td>Stunt as in like why did they even make a big ...</td>\n",
              "      <td>Retail giant TARGET has now declined for 10 co...</td>\n",
              "      <td>0.0</td>\n",
              "    </tr>\n",
              "    <tr>\n",
              "      <th>2</th>\n",
              "      <td>Seeing lots of red in the ticker.</td>\n",
              "      <td>How do you feel about a sitting president maki...</td>\n",
              "      <td>0.0</td>\n",
              "    </tr>\n",
              "    <tr>\n",
              "      <th>3</th>\n",
              "      <td>Vision Marine Technologies Inc. is rewriting t...</td>\n",
              "      <td>Who knows more? $VMAR</td>\n",
              "      <td>1.0</td>\n",
              "    </tr>\n",
              "    <tr>\n",
              "      <th>4</th>\n",
              "      <td>He didn’t say thank you.</td>\n",
              "      <td>The Trump administration is begging Xi Jinping...</td>\n",
              "      <td>-1.0</td>\n",
              "    </tr>\n",
              "    <tr>\n",
              "      <th>5</th>\n",
              "      <td>Hoping to ejaculate in wet warm puss tonight, ...</td>\n",
              "      <td>Weekend Discussion Thread for the Weekend of A...</td>\n",
              "      <td>0.0</td>\n",
              "    </tr>\n",
              "    <tr>\n",
              "      <th>6</th>\n",
              "      <td>Trump will respond to china increasing their t...</td>\n",
              "      <td>Is the market in complete denial right now?</td>\n",
              "      <td>-1.0</td>\n",
              "    </tr>\n",
              "    <tr>\n",
              "      <th>7</th>\n",
              "      <td>Confirmed not a trap. Its been like this for p...</td>\n",
              "      <td>Retardation is on the menu boys! WSB is so back</td>\n",
              "      <td>0.0</td>\n",
              "    </tr>\n",
              "    <tr>\n",
              "      <th>8</th>\n",
              "      <td>Am I the only one seeing the cup &amp; handle brea...</td>\n",
              "      <td>It's fucking awful seeing the \"Silver\" misinfo...</td>\n",
              "      <td>1.0</td>\n",
              "    </tr>\n",
              "    <tr>\n",
              "      <th>9</th>\n",
              "      <td>HLGN is $10. Hurry and catch it now before it ...</td>\n",
              "      <td>Any cheap stocks under $10?</td>\n",
              "      <td>1.0</td>\n",
              "    </tr>\n",
              "  </tbody>\n",
              "</table>\n",
              "</div>\n",
              "    <div class=\"colab-df-buttons\">\n",
              "\n",
              "  <div class=\"colab-df-container\">\n",
              "    <button class=\"colab-df-convert\" onclick=\"convertToInteractive('df-923c1a5d-633c-424b-82cf-3cc4ed1c5be3')\"\n",
              "            title=\"Convert this dataframe to an interactive table.\"\n",
              "            style=\"display:none;\">\n",
              "\n",
              "  <svg xmlns=\"http://www.w3.org/2000/svg\" height=\"24px\" viewBox=\"0 -960 960 960\">\n",
              "    <path d=\"M120-120v-720h720v720H120Zm60-500h600v-160H180v160Zm220 220h160v-160H400v160Zm0 220h160v-160H400v160ZM180-400h160v-160H180v160Zm440 0h160v-160H620v160ZM180-180h160v-160H180v160Zm440 0h160v-160H620v160Z\"/>\n",
              "  </svg>\n",
              "    </button>\n",
              "\n",
              "  <style>\n",
              "    .colab-df-container {\n",
              "      display:flex;\n",
              "      gap: 12px;\n",
              "    }\n",
              "\n",
              "    .colab-df-convert {\n",
              "      background-color: #E8F0FE;\n",
              "      border: none;\n",
              "      border-radius: 50%;\n",
              "      cursor: pointer;\n",
              "      display: none;\n",
              "      fill: #1967D2;\n",
              "      height: 32px;\n",
              "      padding: 0 0 0 0;\n",
              "      width: 32px;\n",
              "    }\n",
              "\n",
              "    .colab-df-convert:hover {\n",
              "      background-color: #E2EBFA;\n",
              "      box-shadow: 0px 1px 2px rgba(60, 64, 67, 0.3), 0px 1px 3px 1px rgba(60, 64, 67, 0.15);\n",
              "      fill: #174EA6;\n",
              "    }\n",
              "\n",
              "    .colab-df-buttons div {\n",
              "      margin-bottom: 4px;\n",
              "    }\n",
              "\n",
              "    [theme=dark] .colab-df-convert {\n",
              "      background-color: #3B4455;\n",
              "      fill: #D2E3FC;\n",
              "    }\n",
              "\n",
              "    [theme=dark] .colab-df-convert:hover {\n",
              "      background-color: #434B5C;\n",
              "      box-shadow: 0px 1px 3px 1px rgba(0, 0, 0, 0.15);\n",
              "      filter: drop-shadow(0px 1px 2px rgba(0, 0, 0, 0.3));\n",
              "      fill: #FFFFFF;\n",
              "    }\n",
              "  </style>\n",
              "\n",
              "    <script>\n",
              "      const buttonEl =\n",
              "        document.querySelector('#df-923c1a5d-633c-424b-82cf-3cc4ed1c5be3 button.colab-df-convert');\n",
              "      buttonEl.style.display =\n",
              "        google.colab.kernel.accessAllowed ? 'block' : 'none';\n",
              "\n",
              "      async function convertToInteractive(key) {\n",
              "        const element = document.querySelector('#df-923c1a5d-633c-424b-82cf-3cc4ed1c5be3');\n",
              "        const dataTable =\n",
              "          await google.colab.kernel.invokeFunction('convertToInteractive',\n",
              "                                                    [key], {});\n",
              "        if (!dataTable) return;\n",
              "\n",
              "        const docLinkHtml = 'Like what you see? Visit the ' +\n",
              "          '<a target=\"_blank\" href=https://colab.research.google.com/notebooks/data_table.ipynb>data table notebook</a>'\n",
              "          + ' to learn more about interactive tables.';\n",
              "        element.innerHTML = '';\n",
              "        dataTable['output_type'] = 'display_data';\n",
              "        await google.colab.output.renderOutput(dataTable, element);\n",
              "        const docLink = document.createElement('div');\n",
              "        docLink.innerHTML = docLinkHtml;\n",
              "        element.appendChild(docLink);\n",
              "      }\n",
              "    </script>\n",
              "  </div>\n",
              "\n",
              "\n",
              "    <div id=\"df-a3f6cc06-f133-4c4c-9e4d-fdb6b70f875a\">\n",
              "      <button class=\"colab-df-quickchart\" onclick=\"quickchart('df-a3f6cc06-f133-4c4c-9e4d-fdb6b70f875a')\"\n",
              "                title=\"Suggest charts\"\n",
              "                style=\"display:none;\">\n",
              "\n",
              "<svg xmlns=\"http://www.w3.org/2000/svg\" height=\"24px\"viewBox=\"0 0 24 24\"\n",
              "     width=\"24px\">\n",
              "    <g>\n",
              "        <path d=\"M19 3H5c-1.1 0-2 .9-2 2v14c0 1.1.9 2 2 2h14c1.1 0 2-.9 2-2V5c0-1.1-.9-2-2-2zM9 17H7v-7h2v7zm4 0h-2V7h2v10zm4 0h-2v-4h2v4z\"/>\n",
              "    </g>\n",
              "</svg>\n",
              "      </button>\n",
              "\n",
              "<style>\n",
              "  .colab-df-quickchart {\n",
              "      --bg-color: #E8F0FE;\n",
              "      --fill-color: #1967D2;\n",
              "      --hover-bg-color: #E2EBFA;\n",
              "      --hover-fill-color: #174EA6;\n",
              "      --disabled-fill-color: #AAA;\n",
              "      --disabled-bg-color: #DDD;\n",
              "  }\n",
              "\n",
              "  [theme=dark] .colab-df-quickchart {\n",
              "      --bg-color: #3B4455;\n",
              "      --fill-color: #D2E3FC;\n",
              "      --hover-bg-color: #434B5C;\n",
              "      --hover-fill-color: #FFFFFF;\n",
              "      --disabled-bg-color: #3B4455;\n",
              "      --disabled-fill-color: #666;\n",
              "  }\n",
              "\n",
              "  .colab-df-quickchart {\n",
              "    background-color: var(--bg-color);\n",
              "    border: none;\n",
              "    border-radius: 50%;\n",
              "    cursor: pointer;\n",
              "    display: none;\n",
              "    fill: var(--fill-color);\n",
              "    height: 32px;\n",
              "    padding: 0;\n",
              "    width: 32px;\n",
              "  }\n",
              "\n",
              "  .colab-df-quickchart:hover {\n",
              "    background-color: var(--hover-bg-color);\n",
              "    box-shadow: 0 1px 2px rgba(60, 64, 67, 0.3), 0 1px 3px 1px rgba(60, 64, 67, 0.15);\n",
              "    fill: var(--button-hover-fill-color);\n",
              "  }\n",
              "\n",
              "  .colab-df-quickchart-complete:disabled,\n",
              "  .colab-df-quickchart-complete:disabled:hover {\n",
              "    background-color: var(--disabled-bg-color);\n",
              "    fill: var(--disabled-fill-color);\n",
              "    box-shadow: none;\n",
              "  }\n",
              "\n",
              "  .colab-df-spinner {\n",
              "    border: 2px solid var(--fill-color);\n",
              "    border-color: transparent;\n",
              "    border-bottom-color: var(--fill-color);\n",
              "    animation:\n",
              "      spin 1s steps(1) infinite;\n",
              "  }\n",
              "\n",
              "  @keyframes spin {\n",
              "    0% {\n",
              "      border-color: transparent;\n",
              "      border-bottom-color: var(--fill-color);\n",
              "      border-left-color: var(--fill-color);\n",
              "    }\n",
              "    20% {\n",
              "      border-color: transparent;\n",
              "      border-left-color: var(--fill-color);\n",
              "      border-top-color: var(--fill-color);\n",
              "    }\n",
              "    30% {\n",
              "      border-color: transparent;\n",
              "      border-left-color: var(--fill-color);\n",
              "      border-top-color: var(--fill-color);\n",
              "      border-right-color: var(--fill-color);\n",
              "    }\n",
              "    40% {\n",
              "      border-color: transparent;\n",
              "      border-right-color: var(--fill-color);\n",
              "      border-top-color: var(--fill-color);\n",
              "    }\n",
              "    60% {\n",
              "      border-color: transparent;\n",
              "      border-right-color: var(--fill-color);\n",
              "    }\n",
              "    80% {\n",
              "      border-color: transparent;\n",
              "      border-right-color: var(--fill-color);\n",
              "      border-bottom-color: var(--fill-color);\n",
              "    }\n",
              "    90% {\n",
              "      border-color: transparent;\n",
              "      border-bottom-color: var(--fill-color);\n",
              "    }\n",
              "  }\n",
              "</style>\n",
              "\n",
              "      <script>\n",
              "        async function quickchart(key) {\n",
              "          const quickchartButtonEl =\n",
              "            document.querySelector('#' + key + ' button');\n",
              "          quickchartButtonEl.disabled = true;  // To prevent multiple clicks.\n",
              "          quickchartButtonEl.classList.add('colab-df-spinner');\n",
              "          try {\n",
              "            const charts = await google.colab.kernel.invokeFunction(\n",
              "                'suggestCharts', [key], {});\n",
              "          } catch (error) {\n",
              "            console.error('Error during call to suggestCharts:', error);\n",
              "          }\n",
              "          quickchartButtonEl.classList.remove('colab-df-spinner');\n",
              "          quickchartButtonEl.classList.add('colab-df-quickchart-complete');\n",
              "        }\n",
              "        (() => {\n",
              "          let quickchartButtonEl =\n",
              "            document.querySelector('#df-a3f6cc06-f133-4c4c-9e4d-fdb6b70f875a button');\n",
              "          quickchartButtonEl.style.display =\n",
              "            google.colab.kernel.accessAllowed ? 'block' : 'none';\n",
              "        })();\n",
              "      </script>\n",
              "    </div>\n",
              "\n",
              "    </div>\n",
              "  </div>\n"
            ],
            "application/vnd.google.colaboratory.intrinsic+json": {
              "type": "dataframe",
              "summary": "{\n  \"name\": \"df[:10][[\\\"text\\\",\\\"title\\\",\\\"label\\\"]]\",\n  \"rows\": 10,\n  \"fields\": [\n    {\n      \"column\": \"text\",\n      \"properties\": {\n        \"dtype\": \"string\",\n        \"num_unique_values\": 10,\n        \"samples\": [\n          \"Am I the only one seeing the cup & handle breakout here? 52 week high? Third Green Day? The pivot was on Thursday. Perfectly held the base trend line to a new high. Follow the technicals folks.\",\n          \"Stunt as in like why did they even make a big deal about starting it in the first place? No company should ever talk about politics ever.\",\n          \"Hoping to ejaculate in wet warm puss tonight, wish me luck\"\n        ],\n        \"semantic_type\": \"\",\n        \"description\": \"\"\n      }\n    },\n    {\n      \"column\": \"title\",\n      \"properties\": {\n        \"dtype\": \"string\",\n        \"num_unique_values\": 9,\n        \"samples\": [\n          \"It's fucking awful seeing the \\\"Silver\\\" misinformation campaign everywhere I look\",\n          \"Retail giant TARGET has now declined for 10 consecutive weeks, its longest losing streak in history\",\n          \"Weekend Discussion Thread for the Weekend of April 11, 2025\"\n        ],\n        \"semantic_type\": \"\",\n        \"description\": \"\"\n      }\n    },\n    {\n      \"column\": \"label\",\n      \"properties\": {\n        \"dtype\": \"number\",\n        \"std\": 0.816496580927726,\n        \"min\": -1.0,\n        \"max\": 1.0,\n        \"num_unique_values\": 3,\n        \"samples\": [\n          -1.0,\n          0.0,\n          1.0\n        ],\n        \"semantic_type\": \"\",\n        \"description\": \"\"\n      }\n    }\n  ]\n}"
            }
          },
          "metadata": {},
          "execution_count": 44
        }
      ]
    },
    {
      "cell_type": "code",
      "source": [
        "df.loc[:10, 'text']"
      ],
      "metadata": {
        "colab": {
          "base_uri": "https://localhost:8080/",
          "height": 429
        },
        "id": "KuZ4hixvOezM",
        "outputId": "6c03310f-f1d9-45f1-cd6a-53e6bda871ef"
      },
      "execution_count": 48,
      "outputs": [
        {
          "output_type": "execute_result",
          "data": {
            "text/plain": [
              "0                                      Calls on retards\n",
              "1     Stunt as in like why did they even make a big ...\n",
              "2                     Seeing lots of red in the ticker.\n",
              "3     Vision Marine Technologies Inc. is rewriting t...\n",
              "4                              He didn’t say thank you.\n",
              "5     Hoping to ejaculate in wet warm puss tonight, ...\n",
              "6     Trump will respond to china increasing their t...\n",
              "7     Confirmed not a trap. Its been like this for p...\n",
              "8     Am I the only one seeing the cup & handle brea...\n",
              "9     HLGN is $10. Hurry and catch it now before it ...\n",
              "10         It's a copy/paste from a Bloomberg terminal.\n",
              "Name: text, dtype: object"
            ],
            "text/html": [
              "<div>\n",
              "<style scoped>\n",
              "    .dataframe tbody tr th:only-of-type {\n",
              "        vertical-align: middle;\n",
              "    }\n",
              "\n",
              "    .dataframe tbody tr th {\n",
              "        vertical-align: top;\n",
              "    }\n",
              "\n",
              "    .dataframe thead th {\n",
              "        text-align: right;\n",
              "    }\n",
              "</style>\n",
              "<table border=\"1\" class=\"dataframe\">\n",
              "  <thead>\n",
              "    <tr style=\"text-align: right;\">\n",
              "      <th></th>\n",
              "      <th>text</th>\n",
              "    </tr>\n",
              "  </thead>\n",
              "  <tbody>\n",
              "    <tr>\n",
              "      <th>0</th>\n",
              "      <td>Calls on retards</td>\n",
              "    </tr>\n",
              "    <tr>\n",
              "      <th>1</th>\n",
              "      <td>Stunt as in like why did they even make a big ...</td>\n",
              "    </tr>\n",
              "    <tr>\n",
              "      <th>2</th>\n",
              "      <td>Seeing lots of red in the ticker.</td>\n",
              "    </tr>\n",
              "    <tr>\n",
              "      <th>3</th>\n",
              "      <td>Vision Marine Technologies Inc. is rewriting t...</td>\n",
              "    </tr>\n",
              "    <tr>\n",
              "      <th>4</th>\n",
              "      <td>He didn’t say thank you.</td>\n",
              "    </tr>\n",
              "    <tr>\n",
              "      <th>5</th>\n",
              "      <td>Hoping to ejaculate in wet warm puss tonight, ...</td>\n",
              "    </tr>\n",
              "    <tr>\n",
              "      <th>6</th>\n",
              "      <td>Trump will respond to china increasing their t...</td>\n",
              "    </tr>\n",
              "    <tr>\n",
              "      <th>7</th>\n",
              "      <td>Confirmed not a trap. Its been like this for p...</td>\n",
              "    </tr>\n",
              "    <tr>\n",
              "      <th>8</th>\n",
              "      <td>Am I the only one seeing the cup &amp; handle brea...</td>\n",
              "    </tr>\n",
              "    <tr>\n",
              "      <th>9</th>\n",
              "      <td>HLGN is $10. Hurry and catch it now before it ...</td>\n",
              "    </tr>\n",
              "    <tr>\n",
              "      <th>10</th>\n",
              "      <td>It's a copy/paste from a Bloomberg terminal.</td>\n",
              "    </tr>\n",
              "  </tbody>\n",
              "</table>\n",
              "</div><br><label><b>dtype:</b> object</label>"
            ]
          },
          "metadata": {},
          "execution_count": 48
        }
      ]
    },
    {
      "cell_type": "code",
      "source": [
        "df.iloc[:10, 0]"
      ],
      "metadata": {
        "colab": {
          "base_uri": "https://localhost:8080/",
          "height": 397
        },
        "id": "B-FetLVjVoHv",
        "outputId": "52640c46-731e-44c2-d341-a5bb9a9a729b"
      },
      "execution_count": 49,
      "outputs": [
        {
          "output_type": "execute_result",
          "data": {
            "text/plain": [
              "0    comment\n",
              "1    comment\n",
              "2    comment\n",
              "3       post\n",
              "4    comment\n",
              "5    comment\n",
              "6    comment\n",
              "7    comment\n",
              "8    comment\n",
              "9    comment\n",
              "Name: type, dtype: object"
            ],
            "text/html": [
              "<div>\n",
              "<style scoped>\n",
              "    .dataframe tbody tr th:only-of-type {\n",
              "        vertical-align: middle;\n",
              "    }\n",
              "\n",
              "    .dataframe tbody tr th {\n",
              "        vertical-align: top;\n",
              "    }\n",
              "\n",
              "    .dataframe thead th {\n",
              "        text-align: right;\n",
              "    }\n",
              "</style>\n",
              "<table border=\"1\" class=\"dataframe\">\n",
              "  <thead>\n",
              "    <tr style=\"text-align: right;\">\n",
              "      <th></th>\n",
              "      <th>type</th>\n",
              "    </tr>\n",
              "  </thead>\n",
              "  <tbody>\n",
              "    <tr>\n",
              "      <th>0</th>\n",
              "      <td>comment</td>\n",
              "    </tr>\n",
              "    <tr>\n",
              "      <th>1</th>\n",
              "      <td>comment</td>\n",
              "    </tr>\n",
              "    <tr>\n",
              "      <th>2</th>\n",
              "      <td>comment</td>\n",
              "    </tr>\n",
              "    <tr>\n",
              "      <th>3</th>\n",
              "      <td>post</td>\n",
              "    </tr>\n",
              "    <tr>\n",
              "      <th>4</th>\n",
              "      <td>comment</td>\n",
              "    </tr>\n",
              "    <tr>\n",
              "      <th>5</th>\n",
              "      <td>comment</td>\n",
              "    </tr>\n",
              "    <tr>\n",
              "      <th>6</th>\n",
              "      <td>comment</td>\n",
              "    </tr>\n",
              "    <tr>\n",
              "      <th>7</th>\n",
              "      <td>comment</td>\n",
              "    </tr>\n",
              "    <tr>\n",
              "      <th>8</th>\n",
              "      <td>comment</td>\n",
              "    </tr>\n",
              "    <tr>\n",
              "      <th>9</th>\n",
              "      <td>comment</td>\n",
              "    </tr>\n",
              "  </tbody>\n",
              "</table>\n",
              "</div><br><label><b>dtype:</b> object</label>"
            ]
          },
          "metadata": {},
          "execution_count": 49
        }
      ]
    },
    {
      "cell_type": "code",
      "source": [
        "df.isnull()"
      ],
      "metadata": {
        "colab": {
          "base_uri": "https://localhost:8080/",
          "height": 443
        },
        "id": "vVp1CHWEV7Nd",
        "outputId": "20f299e7-2751-479c-ecfb-d10febe6f12e"
      },
      "execution_count": 50,
      "outputs": [
        {
          "output_type": "execute_result",
          "data": {
            "text/plain": [
              "      type  datetime  post_id  subreddit  title  author    url  upvotes  \\\n",
              "0    False     False    False      False  False   False  False    False   \n",
              "1    False     False    False      False  False   False  False    False   \n",
              "2    False     False    False      False  False   False  False    False   \n",
              "3    False     False    False      False  False   False  False    False   \n",
              "4    False     False    False      False  False   False  False    False   \n",
              "..     ...       ...      ...        ...    ...     ...    ...      ...   \n",
              "842  False     False    False      False  False   False  False    False   \n",
              "843  False     False    False      False  False   False  False    False   \n",
              "844  False     False    False      False  False   False  False    False   \n",
              "845  False     False    False      False  False   False  False    False   \n",
              "846  False     False    False      False  False   False  False    False   \n",
              "\n",
              "     downvotes  upvote_ratio   text  subjectivity  polarity  sentiment  \\\n",
              "0         True          True  False         False     False      False   \n",
              "1         True          True  False         False     False      False   \n",
              "2         True          True  False         False     False      False   \n",
              "3        False         False  False         False     False      False   \n",
              "4         True          True  False         False     False      False   \n",
              "..         ...           ...    ...           ...       ...        ...   \n",
              "842       True          True  False         False     False      False   \n",
              "843       True          True  False         False     False      False   \n",
              "844      False         False  False         False     False      False   \n",
              "845       True          True  False         False     False      False   \n",
              "846       True          True  False         False     False      False   \n",
              "\n",
              "     entities  label  nothing  \n",
              "0       False  False    False  \n",
              "1       False  False    False  \n",
              "2       False  False    False  \n",
              "3       False  False    False  \n",
              "4       False  False    False  \n",
              "..        ...    ...      ...  \n",
              "842     False  False    False  \n",
              "843     False  False    False  \n",
              "844     False  False    False  \n",
              "845     False  False    False  \n",
              "846     False  False    False  \n",
              "\n",
              "[847 rows x 17 columns]"
            ],
            "text/html": [
              "\n",
              "  <div id=\"df-09721d0b-00bf-4456-9834-47cd5ecb4b90\" class=\"colab-df-container\">\n",
              "    <div>\n",
              "<style scoped>\n",
              "    .dataframe tbody tr th:only-of-type {\n",
              "        vertical-align: middle;\n",
              "    }\n",
              "\n",
              "    .dataframe tbody tr th {\n",
              "        vertical-align: top;\n",
              "    }\n",
              "\n",
              "    .dataframe thead th {\n",
              "        text-align: right;\n",
              "    }\n",
              "</style>\n",
              "<table border=\"1\" class=\"dataframe\">\n",
              "  <thead>\n",
              "    <tr style=\"text-align: right;\">\n",
              "      <th></th>\n",
              "      <th>type</th>\n",
              "      <th>datetime</th>\n",
              "      <th>post_id</th>\n",
              "      <th>subreddit</th>\n",
              "      <th>title</th>\n",
              "      <th>author</th>\n",
              "      <th>url</th>\n",
              "      <th>upvotes</th>\n",
              "      <th>downvotes</th>\n",
              "      <th>upvote_ratio</th>\n",
              "      <th>text</th>\n",
              "      <th>subjectivity</th>\n",
              "      <th>polarity</th>\n",
              "      <th>sentiment</th>\n",
              "      <th>entities</th>\n",
              "      <th>label</th>\n",
              "      <th>nothing</th>\n",
              "    </tr>\n",
              "  </thead>\n",
              "  <tbody>\n",
              "    <tr>\n",
              "      <th>0</th>\n",
              "      <td>False</td>\n",
              "      <td>False</td>\n",
              "      <td>False</td>\n",
              "      <td>False</td>\n",
              "      <td>False</td>\n",
              "      <td>False</td>\n",
              "      <td>False</td>\n",
              "      <td>False</td>\n",
              "      <td>True</td>\n",
              "      <td>True</td>\n",
              "      <td>False</td>\n",
              "      <td>False</td>\n",
              "      <td>False</td>\n",
              "      <td>False</td>\n",
              "      <td>False</td>\n",
              "      <td>False</td>\n",
              "      <td>False</td>\n",
              "    </tr>\n",
              "    <tr>\n",
              "      <th>1</th>\n",
              "      <td>False</td>\n",
              "      <td>False</td>\n",
              "      <td>False</td>\n",
              "      <td>False</td>\n",
              "      <td>False</td>\n",
              "      <td>False</td>\n",
              "      <td>False</td>\n",
              "      <td>False</td>\n",
              "      <td>True</td>\n",
              "      <td>True</td>\n",
              "      <td>False</td>\n",
              "      <td>False</td>\n",
              "      <td>False</td>\n",
              "      <td>False</td>\n",
              "      <td>False</td>\n",
              "      <td>False</td>\n",
              "      <td>False</td>\n",
              "    </tr>\n",
              "    <tr>\n",
              "      <th>2</th>\n",
              "      <td>False</td>\n",
              "      <td>False</td>\n",
              "      <td>False</td>\n",
              "      <td>False</td>\n",
              "      <td>False</td>\n",
              "      <td>False</td>\n",
              "      <td>False</td>\n",
              "      <td>False</td>\n",
              "      <td>True</td>\n",
              "      <td>True</td>\n",
              "      <td>False</td>\n",
              "      <td>False</td>\n",
              "      <td>False</td>\n",
              "      <td>False</td>\n",
              "      <td>False</td>\n",
              "      <td>False</td>\n",
              "      <td>False</td>\n",
              "    </tr>\n",
              "    <tr>\n",
              "      <th>3</th>\n",
              "      <td>False</td>\n",
              "      <td>False</td>\n",
              "      <td>False</td>\n",
              "      <td>False</td>\n",
              "      <td>False</td>\n",
              "      <td>False</td>\n",
              "      <td>False</td>\n",
              "      <td>False</td>\n",
              "      <td>False</td>\n",
              "      <td>False</td>\n",
              "      <td>False</td>\n",
              "      <td>False</td>\n",
              "      <td>False</td>\n",
              "      <td>False</td>\n",
              "      <td>False</td>\n",
              "      <td>False</td>\n",
              "      <td>False</td>\n",
              "    </tr>\n",
              "    <tr>\n",
              "      <th>4</th>\n",
              "      <td>False</td>\n",
              "      <td>False</td>\n",
              "      <td>False</td>\n",
              "      <td>False</td>\n",
              "      <td>False</td>\n",
              "      <td>False</td>\n",
              "      <td>False</td>\n",
              "      <td>False</td>\n",
              "      <td>True</td>\n",
              "      <td>True</td>\n",
              "      <td>False</td>\n",
              "      <td>False</td>\n",
              "      <td>False</td>\n",
              "      <td>False</td>\n",
              "      <td>False</td>\n",
              "      <td>False</td>\n",
              "      <td>False</td>\n",
              "    </tr>\n",
              "    <tr>\n",
              "      <th>...</th>\n",
              "      <td>...</td>\n",
              "      <td>...</td>\n",
              "      <td>...</td>\n",
              "      <td>...</td>\n",
              "      <td>...</td>\n",
              "      <td>...</td>\n",
              "      <td>...</td>\n",
              "      <td>...</td>\n",
              "      <td>...</td>\n",
              "      <td>...</td>\n",
              "      <td>...</td>\n",
              "      <td>...</td>\n",
              "      <td>...</td>\n",
              "      <td>...</td>\n",
              "      <td>...</td>\n",
              "      <td>...</td>\n",
              "      <td>...</td>\n",
              "    </tr>\n",
              "    <tr>\n",
              "      <th>842</th>\n",
              "      <td>False</td>\n",
              "      <td>False</td>\n",
              "      <td>False</td>\n",
              "      <td>False</td>\n",
              "      <td>False</td>\n",
              "      <td>False</td>\n",
              "      <td>False</td>\n",
              "      <td>False</td>\n",
              "      <td>True</td>\n",
              "      <td>True</td>\n",
              "      <td>False</td>\n",
              "      <td>False</td>\n",
              "      <td>False</td>\n",
              "      <td>False</td>\n",
              "      <td>False</td>\n",
              "      <td>False</td>\n",
              "      <td>False</td>\n",
              "    </tr>\n",
              "    <tr>\n",
              "      <th>843</th>\n",
              "      <td>False</td>\n",
              "      <td>False</td>\n",
              "      <td>False</td>\n",
              "      <td>False</td>\n",
              "      <td>False</td>\n",
              "      <td>False</td>\n",
              "      <td>False</td>\n",
              "      <td>False</td>\n",
              "      <td>True</td>\n",
              "      <td>True</td>\n",
              "      <td>False</td>\n",
              "      <td>False</td>\n",
              "      <td>False</td>\n",
              "      <td>False</td>\n",
              "      <td>False</td>\n",
              "      <td>False</td>\n",
              "      <td>False</td>\n",
              "    </tr>\n",
              "    <tr>\n",
              "      <th>844</th>\n",
              "      <td>False</td>\n",
              "      <td>False</td>\n",
              "      <td>False</td>\n",
              "      <td>False</td>\n",
              "      <td>False</td>\n",
              "      <td>False</td>\n",
              "      <td>False</td>\n",
              "      <td>False</td>\n",
              "      <td>False</td>\n",
              "      <td>False</td>\n",
              "      <td>False</td>\n",
              "      <td>False</td>\n",
              "      <td>False</td>\n",
              "      <td>False</td>\n",
              "      <td>False</td>\n",
              "      <td>False</td>\n",
              "      <td>False</td>\n",
              "    </tr>\n",
              "    <tr>\n",
              "      <th>845</th>\n",
              "      <td>False</td>\n",
              "      <td>False</td>\n",
              "      <td>False</td>\n",
              "      <td>False</td>\n",
              "      <td>False</td>\n",
              "      <td>False</td>\n",
              "      <td>False</td>\n",
              "      <td>False</td>\n",
              "      <td>True</td>\n",
              "      <td>True</td>\n",
              "      <td>False</td>\n",
              "      <td>False</td>\n",
              "      <td>False</td>\n",
              "      <td>False</td>\n",
              "      <td>False</td>\n",
              "      <td>False</td>\n",
              "      <td>False</td>\n",
              "    </tr>\n",
              "    <tr>\n",
              "      <th>846</th>\n",
              "      <td>False</td>\n",
              "      <td>False</td>\n",
              "      <td>False</td>\n",
              "      <td>False</td>\n",
              "      <td>False</td>\n",
              "      <td>False</td>\n",
              "      <td>False</td>\n",
              "      <td>False</td>\n",
              "      <td>True</td>\n",
              "      <td>True</td>\n",
              "      <td>False</td>\n",
              "      <td>False</td>\n",
              "      <td>False</td>\n",
              "      <td>False</td>\n",
              "      <td>False</td>\n",
              "      <td>False</td>\n",
              "      <td>False</td>\n",
              "    </tr>\n",
              "  </tbody>\n",
              "</table>\n",
              "<p>847 rows × 17 columns</p>\n",
              "</div>\n",
              "    <div class=\"colab-df-buttons\">\n",
              "\n",
              "  <div class=\"colab-df-container\">\n",
              "    <button class=\"colab-df-convert\" onclick=\"convertToInteractive('df-09721d0b-00bf-4456-9834-47cd5ecb4b90')\"\n",
              "            title=\"Convert this dataframe to an interactive table.\"\n",
              "            style=\"display:none;\">\n",
              "\n",
              "  <svg xmlns=\"http://www.w3.org/2000/svg\" height=\"24px\" viewBox=\"0 -960 960 960\">\n",
              "    <path d=\"M120-120v-720h720v720H120Zm60-500h600v-160H180v160Zm220 220h160v-160H400v160Zm0 220h160v-160H400v160ZM180-400h160v-160H180v160Zm440 0h160v-160H620v160ZM180-180h160v-160H180v160Zm440 0h160v-160H620v160Z\"/>\n",
              "  </svg>\n",
              "    </button>\n",
              "\n",
              "  <style>\n",
              "    .colab-df-container {\n",
              "      display:flex;\n",
              "      gap: 12px;\n",
              "    }\n",
              "\n",
              "    .colab-df-convert {\n",
              "      background-color: #E8F0FE;\n",
              "      border: none;\n",
              "      border-radius: 50%;\n",
              "      cursor: pointer;\n",
              "      display: none;\n",
              "      fill: #1967D2;\n",
              "      height: 32px;\n",
              "      padding: 0 0 0 0;\n",
              "      width: 32px;\n",
              "    }\n",
              "\n",
              "    .colab-df-convert:hover {\n",
              "      background-color: #E2EBFA;\n",
              "      box-shadow: 0px 1px 2px rgba(60, 64, 67, 0.3), 0px 1px 3px 1px rgba(60, 64, 67, 0.15);\n",
              "      fill: #174EA6;\n",
              "    }\n",
              "\n",
              "    .colab-df-buttons div {\n",
              "      margin-bottom: 4px;\n",
              "    }\n",
              "\n",
              "    [theme=dark] .colab-df-convert {\n",
              "      background-color: #3B4455;\n",
              "      fill: #D2E3FC;\n",
              "    }\n",
              "\n",
              "    [theme=dark] .colab-df-convert:hover {\n",
              "      background-color: #434B5C;\n",
              "      box-shadow: 0px 1px 3px 1px rgba(0, 0, 0, 0.15);\n",
              "      filter: drop-shadow(0px 1px 2px rgba(0, 0, 0, 0.3));\n",
              "      fill: #FFFFFF;\n",
              "    }\n",
              "  </style>\n",
              "\n",
              "    <script>\n",
              "      const buttonEl =\n",
              "        document.querySelector('#df-09721d0b-00bf-4456-9834-47cd5ecb4b90 button.colab-df-convert');\n",
              "      buttonEl.style.display =\n",
              "        google.colab.kernel.accessAllowed ? 'block' : 'none';\n",
              "\n",
              "      async function convertToInteractive(key) {\n",
              "        const element = document.querySelector('#df-09721d0b-00bf-4456-9834-47cd5ecb4b90');\n",
              "        const dataTable =\n",
              "          await google.colab.kernel.invokeFunction('convertToInteractive',\n",
              "                                                    [key], {});\n",
              "        if (!dataTable) return;\n",
              "\n",
              "        const docLinkHtml = 'Like what you see? Visit the ' +\n",
              "          '<a target=\"_blank\" href=https://colab.research.google.com/notebooks/data_table.ipynb>data table notebook</a>'\n",
              "          + ' to learn more about interactive tables.';\n",
              "        element.innerHTML = '';\n",
              "        dataTable['output_type'] = 'display_data';\n",
              "        await google.colab.output.renderOutput(dataTable, element);\n",
              "        const docLink = document.createElement('div');\n",
              "        docLink.innerHTML = docLinkHtml;\n",
              "        element.appendChild(docLink);\n",
              "      }\n",
              "    </script>\n",
              "  </div>\n",
              "\n",
              "\n",
              "    <div id=\"df-db424dd5-cfa6-42cf-8278-a2ffa7ca41bb\">\n",
              "      <button class=\"colab-df-quickchart\" onclick=\"quickchart('df-db424dd5-cfa6-42cf-8278-a2ffa7ca41bb')\"\n",
              "                title=\"Suggest charts\"\n",
              "                style=\"display:none;\">\n",
              "\n",
              "<svg xmlns=\"http://www.w3.org/2000/svg\" height=\"24px\"viewBox=\"0 0 24 24\"\n",
              "     width=\"24px\">\n",
              "    <g>\n",
              "        <path d=\"M19 3H5c-1.1 0-2 .9-2 2v14c0 1.1.9 2 2 2h14c1.1 0 2-.9 2-2V5c0-1.1-.9-2-2-2zM9 17H7v-7h2v7zm4 0h-2V7h2v10zm4 0h-2v-4h2v4z\"/>\n",
              "    </g>\n",
              "</svg>\n",
              "      </button>\n",
              "\n",
              "<style>\n",
              "  .colab-df-quickchart {\n",
              "      --bg-color: #E8F0FE;\n",
              "      --fill-color: #1967D2;\n",
              "      --hover-bg-color: #E2EBFA;\n",
              "      --hover-fill-color: #174EA6;\n",
              "      --disabled-fill-color: #AAA;\n",
              "      --disabled-bg-color: #DDD;\n",
              "  }\n",
              "\n",
              "  [theme=dark] .colab-df-quickchart {\n",
              "      --bg-color: #3B4455;\n",
              "      --fill-color: #D2E3FC;\n",
              "      --hover-bg-color: #434B5C;\n",
              "      --hover-fill-color: #FFFFFF;\n",
              "      --disabled-bg-color: #3B4455;\n",
              "      --disabled-fill-color: #666;\n",
              "  }\n",
              "\n",
              "  .colab-df-quickchart {\n",
              "    background-color: var(--bg-color);\n",
              "    border: none;\n",
              "    border-radius: 50%;\n",
              "    cursor: pointer;\n",
              "    display: none;\n",
              "    fill: var(--fill-color);\n",
              "    height: 32px;\n",
              "    padding: 0;\n",
              "    width: 32px;\n",
              "  }\n",
              "\n",
              "  .colab-df-quickchart:hover {\n",
              "    background-color: var(--hover-bg-color);\n",
              "    box-shadow: 0 1px 2px rgba(60, 64, 67, 0.3), 0 1px 3px 1px rgba(60, 64, 67, 0.15);\n",
              "    fill: var(--button-hover-fill-color);\n",
              "  }\n",
              "\n",
              "  .colab-df-quickchart-complete:disabled,\n",
              "  .colab-df-quickchart-complete:disabled:hover {\n",
              "    background-color: var(--disabled-bg-color);\n",
              "    fill: var(--disabled-fill-color);\n",
              "    box-shadow: none;\n",
              "  }\n",
              "\n",
              "  .colab-df-spinner {\n",
              "    border: 2px solid var(--fill-color);\n",
              "    border-color: transparent;\n",
              "    border-bottom-color: var(--fill-color);\n",
              "    animation:\n",
              "      spin 1s steps(1) infinite;\n",
              "  }\n",
              "\n",
              "  @keyframes spin {\n",
              "    0% {\n",
              "      border-color: transparent;\n",
              "      border-bottom-color: var(--fill-color);\n",
              "      border-left-color: var(--fill-color);\n",
              "    }\n",
              "    20% {\n",
              "      border-color: transparent;\n",
              "      border-left-color: var(--fill-color);\n",
              "      border-top-color: var(--fill-color);\n",
              "    }\n",
              "    30% {\n",
              "      border-color: transparent;\n",
              "      border-left-color: var(--fill-color);\n",
              "      border-top-color: var(--fill-color);\n",
              "      border-right-color: var(--fill-color);\n",
              "    }\n",
              "    40% {\n",
              "      border-color: transparent;\n",
              "      border-right-color: var(--fill-color);\n",
              "      border-top-color: var(--fill-color);\n",
              "    }\n",
              "    60% {\n",
              "      border-color: transparent;\n",
              "      border-right-color: var(--fill-color);\n",
              "    }\n",
              "    80% {\n",
              "      border-color: transparent;\n",
              "      border-right-color: var(--fill-color);\n",
              "      border-bottom-color: var(--fill-color);\n",
              "    }\n",
              "    90% {\n",
              "      border-color: transparent;\n",
              "      border-bottom-color: var(--fill-color);\n",
              "    }\n",
              "  }\n",
              "</style>\n",
              "\n",
              "      <script>\n",
              "        async function quickchart(key) {\n",
              "          const quickchartButtonEl =\n",
              "            document.querySelector('#' + key + ' button');\n",
              "          quickchartButtonEl.disabled = true;  // To prevent multiple clicks.\n",
              "          quickchartButtonEl.classList.add('colab-df-spinner');\n",
              "          try {\n",
              "            const charts = await google.colab.kernel.invokeFunction(\n",
              "                'suggestCharts', [key], {});\n",
              "          } catch (error) {\n",
              "            console.error('Error during call to suggestCharts:', error);\n",
              "          }\n",
              "          quickchartButtonEl.classList.remove('colab-df-spinner');\n",
              "          quickchartButtonEl.classList.add('colab-df-quickchart-complete');\n",
              "        }\n",
              "        (() => {\n",
              "          let quickchartButtonEl =\n",
              "            document.querySelector('#df-db424dd5-cfa6-42cf-8278-a2ffa7ca41bb button');\n",
              "          quickchartButtonEl.style.display =\n",
              "            google.colab.kernel.accessAllowed ? 'block' : 'none';\n",
              "        })();\n",
              "      </script>\n",
              "    </div>\n",
              "\n",
              "    </div>\n",
              "  </div>\n"
            ],
            "application/vnd.google.colaboratory.intrinsic+json": {
              "type": "dataframe",
              "summary": "{\n  \"name\": \"df\",\n  \"rows\": 847,\n  \"fields\": [\n    {\n      \"column\": \"type\",\n      \"properties\": {\n        \"dtype\": \"boolean\",\n        \"num_unique_values\": 1,\n        \"samples\": [\n          false\n        ],\n        \"semantic_type\": \"\",\n        \"description\": \"\"\n      }\n    },\n    {\n      \"column\": \"datetime\",\n      \"properties\": {\n        \"dtype\": \"boolean\",\n        \"num_unique_values\": 1,\n        \"samples\": [\n          false\n        ],\n        \"semantic_type\": \"\",\n        \"description\": \"\"\n      }\n    },\n    {\n      \"column\": \"post_id\",\n      \"properties\": {\n        \"dtype\": \"boolean\",\n        \"num_unique_values\": 1,\n        \"samples\": [\n          false\n        ],\n        \"semantic_type\": \"\",\n        \"description\": \"\"\n      }\n    },\n    {\n      \"column\": \"subreddit\",\n      \"properties\": {\n        \"dtype\": \"boolean\",\n        \"num_unique_values\": 1,\n        \"samples\": [\n          false\n        ],\n        \"semantic_type\": \"\",\n        \"description\": \"\"\n      }\n    },\n    {\n      \"column\": \"title\",\n      \"properties\": {\n        \"dtype\": \"boolean\",\n        \"num_unique_values\": 1,\n        \"samples\": [\n          false\n        ],\n        \"semantic_type\": \"\",\n        \"description\": \"\"\n      }\n    },\n    {\n      \"column\": \"author\",\n      \"properties\": {\n        \"dtype\": \"boolean\",\n        \"num_unique_values\": 1,\n        \"samples\": [\n          false\n        ],\n        \"semantic_type\": \"\",\n        \"description\": \"\"\n      }\n    },\n    {\n      \"column\": \"url\",\n      \"properties\": {\n        \"dtype\": \"boolean\",\n        \"num_unique_values\": 1,\n        \"samples\": [\n          false\n        ],\n        \"semantic_type\": \"\",\n        \"description\": \"\"\n      }\n    },\n    {\n      \"column\": \"upvotes\",\n      \"properties\": {\n        \"dtype\": \"boolean\",\n        \"num_unique_values\": 1,\n        \"samples\": [\n          false\n        ],\n        \"semantic_type\": \"\",\n        \"description\": \"\"\n      }\n    },\n    {\n      \"column\": \"downvotes\",\n      \"properties\": {\n        \"dtype\": \"boolean\",\n        \"num_unique_values\": 2,\n        \"samples\": [\n          false\n        ],\n        \"semantic_type\": \"\",\n        \"description\": \"\"\n      }\n    },\n    {\n      \"column\": \"upvote_ratio\",\n      \"properties\": {\n        \"dtype\": \"boolean\",\n        \"num_unique_values\": 2,\n        \"samples\": [\n          false\n        ],\n        \"semantic_type\": \"\",\n        \"description\": \"\"\n      }\n    },\n    {\n      \"column\": \"text\",\n      \"properties\": {\n        \"dtype\": \"boolean\",\n        \"num_unique_values\": 1,\n        \"samples\": [\n          false\n        ],\n        \"semantic_type\": \"\",\n        \"description\": \"\"\n      }\n    },\n    {\n      \"column\": \"subjectivity\",\n      \"properties\": {\n        \"dtype\": \"boolean\",\n        \"num_unique_values\": 1,\n        \"samples\": [\n          false\n        ],\n        \"semantic_type\": \"\",\n        \"description\": \"\"\n      }\n    },\n    {\n      \"column\": \"polarity\",\n      \"properties\": {\n        \"dtype\": \"boolean\",\n        \"num_unique_values\": 1,\n        \"samples\": [\n          false\n        ],\n        \"semantic_type\": \"\",\n        \"description\": \"\"\n      }\n    },\n    {\n      \"column\": \"sentiment\",\n      \"properties\": {\n        \"dtype\": \"boolean\",\n        \"num_unique_values\": 1,\n        \"samples\": [\n          false\n        ],\n        \"semantic_type\": \"\",\n        \"description\": \"\"\n      }\n    },\n    {\n      \"column\": \"entities\",\n      \"properties\": {\n        \"dtype\": \"boolean\",\n        \"num_unique_values\": 1,\n        \"samples\": [\n          false\n        ],\n        \"semantic_type\": \"\",\n        \"description\": \"\"\n      }\n    },\n    {\n      \"column\": \"label\",\n      \"properties\": {\n        \"dtype\": \"boolean\",\n        \"num_unique_values\": 1,\n        \"samples\": [\n          false\n        ],\n        \"semantic_type\": \"\",\n        \"description\": \"\"\n      }\n    },\n    {\n      \"column\": \"nothing\",\n      \"properties\": {\n        \"dtype\": \"boolean\",\n        \"num_unique_values\": 1,\n        \"samples\": [\n          false\n        ],\n        \"semantic_type\": \"\",\n        \"description\": \"\"\n      }\n    }\n  ]\n}"
            }
          },
          "metadata": {},
          "execution_count": 50
        }
      ]
    },
    {
      "cell_type": "code",
      "source": [
        "import helpers.data_mining_helpers as dmh\n",
        "df.isnull().apply(lambda x: dmh.check_missing_values(x))\n",
        "\n",
        "#found downvotes,upvote_ratio has"
      ],
      "metadata": {
        "colab": {
          "base_uri": "https://localhost:8080/",
          "height": 219
        },
        "id": "BqSYsPX4V-ce",
        "outputId": "45c7299c-0955-4c29-d5ae-7c006f6e0396"
      },
      "execution_count": 53,
      "outputs": [
        {
          "output_type": "execute_result",
          "data": {
            "text/plain": [
              "                                 type                            datetime  \\\n",
              "0  The amoung of missing records is:   The amoung of missing records is:    \n",
              "1                                   0                                   0   \n",
              "\n",
              "                              post_id                           subreddit  \\\n",
              "0  The amoung of missing records is:   The amoung of missing records is:    \n",
              "1                                   0                                   0   \n",
              "\n",
              "                                title                              author  \\\n",
              "0  The amoung of missing records is:   The amoung of missing records is:    \n",
              "1                                   0                                   0   \n",
              "\n",
              "                                  url                             upvotes  \\\n",
              "0  The amoung of missing records is:   The amoung of missing records is:    \n",
              "1                                   0                                   0   \n",
              "\n",
              "                            downvotes                        upvote_ratio  \\\n",
              "0  The amoung of missing records is:   The amoung of missing records is:    \n",
              "1                                 783                                 783   \n",
              "\n",
              "                                 text                        subjectivity  \\\n",
              "0  The amoung of missing records is:   The amoung of missing records is:    \n",
              "1                                   0                                   0   \n",
              "\n",
              "                             polarity                           sentiment  \\\n",
              "0  The amoung of missing records is:   The amoung of missing records is:    \n",
              "1                                   0                                   0   \n",
              "\n",
              "                             entities                               label  \\\n",
              "0  The amoung of missing records is:   The amoung of missing records is:    \n",
              "1                                   0                                   0   \n",
              "\n",
              "                              nothing  \n",
              "0  The amoung of missing records is:   \n",
              "1                                   0  "
            ],
            "text/html": [
              "\n",
              "  <div id=\"df-ef035440-79db-4c98-b8ed-d9dd5b226bf2\" class=\"colab-df-container\">\n",
              "    <div>\n",
              "<style scoped>\n",
              "    .dataframe tbody tr th:only-of-type {\n",
              "        vertical-align: middle;\n",
              "    }\n",
              "\n",
              "    .dataframe tbody tr th {\n",
              "        vertical-align: top;\n",
              "    }\n",
              "\n",
              "    .dataframe thead th {\n",
              "        text-align: right;\n",
              "    }\n",
              "</style>\n",
              "<table border=\"1\" class=\"dataframe\">\n",
              "  <thead>\n",
              "    <tr style=\"text-align: right;\">\n",
              "      <th></th>\n",
              "      <th>type</th>\n",
              "      <th>datetime</th>\n",
              "      <th>post_id</th>\n",
              "      <th>subreddit</th>\n",
              "      <th>title</th>\n",
              "      <th>author</th>\n",
              "      <th>url</th>\n",
              "      <th>upvotes</th>\n",
              "      <th>downvotes</th>\n",
              "      <th>upvote_ratio</th>\n",
              "      <th>text</th>\n",
              "      <th>subjectivity</th>\n",
              "      <th>polarity</th>\n",
              "      <th>sentiment</th>\n",
              "      <th>entities</th>\n",
              "      <th>label</th>\n",
              "      <th>nothing</th>\n",
              "    </tr>\n",
              "  </thead>\n",
              "  <tbody>\n",
              "    <tr>\n",
              "      <th>0</th>\n",
              "      <td>The amoung of missing records is:</td>\n",
              "      <td>The amoung of missing records is:</td>\n",
              "      <td>The amoung of missing records is:</td>\n",
              "      <td>The amoung of missing records is:</td>\n",
              "      <td>The amoung of missing records is:</td>\n",
              "      <td>The amoung of missing records is:</td>\n",
              "      <td>The amoung of missing records is:</td>\n",
              "      <td>The amoung of missing records is:</td>\n",
              "      <td>The amoung of missing records is:</td>\n",
              "      <td>The amoung of missing records is:</td>\n",
              "      <td>The amoung of missing records is:</td>\n",
              "      <td>The amoung of missing records is:</td>\n",
              "      <td>The amoung of missing records is:</td>\n",
              "      <td>The amoung of missing records is:</td>\n",
              "      <td>The amoung of missing records is:</td>\n",
              "      <td>The amoung of missing records is:</td>\n",
              "      <td>The amoung of missing records is:</td>\n",
              "    </tr>\n",
              "    <tr>\n",
              "      <th>1</th>\n",
              "      <td>0</td>\n",
              "      <td>0</td>\n",
              "      <td>0</td>\n",
              "      <td>0</td>\n",
              "      <td>0</td>\n",
              "      <td>0</td>\n",
              "      <td>0</td>\n",
              "      <td>0</td>\n",
              "      <td>783</td>\n",
              "      <td>783</td>\n",
              "      <td>0</td>\n",
              "      <td>0</td>\n",
              "      <td>0</td>\n",
              "      <td>0</td>\n",
              "      <td>0</td>\n",
              "      <td>0</td>\n",
              "      <td>0</td>\n",
              "    </tr>\n",
              "  </tbody>\n",
              "</table>\n",
              "</div>\n",
              "    <div class=\"colab-df-buttons\">\n",
              "\n",
              "  <div class=\"colab-df-container\">\n",
              "    <button class=\"colab-df-convert\" onclick=\"convertToInteractive('df-ef035440-79db-4c98-b8ed-d9dd5b226bf2')\"\n",
              "            title=\"Convert this dataframe to an interactive table.\"\n",
              "            style=\"display:none;\">\n",
              "\n",
              "  <svg xmlns=\"http://www.w3.org/2000/svg\" height=\"24px\" viewBox=\"0 -960 960 960\">\n",
              "    <path d=\"M120-120v-720h720v720H120Zm60-500h600v-160H180v160Zm220 220h160v-160H400v160Zm0 220h160v-160H400v160ZM180-400h160v-160H180v160Zm440 0h160v-160H620v160ZM180-180h160v-160H180v160Zm440 0h160v-160H620v160Z\"/>\n",
              "  </svg>\n",
              "    </button>\n",
              "\n",
              "  <style>\n",
              "    .colab-df-container {\n",
              "      display:flex;\n",
              "      gap: 12px;\n",
              "    }\n",
              "\n",
              "    .colab-df-convert {\n",
              "      background-color: #E8F0FE;\n",
              "      border: none;\n",
              "      border-radius: 50%;\n",
              "      cursor: pointer;\n",
              "      display: none;\n",
              "      fill: #1967D2;\n",
              "      height: 32px;\n",
              "      padding: 0 0 0 0;\n",
              "      width: 32px;\n",
              "    }\n",
              "\n",
              "    .colab-df-convert:hover {\n",
              "      background-color: #E2EBFA;\n",
              "      box-shadow: 0px 1px 2px rgba(60, 64, 67, 0.3), 0px 1px 3px 1px rgba(60, 64, 67, 0.15);\n",
              "      fill: #174EA6;\n",
              "    }\n",
              "\n",
              "    .colab-df-buttons div {\n",
              "      margin-bottom: 4px;\n",
              "    }\n",
              "\n",
              "    [theme=dark] .colab-df-convert {\n",
              "      background-color: #3B4455;\n",
              "      fill: #D2E3FC;\n",
              "    }\n",
              "\n",
              "    [theme=dark] .colab-df-convert:hover {\n",
              "      background-color: #434B5C;\n",
              "      box-shadow: 0px 1px 3px 1px rgba(0, 0, 0, 0.15);\n",
              "      filter: drop-shadow(0px 1px 2px rgba(0, 0, 0, 0.3));\n",
              "      fill: #FFFFFF;\n",
              "    }\n",
              "  </style>\n",
              "\n",
              "    <script>\n",
              "      const buttonEl =\n",
              "        document.querySelector('#df-ef035440-79db-4c98-b8ed-d9dd5b226bf2 button.colab-df-convert');\n",
              "      buttonEl.style.display =\n",
              "        google.colab.kernel.accessAllowed ? 'block' : 'none';\n",
              "\n",
              "      async function convertToInteractive(key) {\n",
              "        const element = document.querySelector('#df-ef035440-79db-4c98-b8ed-d9dd5b226bf2');\n",
              "        const dataTable =\n",
              "          await google.colab.kernel.invokeFunction('convertToInteractive',\n",
              "                                                    [key], {});\n",
              "        if (!dataTable) return;\n",
              "\n",
              "        const docLinkHtml = 'Like what you see? Visit the ' +\n",
              "          '<a target=\"_blank\" href=https://colab.research.google.com/notebooks/data_table.ipynb>data table notebook</a>'\n",
              "          + ' to learn more about interactive tables.';\n",
              "        element.innerHTML = '';\n",
              "        dataTable['output_type'] = 'display_data';\n",
              "        await google.colab.output.renderOutput(dataTable, element);\n",
              "        const docLink = document.createElement('div');\n",
              "        docLink.innerHTML = docLinkHtml;\n",
              "        element.appendChild(docLink);\n",
              "      }\n",
              "    </script>\n",
              "  </div>\n",
              "\n",
              "\n",
              "    <div id=\"df-ea2cfefa-e07b-42bd-b9bc-80bfc6217266\">\n",
              "      <button class=\"colab-df-quickchart\" onclick=\"quickchart('df-ea2cfefa-e07b-42bd-b9bc-80bfc6217266')\"\n",
              "                title=\"Suggest charts\"\n",
              "                style=\"display:none;\">\n",
              "\n",
              "<svg xmlns=\"http://www.w3.org/2000/svg\" height=\"24px\"viewBox=\"0 0 24 24\"\n",
              "     width=\"24px\">\n",
              "    <g>\n",
              "        <path d=\"M19 3H5c-1.1 0-2 .9-2 2v14c0 1.1.9 2 2 2h14c1.1 0 2-.9 2-2V5c0-1.1-.9-2-2-2zM9 17H7v-7h2v7zm4 0h-2V7h2v10zm4 0h-2v-4h2v4z\"/>\n",
              "    </g>\n",
              "</svg>\n",
              "      </button>\n",
              "\n",
              "<style>\n",
              "  .colab-df-quickchart {\n",
              "      --bg-color: #E8F0FE;\n",
              "      --fill-color: #1967D2;\n",
              "      --hover-bg-color: #E2EBFA;\n",
              "      --hover-fill-color: #174EA6;\n",
              "      --disabled-fill-color: #AAA;\n",
              "      --disabled-bg-color: #DDD;\n",
              "  }\n",
              "\n",
              "  [theme=dark] .colab-df-quickchart {\n",
              "      --bg-color: #3B4455;\n",
              "      --fill-color: #D2E3FC;\n",
              "      --hover-bg-color: #434B5C;\n",
              "      --hover-fill-color: #FFFFFF;\n",
              "      --disabled-bg-color: #3B4455;\n",
              "      --disabled-fill-color: #666;\n",
              "  }\n",
              "\n",
              "  .colab-df-quickchart {\n",
              "    background-color: var(--bg-color);\n",
              "    border: none;\n",
              "    border-radius: 50%;\n",
              "    cursor: pointer;\n",
              "    display: none;\n",
              "    fill: var(--fill-color);\n",
              "    height: 32px;\n",
              "    padding: 0;\n",
              "    width: 32px;\n",
              "  }\n",
              "\n",
              "  .colab-df-quickchart:hover {\n",
              "    background-color: var(--hover-bg-color);\n",
              "    box-shadow: 0 1px 2px rgba(60, 64, 67, 0.3), 0 1px 3px 1px rgba(60, 64, 67, 0.15);\n",
              "    fill: var(--button-hover-fill-color);\n",
              "  }\n",
              "\n",
              "  .colab-df-quickchart-complete:disabled,\n",
              "  .colab-df-quickchart-complete:disabled:hover {\n",
              "    background-color: var(--disabled-bg-color);\n",
              "    fill: var(--disabled-fill-color);\n",
              "    box-shadow: none;\n",
              "  }\n",
              "\n",
              "  .colab-df-spinner {\n",
              "    border: 2px solid var(--fill-color);\n",
              "    border-color: transparent;\n",
              "    border-bottom-color: var(--fill-color);\n",
              "    animation:\n",
              "      spin 1s steps(1) infinite;\n",
              "  }\n",
              "\n",
              "  @keyframes spin {\n",
              "    0% {\n",
              "      border-color: transparent;\n",
              "      border-bottom-color: var(--fill-color);\n",
              "      border-left-color: var(--fill-color);\n",
              "    }\n",
              "    20% {\n",
              "      border-color: transparent;\n",
              "      border-left-color: var(--fill-color);\n",
              "      border-top-color: var(--fill-color);\n",
              "    }\n",
              "    30% {\n",
              "      border-color: transparent;\n",
              "      border-left-color: var(--fill-color);\n",
              "      border-top-color: var(--fill-color);\n",
              "      border-right-color: var(--fill-color);\n",
              "    }\n",
              "    40% {\n",
              "      border-color: transparent;\n",
              "      border-right-color: var(--fill-color);\n",
              "      border-top-color: var(--fill-color);\n",
              "    }\n",
              "    60% {\n",
              "      border-color: transparent;\n",
              "      border-right-color: var(--fill-color);\n",
              "    }\n",
              "    80% {\n",
              "      border-color: transparent;\n",
              "      border-right-color: var(--fill-color);\n",
              "      border-bottom-color: var(--fill-color);\n",
              "    }\n",
              "    90% {\n",
              "      border-color: transparent;\n",
              "      border-bottom-color: var(--fill-color);\n",
              "    }\n",
              "  }\n",
              "</style>\n",
              "\n",
              "      <script>\n",
              "        async function quickchart(key) {\n",
              "          const quickchartButtonEl =\n",
              "            document.querySelector('#' + key + ' button');\n",
              "          quickchartButtonEl.disabled = true;  // To prevent multiple clicks.\n",
              "          quickchartButtonEl.classList.add('colab-df-spinner');\n",
              "          try {\n",
              "            const charts = await google.colab.kernel.invokeFunction(\n",
              "                'suggestCharts', [key], {});\n",
              "          } catch (error) {\n",
              "            console.error('Error during call to suggestCharts:', error);\n",
              "          }\n",
              "          quickchartButtonEl.classList.remove('colab-df-spinner');\n",
              "          quickchartButtonEl.classList.add('colab-df-quickchart-complete');\n",
              "        }\n",
              "        (() => {\n",
              "          let quickchartButtonEl =\n",
              "            document.querySelector('#df-ea2cfefa-e07b-42bd-b9bc-80bfc6217266 button');\n",
              "          quickchartButtonEl.style.display =\n",
              "            google.colab.kernel.accessAllowed ? 'block' : 'none';\n",
              "        })();\n",
              "      </script>\n",
              "    </div>\n",
              "\n",
              "    </div>\n",
              "  </div>\n"
            ],
            "application/vnd.google.colaboratory.intrinsic+json": {
              "type": "dataframe",
              "summary": "{\n  \"name\": \"df\",\n  \"rows\": 2,\n  \"fields\": [\n    {\n      \"column\": \"type\",\n      \"properties\": {\n        \"dtype\": \"string\",\n        \"num_unique_values\": 2,\n        \"samples\": [\n          0,\n          \"The amoung of missing records is: \"\n        ],\n        \"semantic_type\": \"\",\n        \"description\": \"\"\n      }\n    },\n    {\n      \"column\": \"datetime\",\n      \"properties\": {\n        \"dtype\": \"string\",\n        \"num_unique_values\": 2,\n        \"samples\": [\n          0,\n          \"The amoung of missing records is: \"\n        ],\n        \"semantic_type\": \"\",\n        \"description\": \"\"\n      }\n    },\n    {\n      \"column\": \"post_id\",\n      \"properties\": {\n        \"dtype\": \"string\",\n        \"num_unique_values\": 2,\n        \"samples\": [\n          0,\n          \"The amoung of missing records is: \"\n        ],\n        \"semantic_type\": \"\",\n        \"description\": \"\"\n      }\n    },\n    {\n      \"column\": \"subreddit\",\n      \"properties\": {\n        \"dtype\": \"string\",\n        \"num_unique_values\": 2,\n        \"samples\": [\n          0,\n          \"The amoung of missing records is: \"\n        ],\n        \"semantic_type\": \"\",\n        \"description\": \"\"\n      }\n    },\n    {\n      \"column\": \"title\",\n      \"properties\": {\n        \"dtype\": \"string\",\n        \"num_unique_values\": 2,\n        \"samples\": [\n          0,\n          \"The amoung of missing records is: \"\n        ],\n        \"semantic_type\": \"\",\n        \"description\": \"\"\n      }\n    },\n    {\n      \"column\": \"author\",\n      \"properties\": {\n        \"dtype\": \"string\",\n        \"num_unique_values\": 2,\n        \"samples\": [\n          0,\n          \"The amoung of missing records is: \"\n        ],\n        \"semantic_type\": \"\",\n        \"description\": \"\"\n      }\n    },\n    {\n      \"column\": \"url\",\n      \"properties\": {\n        \"dtype\": \"string\",\n        \"num_unique_values\": 2,\n        \"samples\": [\n          0,\n          \"The amoung of missing records is: \"\n        ],\n        \"semantic_type\": \"\",\n        \"description\": \"\"\n      }\n    },\n    {\n      \"column\": \"upvotes\",\n      \"properties\": {\n        \"dtype\": \"string\",\n        \"num_unique_values\": 2,\n        \"samples\": [\n          0,\n          \"The amoung of missing records is: \"\n        ],\n        \"semantic_type\": \"\",\n        \"description\": \"\"\n      }\n    },\n    {\n      \"column\": \"downvotes\",\n      \"properties\": {\n        \"dtype\": \"string\",\n        \"num_unique_values\": 2,\n        \"samples\": [\n          783,\n          \"The amoung of missing records is: \"\n        ],\n        \"semantic_type\": \"\",\n        \"description\": \"\"\n      }\n    },\n    {\n      \"column\": \"upvote_ratio\",\n      \"properties\": {\n        \"dtype\": \"string\",\n        \"num_unique_values\": 2,\n        \"samples\": [\n          783,\n          \"The amoung of missing records is: \"\n        ],\n        \"semantic_type\": \"\",\n        \"description\": \"\"\n      }\n    },\n    {\n      \"column\": \"text\",\n      \"properties\": {\n        \"dtype\": \"string\",\n        \"num_unique_values\": 2,\n        \"samples\": [\n          0,\n          \"The amoung of missing records is: \"\n        ],\n        \"semantic_type\": \"\",\n        \"description\": \"\"\n      }\n    },\n    {\n      \"column\": \"subjectivity\",\n      \"properties\": {\n        \"dtype\": \"string\",\n        \"num_unique_values\": 2,\n        \"samples\": [\n          0,\n          \"The amoung of missing records is: \"\n        ],\n        \"semantic_type\": \"\",\n        \"description\": \"\"\n      }\n    },\n    {\n      \"column\": \"polarity\",\n      \"properties\": {\n        \"dtype\": \"string\",\n        \"num_unique_values\": 2,\n        \"samples\": [\n          0,\n          \"The amoung of missing records is: \"\n        ],\n        \"semantic_type\": \"\",\n        \"description\": \"\"\n      }\n    },\n    {\n      \"column\": \"sentiment\",\n      \"properties\": {\n        \"dtype\": \"string\",\n        \"num_unique_values\": 2,\n        \"samples\": [\n          0,\n          \"The amoung of missing records is: \"\n        ],\n        \"semantic_type\": \"\",\n        \"description\": \"\"\n      }\n    },\n    {\n      \"column\": \"entities\",\n      \"properties\": {\n        \"dtype\": \"string\",\n        \"num_unique_values\": 2,\n        \"samples\": [\n          0,\n          \"The amoung of missing records is: \"\n        ],\n        \"semantic_type\": \"\",\n        \"description\": \"\"\n      }\n    },\n    {\n      \"column\": \"label\",\n      \"properties\": {\n        \"dtype\": \"string\",\n        \"num_unique_values\": 2,\n        \"samples\": [\n          0,\n          \"The amoung of missing records is: \"\n        ],\n        \"semantic_type\": \"\",\n        \"description\": \"\"\n      }\n    },\n    {\n      \"column\": \"nothing\",\n      \"properties\": {\n        \"dtype\": \"string\",\n        \"num_unique_values\": 2,\n        \"samples\": [\n          0,\n          \"The amoung of missing records is: \"\n        ],\n        \"semantic_type\": \"\",\n        \"description\": \"\"\n      }\n    }\n  ]\n}"
            }
          },
          "metadata": {},
          "execution_count": 53
        }
      ]
    },
    {
      "cell_type": "code",
      "source": [
        "print(df['downvotes'].unique())\n",
        "print(df['upvote_ratio'].unique())\n"
      ],
      "metadata": {
        "colab": {
          "base_uri": "https://localhost:8080/"
        },
        "id": "zY1g7aGtV-g0",
        "outputId": "b83a3311-b4da-406b-96ee-fe42cd3bbd30"
      },
      "execution_count": 55,
      "outputs": [
        {
          "output_type": "stream",
          "name": "stdout",
          "text": [
            "[nan  0.  4. 11.  1.]\n",
            "[ nan 0.98 1.   0.95 0.92 0.91 0.99 0.93 0.5  0.84]\n"
          ]
        }
      ]
    },
    {
      "cell_type": "code",
      "source": [
        "df['downvotes'].value_counts()"
      ],
      "metadata": {
        "colab": {
          "base_uri": "https://localhost:8080/",
          "height": 241
        },
        "id": "5LxA1L7gV7P2",
        "outputId": "e85ad511-98c7-47f6-b9c2-c518d5a84131"
      },
      "execution_count": 56,
      "outputs": [
        {
          "output_type": "execute_result",
          "data": {
            "text/plain": [
              "downvotes\n",
              "0.0     60\n",
              "1.0      2\n",
              "4.0      1\n",
              "11.0     1\n",
              "Name: count, dtype: int64"
            ],
            "text/html": [
              "<div>\n",
              "<style scoped>\n",
              "    .dataframe tbody tr th:only-of-type {\n",
              "        vertical-align: middle;\n",
              "    }\n",
              "\n",
              "    .dataframe tbody tr th {\n",
              "        vertical-align: top;\n",
              "    }\n",
              "\n",
              "    .dataframe thead th {\n",
              "        text-align: right;\n",
              "    }\n",
              "</style>\n",
              "<table border=\"1\" class=\"dataframe\">\n",
              "  <thead>\n",
              "    <tr style=\"text-align: right;\">\n",
              "      <th></th>\n",
              "      <th>count</th>\n",
              "    </tr>\n",
              "    <tr>\n",
              "      <th>downvotes</th>\n",
              "      <th></th>\n",
              "    </tr>\n",
              "  </thead>\n",
              "  <tbody>\n",
              "    <tr>\n",
              "      <th>0.0</th>\n",
              "      <td>60</td>\n",
              "    </tr>\n",
              "    <tr>\n",
              "      <th>1.0</th>\n",
              "      <td>2</td>\n",
              "    </tr>\n",
              "    <tr>\n",
              "      <th>4.0</th>\n",
              "      <td>1</td>\n",
              "    </tr>\n",
              "    <tr>\n",
              "      <th>11.0</th>\n",
              "      <td>1</td>\n",
              "    </tr>\n",
              "  </tbody>\n",
              "</table>\n",
              "</div><br><label><b>dtype:</b> int64</label>"
            ]
          },
          "metadata": {},
          "execution_count": 56
        }
      ]
    },
    {
      "cell_type": "code",
      "source": [
        "df['upvote_ratio'].value_counts()"
      ],
      "metadata": {
        "colab": {
          "base_uri": "https://localhost:8080/",
          "height": 397
        },
        "id": "d_UPErTDV7SY",
        "outputId": "9ef2fb05-151f-4fcc-9b35-0f70456deb5c"
      },
      "execution_count": 57,
      "outputs": [
        {
          "output_type": "execute_result",
          "data": {
            "text/plain": [
              "upvote_ratio\n",
              "1.00    52\n",
              "0.91     3\n",
              "0.98     2\n",
              "0.99     2\n",
              "0.95     1\n",
              "0.92     1\n",
              "0.93     1\n",
              "0.50     1\n",
              "0.84     1\n",
              "Name: count, dtype: int64"
            ],
            "text/html": [
              "<div>\n",
              "<style scoped>\n",
              "    .dataframe tbody tr th:only-of-type {\n",
              "        vertical-align: middle;\n",
              "    }\n",
              "\n",
              "    .dataframe tbody tr th {\n",
              "        vertical-align: top;\n",
              "    }\n",
              "\n",
              "    .dataframe thead th {\n",
              "        text-align: right;\n",
              "    }\n",
              "</style>\n",
              "<table border=\"1\" class=\"dataframe\">\n",
              "  <thead>\n",
              "    <tr style=\"text-align: right;\">\n",
              "      <th></th>\n",
              "      <th>count</th>\n",
              "    </tr>\n",
              "    <tr>\n",
              "      <th>upvote_ratio</th>\n",
              "      <th></th>\n",
              "    </tr>\n",
              "  </thead>\n",
              "  <tbody>\n",
              "    <tr>\n",
              "      <th>1.00</th>\n",
              "      <td>52</td>\n",
              "    </tr>\n",
              "    <tr>\n",
              "      <th>0.91</th>\n",
              "      <td>3</td>\n",
              "    </tr>\n",
              "    <tr>\n",
              "      <th>0.98</th>\n",
              "      <td>2</td>\n",
              "    </tr>\n",
              "    <tr>\n",
              "      <th>0.99</th>\n",
              "      <td>2</td>\n",
              "    </tr>\n",
              "    <tr>\n",
              "      <th>0.95</th>\n",
              "      <td>1</td>\n",
              "    </tr>\n",
              "    <tr>\n",
              "      <th>0.92</th>\n",
              "      <td>1</td>\n",
              "    </tr>\n",
              "    <tr>\n",
              "      <th>0.93</th>\n",
              "      <td>1</td>\n",
              "    </tr>\n",
              "    <tr>\n",
              "      <th>0.50</th>\n",
              "      <td>1</td>\n",
              "    </tr>\n",
              "    <tr>\n",
              "      <th>0.84</th>\n",
              "      <td>1</td>\n",
              "    </tr>\n",
              "  </tbody>\n",
              "</table>\n",
              "</div><br><label><b>dtype:</b> int64</label>"
            ]
          },
          "metadata": {},
          "execution_count": 57
        }
      ]
    },
    {
      "cell_type": "code",
      "source": [
        "df['downvotes'] = df['downvotes'].fillna(float(0.0))\n",
        "df['upvote_ratio'] = df['upvote_ratio'].fillna(float(1.00))"
      ],
      "metadata": {
        "id": "Mg3p9j6yZmf8"
      },
      "execution_count": 64,
      "outputs": []
    },
    {
      "cell_type": "code",
      "source": [
        "sum(df.duplicated())"
      ],
      "metadata": {
        "colab": {
          "base_uri": "https://localhost:8080/"
        },
        "id": "Dsyz7nuzV7Ur",
        "outputId": "460d441f-8985-4676-d542-9d1e8c728fba"
      },
      "execution_count": 62,
      "outputs": [
        {
          "output_type": "execute_result",
          "data": {
            "text/plain": [
              "0"
            ]
          },
          "metadata": {},
          "execution_count": 62
        }
      ]
    },
    {
      "cell_type": "code",
      "source": [
        "df_sample = df.sample(n=len(df)//2) # Sample all rows"
      ],
      "metadata": {
        "id": "3O-hyoFFV7XA"
      },
      "execution_count": 67,
      "outputs": []
    },
    {
      "cell_type": "code",
      "source": [
        "len(df_sample)"
      ],
      "metadata": {
        "colab": {
          "base_uri": "https://localhost:8080/"
        },
        "id": "5o-PyRg-V7ZR",
        "outputId": "91561bd8-fd07-40c6-eaf9-9274c2baa00c"
      },
      "execution_count": 68,
      "outputs": [
        {
          "output_type": "execute_result",
          "data": {
            "text/plain": [
              "423"
            ]
          },
          "metadata": {},
          "execution_count": 68
        }
      ]
    },
    {
      "cell_type": "code",
      "source": [
        "df_sample[0:4]"
      ],
      "metadata": {
        "id": "Ixyuv7fyV7bQ"
      },
      "execution_count": null,
      "outputs": []
    },
    {
      "cell_type": "code",
      "source": [
        "df_sample.isnull().apply(lambda x: dmh.check_missing_values(x))"
      ],
      "metadata": {
        "colab": {
          "base_uri": "https://localhost:8080/",
          "height": 219
        },
        "id": "yEU1uGhfV7f_",
        "outputId": "68997bbf-03cc-4f31-a2d3-9ca79e971cd0"
      },
      "execution_count": 72,
      "outputs": [
        {
          "output_type": "execute_result",
          "data": {
            "text/plain": [
              "                                 type                            datetime  \\\n",
              "0  The amoung of missing records is:   The amoung of missing records is:    \n",
              "1                                   0                                   0   \n",
              "\n",
              "                              post_id                           subreddit  \\\n",
              "0  The amoung of missing records is:   The amoung of missing records is:    \n",
              "1                                   0                                   0   \n",
              "\n",
              "                                title                              author  \\\n",
              "0  The amoung of missing records is:   The amoung of missing records is:    \n",
              "1                                   0                                   0   \n",
              "\n",
              "                                  url                             upvotes  \\\n",
              "0  The amoung of missing records is:   The amoung of missing records is:    \n",
              "1                                   0                                   0   \n",
              "\n",
              "                            downvotes                        upvote_ratio  \\\n",
              "0  The amoung of missing records is:   The amoung of missing records is:    \n",
              "1                                   0                                   0   \n",
              "\n",
              "                                 text                        subjectivity  \\\n",
              "0  The amoung of missing records is:   The amoung of missing records is:    \n",
              "1                                   0                                   0   \n",
              "\n",
              "                             polarity                           sentiment  \\\n",
              "0  The amoung of missing records is:   The amoung of missing records is:    \n",
              "1                                   0                                   0   \n",
              "\n",
              "                             entities                               label  \\\n",
              "0  The amoung of missing records is:   The amoung of missing records is:    \n",
              "1                                   0                                   0   \n",
              "\n",
              "                              nothing  \n",
              "0  The amoung of missing records is:   \n",
              "1                                   0  "
            ],
            "text/html": [
              "\n",
              "  <div id=\"df-938172a5-da24-48e2-b943-1772c1c9ab24\" class=\"colab-df-container\">\n",
              "    <div>\n",
              "<style scoped>\n",
              "    .dataframe tbody tr th:only-of-type {\n",
              "        vertical-align: middle;\n",
              "    }\n",
              "\n",
              "    .dataframe tbody tr th {\n",
              "        vertical-align: top;\n",
              "    }\n",
              "\n",
              "    .dataframe thead th {\n",
              "        text-align: right;\n",
              "    }\n",
              "</style>\n",
              "<table border=\"1\" class=\"dataframe\">\n",
              "  <thead>\n",
              "    <tr style=\"text-align: right;\">\n",
              "      <th></th>\n",
              "      <th>type</th>\n",
              "      <th>datetime</th>\n",
              "      <th>post_id</th>\n",
              "      <th>subreddit</th>\n",
              "      <th>title</th>\n",
              "      <th>author</th>\n",
              "      <th>url</th>\n",
              "      <th>upvotes</th>\n",
              "      <th>downvotes</th>\n",
              "      <th>upvote_ratio</th>\n",
              "      <th>text</th>\n",
              "      <th>subjectivity</th>\n",
              "      <th>polarity</th>\n",
              "      <th>sentiment</th>\n",
              "      <th>entities</th>\n",
              "      <th>label</th>\n",
              "      <th>nothing</th>\n",
              "    </tr>\n",
              "  </thead>\n",
              "  <tbody>\n",
              "    <tr>\n",
              "      <th>0</th>\n",
              "      <td>The amoung of missing records is:</td>\n",
              "      <td>The amoung of missing records is:</td>\n",
              "      <td>The amoung of missing records is:</td>\n",
              "      <td>The amoung of missing records is:</td>\n",
              "      <td>The amoung of missing records is:</td>\n",
              "      <td>The amoung of missing records is:</td>\n",
              "      <td>The amoung of missing records is:</td>\n",
              "      <td>The amoung of missing records is:</td>\n",
              "      <td>The amoung of missing records is:</td>\n",
              "      <td>The amoung of missing records is:</td>\n",
              "      <td>The amoung of missing records is:</td>\n",
              "      <td>The amoung of missing records is:</td>\n",
              "      <td>The amoung of missing records is:</td>\n",
              "      <td>The amoung of missing records is:</td>\n",
              "      <td>The amoung of missing records is:</td>\n",
              "      <td>The amoung of missing records is:</td>\n",
              "      <td>The amoung of missing records is:</td>\n",
              "    </tr>\n",
              "    <tr>\n",
              "      <th>1</th>\n",
              "      <td>0</td>\n",
              "      <td>0</td>\n",
              "      <td>0</td>\n",
              "      <td>0</td>\n",
              "      <td>0</td>\n",
              "      <td>0</td>\n",
              "      <td>0</td>\n",
              "      <td>0</td>\n",
              "      <td>0</td>\n",
              "      <td>0</td>\n",
              "      <td>0</td>\n",
              "      <td>0</td>\n",
              "      <td>0</td>\n",
              "      <td>0</td>\n",
              "      <td>0</td>\n",
              "      <td>0</td>\n",
              "      <td>0</td>\n",
              "    </tr>\n",
              "  </tbody>\n",
              "</table>\n",
              "</div>\n",
              "    <div class=\"colab-df-buttons\">\n",
              "\n",
              "  <div class=\"colab-df-container\">\n",
              "    <button class=\"colab-df-convert\" onclick=\"convertToInteractive('df-938172a5-da24-48e2-b943-1772c1c9ab24')\"\n",
              "            title=\"Convert this dataframe to an interactive table.\"\n",
              "            style=\"display:none;\">\n",
              "\n",
              "  <svg xmlns=\"http://www.w3.org/2000/svg\" height=\"24px\" viewBox=\"0 -960 960 960\">\n",
              "    <path d=\"M120-120v-720h720v720H120Zm60-500h600v-160H180v160Zm220 220h160v-160H400v160Zm0 220h160v-160H400v160ZM180-400h160v-160H180v160Zm440 0h160v-160H620v160ZM180-180h160v-160H180v160Zm440 0h160v-160H620v160Z\"/>\n",
              "  </svg>\n",
              "    </button>\n",
              "\n",
              "  <style>\n",
              "    .colab-df-container {\n",
              "      display:flex;\n",
              "      gap: 12px;\n",
              "    }\n",
              "\n",
              "    .colab-df-convert {\n",
              "      background-color: #E8F0FE;\n",
              "      border: none;\n",
              "      border-radius: 50%;\n",
              "      cursor: pointer;\n",
              "      display: none;\n",
              "      fill: #1967D2;\n",
              "      height: 32px;\n",
              "      padding: 0 0 0 0;\n",
              "      width: 32px;\n",
              "    }\n",
              "\n",
              "    .colab-df-convert:hover {\n",
              "      background-color: #E2EBFA;\n",
              "      box-shadow: 0px 1px 2px rgba(60, 64, 67, 0.3), 0px 1px 3px 1px rgba(60, 64, 67, 0.15);\n",
              "      fill: #174EA6;\n",
              "    }\n",
              "\n",
              "    .colab-df-buttons div {\n",
              "      margin-bottom: 4px;\n",
              "    }\n",
              "\n",
              "    [theme=dark] .colab-df-convert {\n",
              "      background-color: #3B4455;\n",
              "      fill: #D2E3FC;\n",
              "    }\n",
              "\n",
              "    [theme=dark] .colab-df-convert:hover {\n",
              "      background-color: #434B5C;\n",
              "      box-shadow: 0px 1px 3px 1px rgba(0, 0, 0, 0.15);\n",
              "      filter: drop-shadow(0px 1px 2px rgba(0, 0, 0, 0.3));\n",
              "      fill: #FFFFFF;\n",
              "    }\n",
              "  </style>\n",
              "\n",
              "    <script>\n",
              "      const buttonEl =\n",
              "        document.querySelector('#df-938172a5-da24-48e2-b943-1772c1c9ab24 button.colab-df-convert');\n",
              "      buttonEl.style.display =\n",
              "        google.colab.kernel.accessAllowed ? 'block' : 'none';\n",
              "\n",
              "      async function convertToInteractive(key) {\n",
              "        const element = document.querySelector('#df-938172a5-da24-48e2-b943-1772c1c9ab24');\n",
              "        const dataTable =\n",
              "          await google.colab.kernel.invokeFunction('convertToInteractive',\n",
              "                                                    [key], {});\n",
              "        if (!dataTable) return;\n",
              "\n",
              "        const docLinkHtml = 'Like what you see? Visit the ' +\n",
              "          '<a target=\"_blank\" href=https://colab.research.google.com/notebooks/data_table.ipynb>data table notebook</a>'\n",
              "          + ' to learn more about interactive tables.';\n",
              "        element.innerHTML = '';\n",
              "        dataTable['output_type'] = 'display_data';\n",
              "        await google.colab.output.renderOutput(dataTable, element);\n",
              "        const docLink = document.createElement('div');\n",
              "        docLink.innerHTML = docLinkHtml;\n",
              "        element.appendChild(docLink);\n",
              "      }\n",
              "    </script>\n",
              "  </div>\n",
              "\n",
              "\n",
              "    <div id=\"df-4461b194-1d70-4f70-905e-30cf35a052fc\">\n",
              "      <button class=\"colab-df-quickchart\" onclick=\"quickchart('df-4461b194-1d70-4f70-905e-30cf35a052fc')\"\n",
              "                title=\"Suggest charts\"\n",
              "                style=\"display:none;\">\n",
              "\n",
              "<svg xmlns=\"http://www.w3.org/2000/svg\" height=\"24px\"viewBox=\"0 0 24 24\"\n",
              "     width=\"24px\">\n",
              "    <g>\n",
              "        <path d=\"M19 3H5c-1.1 0-2 .9-2 2v14c0 1.1.9 2 2 2h14c1.1 0 2-.9 2-2V5c0-1.1-.9-2-2-2zM9 17H7v-7h2v7zm4 0h-2V7h2v10zm4 0h-2v-4h2v4z\"/>\n",
              "    </g>\n",
              "</svg>\n",
              "      </button>\n",
              "\n",
              "<style>\n",
              "  .colab-df-quickchart {\n",
              "      --bg-color: #E8F0FE;\n",
              "      --fill-color: #1967D2;\n",
              "      --hover-bg-color: #E2EBFA;\n",
              "      --hover-fill-color: #174EA6;\n",
              "      --disabled-fill-color: #AAA;\n",
              "      --disabled-bg-color: #DDD;\n",
              "  }\n",
              "\n",
              "  [theme=dark] .colab-df-quickchart {\n",
              "      --bg-color: #3B4455;\n",
              "      --fill-color: #D2E3FC;\n",
              "      --hover-bg-color: #434B5C;\n",
              "      --hover-fill-color: #FFFFFF;\n",
              "      --disabled-bg-color: #3B4455;\n",
              "      --disabled-fill-color: #666;\n",
              "  }\n",
              "\n",
              "  .colab-df-quickchart {\n",
              "    background-color: var(--bg-color);\n",
              "    border: none;\n",
              "    border-radius: 50%;\n",
              "    cursor: pointer;\n",
              "    display: none;\n",
              "    fill: var(--fill-color);\n",
              "    height: 32px;\n",
              "    padding: 0;\n",
              "    width: 32px;\n",
              "  }\n",
              "\n",
              "  .colab-df-quickchart:hover {\n",
              "    background-color: var(--hover-bg-color);\n",
              "    box-shadow: 0 1px 2px rgba(60, 64, 67, 0.3), 0 1px 3px 1px rgba(60, 64, 67, 0.15);\n",
              "    fill: var(--button-hover-fill-color);\n",
              "  }\n",
              "\n",
              "  .colab-df-quickchart-complete:disabled,\n",
              "  .colab-df-quickchart-complete:disabled:hover {\n",
              "    background-color: var(--disabled-bg-color);\n",
              "    fill: var(--disabled-fill-color);\n",
              "    box-shadow: none;\n",
              "  }\n",
              "\n",
              "  .colab-df-spinner {\n",
              "    border: 2px solid var(--fill-color);\n",
              "    border-color: transparent;\n",
              "    border-bottom-color: var(--fill-color);\n",
              "    animation:\n",
              "      spin 1s steps(1) infinite;\n",
              "  }\n",
              "\n",
              "  @keyframes spin {\n",
              "    0% {\n",
              "      border-color: transparent;\n",
              "      border-bottom-color: var(--fill-color);\n",
              "      border-left-color: var(--fill-color);\n",
              "    }\n",
              "    20% {\n",
              "      border-color: transparent;\n",
              "      border-left-color: var(--fill-color);\n",
              "      border-top-color: var(--fill-color);\n",
              "    }\n",
              "    30% {\n",
              "      border-color: transparent;\n",
              "      border-left-color: var(--fill-color);\n",
              "      border-top-color: var(--fill-color);\n",
              "      border-right-color: var(--fill-color);\n",
              "    }\n",
              "    40% {\n",
              "      border-color: transparent;\n",
              "      border-right-color: var(--fill-color);\n",
              "      border-top-color: var(--fill-color);\n",
              "    }\n",
              "    60% {\n",
              "      border-color: transparent;\n",
              "      border-right-color: var(--fill-color);\n",
              "    }\n",
              "    80% {\n",
              "      border-color: transparent;\n",
              "      border-right-color: var(--fill-color);\n",
              "      border-bottom-color: var(--fill-color);\n",
              "    }\n",
              "    90% {\n",
              "      border-color: transparent;\n",
              "      border-bottom-color: var(--fill-color);\n",
              "    }\n",
              "  }\n",
              "</style>\n",
              "\n",
              "      <script>\n",
              "        async function quickchart(key) {\n",
              "          const quickchartButtonEl =\n",
              "            document.querySelector('#' + key + ' button');\n",
              "          quickchartButtonEl.disabled = true;  // To prevent multiple clicks.\n",
              "          quickchartButtonEl.classList.add('colab-df-spinner');\n",
              "          try {\n",
              "            const charts = await google.colab.kernel.invokeFunction(\n",
              "                'suggestCharts', [key], {});\n",
              "          } catch (error) {\n",
              "            console.error('Error during call to suggestCharts:', error);\n",
              "          }\n",
              "          quickchartButtonEl.classList.remove('colab-df-spinner');\n",
              "          quickchartButtonEl.classList.add('colab-df-quickchart-complete');\n",
              "        }\n",
              "        (() => {\n",
              "          let quickchartButtonEl =\n",
              "            document.querySelector('#df-4461b194-1d70-4f70-905e-30cf35a052fc button');\n",
              "          quickchartButtonEl.style.display =\n",
              "            google.colab.kernel.accessAllowed ? 'block' : 'none';\n",
              "        })();\n",
              "      </script>\n",
              "    </div>\n",
              "\n",
              "    </div>\n",
              "  </div>\n"
            ],
            "application/vnd.google.colaboratory.intrinsic+json": {
              "type": "dataframe",
              "summary": "{\n  \"name\": \"df_sample\",\n  \"rows\": 2,\n  \"fields\": [\n    {\n      \"column\": \"type\",\n      \"properties\": {\n        \"dtype\": \"string\",\n        \"num_unique_values\": 2,\n        \"samples\": [\n          0,\n          \"The amoung of missing records is: \"\n        ],\n        \"semantic_type\": \"\",\n        \"description\": \"\"\n      }\n    },\n    {\n      \"column\": \"datetime\",\n      \"properties\": {\n        \"dtype\": \"string\",\n        \"num_unique_values\": 2,\n        \"samples\": [\n          0,\n          \"The amoung of missing records is: \"\n        ],\n        \"semantic_type\": \"\",\n        \"description\": \"\"\n      }\n    },\n    {\n      \"column\": \"post_id\",\n      \"properties\": {\n        \"dtype\": \"string\",\n        \"num_unique_values\": 2,\n        \"samples\": [\n          0,\n          \"The amoung of missing records is: \"\n        ],\n        \"semantic_type\": \"\",\n        \"description\": \"\"\n      }\n    },\n    {\n      \"column\": \"subreddit\",\n      \"properties\": {\n        \"dtype\": \"string\",\n        \"num_unique_values\": 2,\n        \"samples\": [\n          0,\n          \"The amoung of missing records is: \"\n        ],\n        \"semantic_type\": \"\",\n        \"description\": \"\"\n      }\n    },\n    {\n      \"column\": \"title\",\n      \"properties\": {\n        \"dtype\": \"string\",\n        \"num_unique_values\": 2,\n        \"samples\": [\n          0,\n          \"The amoung of missing records is: \"\n        ],\n        \"semantic_type\": \"\",\n        \"description\": \"\"\n      }\n    },\n    {\n      \"column\": \"author\",\n      \"properties\": {\n        \"dtype\": \"string\",\n        \"num_unique_values\": 2,\n        \"samples\": [\n          0,\n          \"The amoung of missing records is: \"\n        ],\n        \"semantic_type\": \"\",\n        \"description\": \"\"\n      }\n    },\n    {\n      \"column\": \"url\",\n      \"properties\": {\n        \"dtype\": \"string\",\n        \"num_unique_values\": 2,\n        \"samples\": [\n          0,\n          \"The amoung of missing records is: \"\n        ],\n        \"semantic_type\": \"\",\n        \"description\": \"\"\n      }\n    },\n    {\n      \"column\": \"upvotes\",\n      \"properties\": {\n        \"dtype\": \"string\",\n        \"num_unique_values\": 2,\n        \"samples\": [\n          0,\n          \"The amoung of missing records is: \"\n        ],\n        \"semantic_type\": \"\",\n        \"description\": \"\"\n      }\n    },\n    {\n      \"column\": \"downvotes\",\n      \"properties\": {\n        \"dtype\": \"string\",\n        \"num_unique_values\": 2,\n        \"samples\": [\n          0,\n          \"The amoung of missing records is: \"\n        ],\n        \"semantic_type\": \"\",\n        \"description\": \"\"\n      }\n    },\n    {\n      \"column\": \"upvote_ratio\",\n      \"properties\": {\n        \"dtype\": \"string\",\n        \"num_unique_values\": 2,\n        \"samples\": [\n          0,\n          \"The amoung of missing records is: \"\n        ],\n        \"semantic_type\": \"\",\n        \"description\": \"\"\n      }\n    },\n    {\n      \"column\": \"text\",\n      \"properties\": {\n        \"dtype\": \"string\",\n        \"num_unique_values\": 2,\n        \"samples\": [\n          0,\n          \"The amoung of missing records is: \"\n        ],\n        \"semantic_type\": \"\",\n        \"description\": \"\"\n      }\n    },\n    {\n      \"column\": \"subjectivity\",\n      \"properties\": {\n        \"dtype\": \"string\",\n        \"num_unique_values\": 2,\n        \"samples\": [\n          0,\n          \"The amoung of missing records is: \"\n        ],\n        \"semantic_type\": \"\",\n        \"description\": \"\"\n      }\n    },\n    {\n      \"column\": \"polarity\",\n      \"properties\": {\n        \"dtype\": \"string\",\n        \"num_unique_values\": 2,\n        \"samples\": [\n          0,\n          \"The amoung of missing records is: \"\n        ],\n        \"semantic_type\": \"\",\n        \"description\": \"\"\n      }\n    },\n    {\n      \"column\": \"sentiment\",\n      \"properties\": {\n        \"dtype\": \"string\",\n        \"num_unique_values\": 2,\n        \"samples\": [\n          0,\n          \"The amoung of missing records is: \"\n        ],\n        \"semantic_type\": \"\",\n        \"description\": \"\"\n      }\n    },\n    {\n      \"column\": \"entities\",\n      \"properties\": {\n        \"dtype\": \"string\",\n        \"num_unique_values\": 2,\n        \"samples\": [\n          0,\n          \"The amoung of missing records is: \"\n        ],\n        \"semantic_type\": \"\",\n        \"description\": \"\"\n      }\n    },\n    {\n      \"column\": \"label\",\n      \"properties\": {\n        \"dtype\": \"string\",\n        \"num_unique_values\": 2,\n        \"samples\": [\n          0,\n          \"The amoung of missing records is: \"\n        ],\n        \"semantic_type\": \"\",\n        \"description\": \"\"\n      }\n    },\n    {\n      \"column\": \"nothing\",\n      \"properties\": {\n        \"dtype\": \"string\",\n        \"num_unique_values\": 2,\n        \"samples\": [\n          0,\n          \"The amoung of missing records is: \"\n        ],\n        \"semantic_type\": \"\",\n        \"description\": \"\"\n      }\n    }\n  ]\n}"
            }
          },
          "metadata": {},
          "execution_count": 72
        }
      ]
    },
    {
      "cell_type": "code",
      "source": [
        "import matplotlib.pyplot as plt\n",
        "\n",
        "df_sample['label'].value_counts().plot(kind = 'bar',\n",
        "                                    title = 'Category distribution',\n",
        "                                    ylim = [0, 700],\n",
        "                                    rot = 0, fontsize = 11, figsize = (8,3))"
      ],
      "metadata": {
        "colab": {
          "base_uri": "https://localhost:8080/",
          "height": 351
        },
        "id": "FmZpO2MBayiK",
        "outputId": "1fd513e2-f93d-41a3-a29f-34fa7e27b904"
      },
      "execution_count": 77,
      "outputs": [
        {
          "output_type": "execute_result",
          "data": {
            "text/plain": [
              "<Axes: title={'center': 'Category distribution'}, xlabel='label'>"
            ]
          },
          "metadata": {},
          "execution_count": 77
        },
        {
          "output_type": "display_data",
          "data": {
            "text/plain": [
              "<Figure size 800x300 with 1 Axes>"
            ],
            "image/png": "[encoded data removed]"
          },
          "metadata": {}
        }
      ]
    },
    {
      "cell_type": "code",
      "source": [
        "df_sample['sentiment'].value_counts().plot(kind = 'bar',\n",
        "                                    title = 'Category distribution',\n",
        "                                    ylim = [0, 700],\n",
        "                                    rot = 0, fontsize = 11, figsize = (8,3))"
      ],
      "metadata": {
        "colab": {
          "base_uri": "https://localhost:8080/",
          "height": 351
        },
        "id": "sqBnieu7aymD",
        "outputId": "8e4d12a4-fae8-4cdc-c078-a7082cb02c59"
      },
      "execution_count": 78,
      "outputs": [
        {
          "output_type": "execute_result",
          "data": {
            "text/plain": [
              "<Axes: title={'center': 'Category distribution'}, xlabel='sentiment'>"
            ]
          },
          "metadata": {},
          "execution_count": 78
        },
        {
          "output_type": "display_data",
          "data": {
            "text/plain": [
              "<Figure size 800x300 with 1 Axes>"
            ],
            "image/png": "[encoded data removed]"
          },
          "metadata": {}
        }
      ]
    },
    {
      "cell_type": "code",
      "source": [
        "# 取 category 名稱\n",
        "categories = df['label'].value_counts().index\n",
        "\n",
        "# 兩組資料的 counts\n",
        "counts_X = df['label'].value_counts().reindex(categories)\n",
        "counts_X_sample = df_sample['label'].value_counts().reindex(categories)\n",
        "\n",
        "# x 軸位置\n",
        "x = np.arange(len(categories))\n",
        "width = 0.35  # 柱寬\n",
        "\n",
        "fig, ax = plt.subplots(figsize=(10,4))\n",
        "# 畫兩組柱狀圖\n",
        "rects1 = ax.bar((x - width/4), counts_X, width/2, label='label', color='blue')\n",
        "rects2 = ax.bar((x + width/4), counts_X_sample, width/2, label='label', color='orange')\n",
        "\n",
        "# 加標題、x軸標籤\n",
        "ax.set_ylabel('Count')\n",
        "ax.set_title('label distribution comparison')\n",
        "ax.set_xticks(x)\n",
        "ax.set_xticklabels(categories, rotation=0, fontsize=12)\n",
        "ax.set_ylim(0, max(counts_X.max(), counts_X_sample.max()) + 50)\n",
        "ax.legend()\n",
        "\n",
        "plt.show()"
      ],
      "metadata": {
        "colab": {
          "base_uri": "https://localhost:8080/",
          "height": 395
        },
        "id": "whoT8SkRayyT",
        "outputId": "f59c3d30-28d3-4500-b414-9ad89a67835e"
      },
      "execution_count": 79,
      "outputs": [
        {
          "output_type": "display_data",
          "data": {
            "text/plain": [
              "<Figure size 1000x400 with 1 Axes>"
            ],
            "image/png": "[encoded data removed]"
          },
          "metadata": {}
        }
      ]
    },
    {
      "cell_type": "code",
      "source": [
        "import nltk\n",
        "nltk.download(\"punkt\")\n",
        "nltk.download(\"punkt_tab\")"
      ],
      "metadata": {
        "colab": {
          "base_uri": "https://localhost:8080/"
        },
        "id": "BolhKtBYV7iF",
        "outputId": "8d8981a2-aa7c-40d9-ca63-2249aebe2fdb"
      },
      "execution_count": 80,
      "outputs": [
        {
          "output_type": "stream",
          "name": "stderr",
          "text": [
            "[nltk_data] Downloading package punkt to /root/nltk_data...\n",
            "[nltk_data]   Package punkt is already up-to-date!\n",
            "[nltk_data] Downloading package punkt_tab to /root/nltk_data...\n",
            "[nltk_data]   Unzipping tokenizers/punkt_tab.zip.\n"
          ]
        },
        {
          "output_type": "execute_result",
          "data": {
            "text/plain": [
              "True"
            ]
          },
          "metadata": {},
          "execution_count": 80
        }
      ]
    },
    {
      "cell_type": "code",
      "source": [
        "df[0:5]"
      ],
      "metadata": {
        "colab": {
          "base_uri": "https://localhost:8080/",
          "height": 538
        },
        "id": "nOsWYNsZdw_g",
        "outputId": "7fd255dd-081d-4475-c930-db2e6014b13f"
      },
      "execution_count": 82,
      "outputs": [
        {
          "output_type": "execute_result",
          "data": {
            "text/plain": [
              "      type             datetime  post_id         subreddit  \\\n",
              "0  comment  2025-04-11 17:29:56  mmli62w    wallstreetbets   \n",
              "1  comment   2025-04-12 1:12:19  mmnu7v9    wallstreetbets   \n",
              "2  comment  2025-04-10 15:09:41  mmeevio       StockMarket   \n",
              "3     post  2023-08-30 17:12:55  165kllm  stockstobuytoday   \n",
              "4  comment  2025-04-11 14:48:05  mmkl6bw       StockMarket   \n",
              "\n",
              "                                               title                author  \\\n",
              "0    Retardation is on the menu boys! WSB is so back          StickyTip420   \n",
              "1  Retail giant TARGET has now declined for 10 co...  Comfortable-Dog-8437   \n",
              "2  How do you feel about a sitting president maki...          Btankersly66   \n",
              "3                              Who knows more? $VMAR             emiljenfn   \n",
              "4  The Trump administration is begging Xi Jinping...          Just-Big6411   \n",
              "\n",
              "                                                 url  upvotes  downvotes  \\\n",
              "0               https://i.redd.it/0yq2ftren8ue1.jpeg        0        0.0   \n",
              "1               https://i.redd.it/7tl6puv9waue1.jpeg      -15        0.0   \n",
              "2  https://apnews.com/article/trump-truth-social-...        1        0.0   \n",
              "3  https://www.reddit.com/r/stockstobuytoday/comm...       30        0.0   \n",
              "4  https://edition.cnn.com/2025/04/10/politics/tr...        1        0.0   \n",
              "\n",
              "   upvote_ratio                                               text  \\\n",
              "0          1.00                                   Calls on retards   \n",
              "1          1.00  Stunt as in like why did they even make a big ...   \n",
              "2          1.00                  Seeing lots of red in the ticker.   \n",
              "3          0.98  Vision Marine Technologies Inc. is rewriting t...   \n",
              "4          1.00                           He didn’t say thank you.   \n",
              "\n",
              "   subjectivity  polarity  sentiment  \\\n",
              "0      1.000000 -0.900000       -1.0   \n",
              "1      0.177778  0.083333        1.0   \n",
              "2      0.000000  0.000000        0.0   \n",
              "3      0.646970  0.216383        1.0   \n",
              "4      0.000000  0.000000        0.0   \n",
              "\n",
              "                                            entities  label  nothing  \n",
              "0                                                 []   -1.0        0  \n",
              "1              ['Stunt', 'company', 'deal', 'place']    0.0        0  \n",
              "2                                         ['ticker']    0.0        0  \n",
              "3  ['watercraft', 'skill', 'power', ']', 'feat', ...    1.0        0  \n",
              "4                                                 []   -1.0        0  "
            ],
            "text/html": [
              "\n",
              "  <div id=\"df-b6a3732d-a603-450f-907c-691e1a33d3a3\" class=\"colab-df-container\">\n",
              "    <div>\n",
              "<style scoped>\n",
              "    .dataframe tbody tr th:only-of-type {\n",
              "        vertical-align: middle;\n",
              "    }\n",
              "\n",
              "    .dataframe tbody tr th {\n",
              "        vertical-align: top;\n",
              "    }\n",
              "\n",
              "    .dataframe thead th {\n",
              "        text-align: right;\n",
              "    }\n",
              "</style>\n",
              "<table border=\"1\" class=\"dataframe\">\n",
              "  <thead>\n",
              "    <tr style=\"text-align: right;\">\n",
              "      <th></th>\n",
              "      <th>type</th>\n",
              "      <th>datetime</th>\n",
              "      <th>post_id</th>\n",
              "      <th>subreddit</th>\n",
              "      <th>title</th>\n",
              "      <th>author</th>\n",
              "      <th>url</th>\n",
              "      <th>upvotes</th>\n",
              "      <th>downvotes</th>\n",
              "      <th>upvote_ratio</th>\n",
              "      <th>text</th>\n",
              "      <th>subjectivity</th>\n",
              "      <th>polarity</th>\n",
              "      <th>sentiment</th>\n",
              "      <th>entities</th>\n",
              "      <th>label</th>\n",
              "      <th>nothing</th>\n",
              "    </tr>\n",
              "  </thead>\n",
              "  <tbody>\n",
              "    <tr>\n",
              "      <th>0</th>\n",
              "      <td>comment</td>\n",
              "      <td>2025-04-11 17:29:56</td>\n",
              "      <td>mmli62w</td>\n",
              "      <td>wallstreetbets</td>\n",
              "      <td>Retardation is on the menu boys! WSB is so back</td>\n",
              "      <td>StickyTip420</td>\n",
              "      <td>https://i.redd.it/0yq2ftren8ue1.jpeg</td>\n",
              "      <td>0</td>\n",
              "      <td>0.0</td>\n",
              "      <td>1.00</td>\n",
              "      <td>Calls on retards</td>\n",
              "      <td>1.000000</td>\n",
              "      <td>-0.900000</td>\n",
              "      <td>-1.0</td>\n",
              "      <td>[]</td>\n",
              "      <td>-1.0</td>\n",
              "      <td>0</td>\n",
              "    </tr>\n",
              "    <tr>\n",
              "      <th>1</th>\n",
              "      <td>comment</td>\n",
              "      <td>2025-04-12 1:12:19</td>\n",
              "      <td>mmnu7v9</td>\n",
              "      <td>wallstreetbets</td>\n",
              "      <td>Retail giant TARGET has now declined for 10 co...</td>\n",
              "      <td>Comfortable-Dog-8437</td>\n",
              "      <td>https://i.redd.it/7tl6puv9waue1.jpeg</td>\n",
              "      <td>-15</td>\n",
              "      <td>0.0</td>\n",
              "      <td>1.00</td>\n",
              "      <td>Stunt as in like why did they even make a big ...</td>\n",
              "      <td>0.177778</td>\n",
              "      <td>0.083333</td>\n",
              "      <td>1.0</td>\n",
              "      <td>['Stunt', 'company', 'deal', 'place']</td>\n",
              "      <td>0.0</td>\n",
              "      <td>0</td>\n",
              "    </tr>\n",
              "    <tr>\n",
              "      <th>2</th>\n",
              "      <td>comment</td>\n",
              "      <td>2025-04-10 15:09:41</td>\n",
              "      <td>mmeevio</td>\n",
              "      <td>StockMarket</td>\n",
              "      <td>How do you feel about a sitting president maki...</td>\n",
              "      <td>Btankersly66</td>\n",
              "      <td>https://apnews.com/article/trump-truth-social-...</td>\n",
              "      <td>1</td>\n",
              "      <td>0.0</td>\n",
              "      <td>1.00</td>\n",
              "      <td>Seeing lots of red in the ticker.</td>\n",
              "      <td>0.000000</td>\n",
              "      <td>0.000000</td>\n",
              "      <td>0.0</td>\n",
              "      <td>['ticker']</td>\n",
              "      <td>0.0</td>\n",
              "      <td>0</td>\n",
              "    </tr>\n",
              "    <tr>\n",
              "      <th>3</th>\n",
              "      <td>post</td>\n",
              "      <td>2023-08-30 17:12:55</td>\n",
              "      <td>165kllm</td>\n",
              "      <td>stockstobuytoday</td>\n",
              "      <td>Who knows more? $VMAR</td>\n",
              "      <td>emiljenfn</td>\n",
              "      <td>https://www.reddit.com/r/stockstobuytoday/comm...</td>\n",
              "      <td>30</td>\n",
              "      <td>0.0</td>\n",
              "      <td>0.98</td>\n",
              "      <td>Vision Marine Technologies Inc. is rewriting t...</td>\n",
              "      <td>0.646970</td>\n",
              "      <td>0.216383</td>\n",
              "      <td>1.0</td>\n",
              "      <td>['watercraft', 'skill', 'power', ']', 'feat', ...</td>\n",
              "      <td>1.0</td>\n",
              "      <td>0</td>\n",
              "    </tr>\n",
              "    <tr>\n",
              "      <th>4</th>\n",
              "      <td>comment</td>\n",
              "      <td>2025-04-11 14:48:05</td>\n",
              "      <td>mmkl6bw</td>\n",
              "      <td>StockMarket</td>\n",
              "      <td>The Trump administration is begging Xi Jinping...</td>\n",
              "      <td>Just-Big6411</td>\n",
              "      <td>https://edition.cnn.com/2025/04/10/politics/tr...</td>\n",
              "      <td>1</td>\n",
              "      <td>0.0</td>\n",
              "      <td>1.00</td>\n",
              "      <td>He didn’t say thank you.</td>\n",
              "      <td>0.000000</td>\n",
              "      <td>0.000000</td>\n",
              "      <td>0.0</td>\n",
              "      <td>[]</td>\n",
              "      <td>-1.0</td>\n",
              "      <td>0</td>\n",
              "    </tr>\n",
              "  </tbody>\n",
              "</table>\n",
              "</div>\n",
              "    <div class=\"colab-df-buttons\">\n",
              "\n",
              "  <div class=\"colab-df-container\">\n",
              "    <button class=\"colab-df-convert\" onclick=\"convertToInteractive('df-b6a3732d-a603-450f-907c-691e1a33d3a3')\"\n",
              "            title=\"Convert this dataframe to an interactive table.\"\n",
              "            style=\"display:none;\">\n",
              "\n",
              "  <svg xmlns=\"http://www.w3.org/2000/svg\" height=\"24px\" viewBox=\"0 -960 960 960\">\n",
              "    <path d=\"M120-120v-720h720v720H120Zm60-500h600v-160H180v160Zm220 220h160v-160H400v160Zm0 220h160v-160H400v160ZM180-400h160v-160H180v160Zm440 0h160v-160H620v160ZM180-180h160v-160H180v160Zm440 0h160v-160H620v160Z\"/>\n",
              "  </svg>\n",
              "    </button>\n",
              "\n",
              "  <style>\n",
              "    .colab-df-container {\n",
              "      display:flex;\n",
              "      gap: 12px;\n",
              "    }\n",
              "\n",
              "    .colab-df-convert {\n",
              "      background-color: #E8F0FE;\n",
              "      border: none;\n",
              "      border-radius: 50%;\n",
              "      cursor: pointer;\n",
              "      display: none;\n",
              "      fill: #1967D2;\n",
              "      height: 32px;\n",
              "      padding: 0 0 0 0;\n",
              "      width: 32px;\n",
              "    }\n",
              "\n",
              "    .colab-df-convert:hover {\n",
              "      background-color: #E2EBFA;\n",
              "      box-shadow: 0px 1px 2px rgba(60, 64, 67, 0.3), 0px 1px 3px 1px rgba(60, 64, 67, 0.15);\n",
              "      fill: #174EA6;\n",
              "    }\n",
              "\n",
              "    .colab-df-buttons div {\n",
              "      margin-bottom: 4px;\n",
              "    }\n",
              "\n",
              "    [theme=dark] .colab-df-convert {\n",
              "      background-color: #3B4455;\n",
              "      fill: #D2E3FC;\n",
              "    }\n",
              "\n",
              "    [theme=dark] .colab-df-convert:hover {\n",
              "      background-color: #434B5C;\n",
              "      box-shadow: 0px 1px 3px 1px rgba(0, 0, 0, 0.15);\n",
              "      filter: drop-shadow(0px 1px 2px rgba(0, 0, 0, 0.3));\n",
              "      fill: #FFFFFF;\n",
              "    }\n",
              "  </style>\n",
              "\n",
              "    <script>\n",
              "      const buttonEl =\n",
              "        document.querySelector('#df-b6a3732d-a603-450f-907c-691e1a33d3a3 button.colab-df-convert');\n",
              "      buttonEl.style.display =\n",
              "        google.colab.kernel.accessAllowed ? 'block' : 'none';\n",
              "\n",
              "      async function convertToInteractive(key) {\n",
              "        const element = document.querySelector('#df-b6a3732d-a603-450f-907c-691e1a33d3a3');\n",
              "        const dataTable =\n",
              "          await google.colab.kernel.invokeFunction('convertToInteractive',\n",
              "                                                    [key], {});\n",
              "        if (!dataTable) return;\n",
              "\n",
              "        const docLinkHtml = 'Like what you see? Visit the ' +\n",
              "          '<a target=\"_blank\" href=https://colab.research.google.com/notebooks/data_table.ipynb>data table notebook</a>'\n",
              "          + ' to learn more about interactive tables.';\n",
              "        element.innerHTML = '';\n",
              "        dataTable['output_type'] = 'display_data';\n",
              "        await google.colab.output.renderOutput(dataTable, element);\n",
              "        const docLink = document.createElement('div');\n",
              "        docLink.innerHTML = docLinkHtml;\n",
              "        element.appendChild(docLink);\n",
              "      }\n",
              "    </script>\n",
              "  </div>\n",
              "\n",
              "\n",
              "    <div id=\"df-5523752d-97e7-482e-8f0f-496158adaad1\">\n",
              "      <button class=\"colab-df-quickchart\" onclick=\"quickchart('df-5523752d-97e7-482e-8f0f-496158adaad1')\"\n",
              "                title=\"Suggest charts\"\n",
              "                style=\"display:none;\">\n",
              "\n",
              "<svg xmlns=\"http://www.w3.org/2000/svg\" height=\"24px\"viewBox=\"0 0 24 24\"\n",
              "     width=\"24px\">\n",
              "    <g>\n",
              "        <path d=\"M19 3H5c-1.1 0-2 .9-2 2v14c0 1.1.9 2 2 2h14c1.1 0 2-.9 2-2V5c0-1.1-.9-2-2-2zM9 17H7v-7h2v7zm4 0h-2V7h2v10zm4 0h-2v-4h2v4z\"/>\n",
              "    </g>\n",
              "</svg>\n",
              "      </button>\n",
              "\n",
              "<style>\n",
              "  .colab-df-quickchart {\n",
              "      --bg-color: #E8F0FE;\n",
              "      --fill-color: #1967D2;\n",
              "      --hover-bg-color: #E2EBFA;\n",
              "      --hover-fill-color: #174EA6;\n",
              "      --disabled-fill-color: #AAA;\n",
              "      --disabled-bg-color: #DDD;\n",
              "  }\n",
              "\n",
              "  [theme=dark] .colab-df-quickchart {\n",
              "      --bg-color: #3B4455;\n",
              "      --fill-color: #D2E3FC;\n",
              "      --hover-bg-color: #434B5C;\n",
              "      --hover-fill-color: #FFFFFF;\n",
              "      --disabled-bg-color: #3B4455;\n",
              "      --disabled-fill-color: #666;\n",
              "  }\n",
              "\n",
              "  .colab-df-quickchart {\n",
              "    background-color: var(--bg-color);\n",
              "    border: none;\n",
              "    border-radius: 50%;\n",
              "    cursor: pointer;\n",
              "    display: none;\n",
              "    fill: var(--fill-color);\n",
              "    height: 32px;\n",
              "    padding: 0;\n",
              "    width: 32px;\n",
              "  }\n",
              "\n",
              "  .colab-df-quickchart:hover {\n",
              "    background-color: var(--hover-bg-color);\n",
              "    box-shadow: 0 1px 2px rgba(60, 64, 67, 0.3), 0 1px 3px 1px rgba(60, 64, 67, 0.15);\n",
              "    fill: var(--button-hover-fill-color);\n",
              "  }\n",
              "\n",
              "  .colab-df-quickchart-complete:disabled,\n",
              "  .colab-df-quickchart-complete:disabled:hover {\n",
              "    background-color: var(--disabled-bg-color);\n",
              "    fill: var(--disabled-fill-color);\n",
              "    box-shadow: none;\n",
              "  }\n",
              "\n",
              "  .colab-df-spinner {\n",
              "    border: 2px solid var(--fill-color);\n",
              "    border-color: transparent;\n",
              "    border-bottom-color: var(--fill-color);\n",
              "    animation:\n",
              "      spin 1s steps(1) infinite;\n",
              "  }\n",
              "\n",
              "  @keyframes spin {\n",
              "    0% {\n",
              "      border-color: transparent;\n",
              "      border-bottom-color: var(--fill-color);\n",
              "      border-left-color: var(--fill-color);\n",
              "    }\n",
              "    20% {\n",
              "      border-color: transparent;\n",
              "      border-left-color: var(--fill-color);\n",
              "      border-top-color: var(--fill-color);\n",
              "    }\n",
              "    30% {\n",
              "      border-color: transparent;\n",
              "      border-left-color: var(--fill-color);\n",
              "      border-top-color: var(--fill-color);\n",
              "      border-right-color: var(--fill-color);\n",
              "    }\n",
              "    40% {\n",
              "      border-color: transparent;\n",
              "      border-right-color: var(--fill-color);\n",
              "      border-top-color: var(--fill-color);\n",
              "    }\n",
              "    60% {\n",
              "      border-color: transparent;\n",
              "      border-right-color: var(--fill-color);\n",
              "    }\n",
              "    80% {\n",
              "      border-color: transparent;\n",
              "      border-right-color: var(--fill-color);\n",
              "      border-bottom-color: var(--fill-color);\n",
              "    }\n",
              "    90% {\n",
              "      border-color: transparent;\n",
              "      border-bottom-color: var(--fill-color);\n",
              "    }\n",
              "  }\n",
              "</style>\n",
              "\n",
              "      <script>\n",
              "        async function quickchart(key) {\n",
              "          const quickchartButtonEl =\n",
              "            document.querySelector('#' + key + ' button');\n",
              "          quickchartButtonEl.disabled = true;  // To prevent multiple clicks.\n",
              "          quickchartButtonEl.classList.add('colab-df-spinner');\n",
              "          try {\n",
              "            const charts = await google.colab.kernel.invokeFunction(\n",
              "                'suggestCharts', [key], {});\n",
              "          } catch (error) {\n",
              "            console.error('Error during call to suggestCharts:', error);\n",
              "          }\n",
              "          quickchartButtonEl.classList.remove('colab-df-spinner');\n",
              "          quickchartButtonEl.classList.add('colab-df-quickchart-complete');\n",
              "        }\n",
              "        (() => {\n",
              "          let quickchartButtonEl =\n",
              "            document.querySelector('#df-5523752d-97e7-482e-8f0f-496158adaad1 button');\n",
              "          quickchartButtonEl.style.display =\n",
              "            google.colab.kernel.accessAllowed ? 'block' : 'none';\n",
              "        })();\n",
              "      </script>\n",
              "    </div>\n",
              "\n",
              "    </div>\n",
              "  </div>\n"
            ],
            "application/vnd.google.colaboratory.intrinsic+json": {
              "type": "dataframe",
              "summary": "{\n  \"name\": \"df[0:5]\",\n  \"rows\": 5,\n  \"fields\": [\n    {\n      \"column\": \"type\",\n      \"properties\": {\n        \"dtype\": \"category\",\n        \"num_unique_values\": 2,\n        \"samples\": [\n          \"post\",\n          \"comment\"\n        ],\n        \"semantic_type\": \"\",\n        \"description\": \"\"\n      }\n    },\n    {\n      \"column\": \"datetime\",\n      \"properties\": {\n        \"dtype\": \"object\",\n        \"num_unique_values\": 5,\n        \"samples\": [\n          \"2025-04-12 1:12:19\",\n          \"2025-04-11 14:48:05\"\n        ],\n        \"semantic_type\": \"\",\n        \"description\": \"\"\n      }\n    },\n    {\n      \"column\": \"post_id\",\n      \"properties\": {\n        \"dtype\": \"string\",\n        \"num_unique_values\": 5,\n        \"samples\": [\n          \"mmnu7v9\",\n          \"mmkl6bw\"\n        ],\n        \"semantic_type\": \"\",\n        \"description\": \"\"\n      }\n    },\n    {\n      \"column\": \"subreddit\",\n      \"properties\": {\n        \"dtype\": \"string\",\n        \"num_unique_values\": 3,\n        \"samples\": [\n          \"wallstreetbets\",\n          \"StockMarket\"\n        ],\n        \"semantic_type\": \"\",\n        \"description\": \"\"\n      }\n    },\n    {\n      \"column\": \"title\",\n      \"properties\": {\n        \"dtype\": \"string\",\n        \"num_unique_values\": 5,\n        \"samples\": [\n          \"Retail giant TARGET has now declined for 10 consecutive weeks, its longest losing streak in history\",\n          \"The Trump administration is begging Xi Jinping to call Trump quickly.\"\n        ],\n        \"semantic_type\": \"\",\n        \"description\": \"\"\n      }\n    },\n    {\n      \"column\": \"author\",\n      \"properties\": {\n        \"dtype\": \"string\",\n        \"num_unique_values\": 5,\n        \"samples\": [\n          \"Comfortable-Dog-8437\",\n          \"Just-Big6411\"\n        ],\n        \"semantic_type\": \"\",\n        \"description\": \"\"\n      }\n    },\n    {\n      \"column\": \"url\",\n      \"properties\": {\n        \"dtype\": \"string\",\n        \"num_unique_values\": 5,\n        \"samples\": [\n          \"https://i.redd.it/7tl6puv9waue1.jpeg\",\n          \"https://edition.cnn.com/2025/04/10/politics/trump-xi-china-tariffs/index.html\"\n        ],\n        \"semantic_type\": \"\",\n        \"description\": \"\"\n      }\n    },\n    {\n      \"column\": \"upvotes\",\n      \"properties\": {\n        \"dtype\": \"number\",\n        \"std\": 16,\n        \"min\": -15,\n        \"max\": 30,\n        \"num_unique_values\": 4,\n        \"samples\": [\n          -15,\n          30\n        ],\n        \"semantic_type\": \"\",\n        \"description\": \"\"\n      }\n    },\n    {\n      \"column\": \"downvotes\",\n      \"properties\": {\n        \"dtype\": \"number\",\n        \"std\": 0.0,\n        \"min\": 0.0,\n        \"max\": 0.0,\n        \"num_unique_values\": 1,\n        \"samples\": [\n          0.0\n        ],\n        \"semantic_type\": \"\",\n        \"description\": \"\"\n      }\n    },\n    {\n      \"column\": \"upvote_ratio\",\n      \"properties\": {\n        \"dtype\": \"number\",\n        \"std\": 0.008944271909999166,\n        \"min\": 0.98,\n        \"max\": 1.0,\n        \"num_unique_values\": 2,\n        \"samples\": [\n          0.98\n        ],\n        \"semantic_type\": \"\",\n        \"description\": \"\"\n      }\n    },\n    {\n      \"column\": \"text\",\n      \"properties\": {\n        \"dtype\": \"string\",\n        \"num_unique_values\": 5,\n        \"samples\": [\n          \"Stunt as in like why did they even make a big deal about starting it in the first place? No company should ever talk about politics ever.\"\n        ],\n        \"semantic_type\": \"\",\n        \"description\": \"\"\n      }\n    },\n    {\n      \"column\": \"subjectivity\",\n      \"properties\": {\n        \"dtype\": \"number\",\n        \"std\": 0.4427849528126518,\n        \"min\": 0.0,\n        \"max\": 1.0,\n        \"num_unique_values\": 4,\n        \"samples\": [\n          0.1777777777777777\n        ],\n        \"semantic_type\": \"\",\n        \"description\": \"\"\n      }\n    },\n    {\n      \"column\": \"polarity\",\n      \"properties\": {\n        \"dtype\": \"number\",\n        \"std\": 0.4448869703577013,\n        \"min\": -0.9,\n        \"max\": 0.2163825757575757,\n        \"num_unique_values\": 4,\n        \"samples\": [\n          0.0833333333333333\n        ],\n        \"semantic_type\": \"\",\n        \"description\": \"\"\n      }\n    },\n    {\n      \"column\": \"sentiment\",\n      \"properties\": {\n        \"dtype\": \"number\",\n        \"std\": 0.8366600265340756,\n        \"min\": -1.0,\n        \"max\": 1.0,\n        \"num_unique_values\": 3,\n        \"samples\": [\n          -1.0\n        ],\n        \"semantic_type\": \"\",\n        \"description\": \"\"\n      }\n    },\n    {\n      \"column\": \"entities\",\n      \"properties\": {\n        \"dtype\": \"string\",\n        \"num_unique_values\": 4,\n        \"samples\": [\n          \"['Stunt', 'company', 'deal', 'place']\"\n        ],\n        \"semantic_type\": \"\",\n        \"description\": \"\"\n      }\n    },\n    {\n      \"column\": \"label\",\n      \"properties\": {\n        \"dtype\": \"number\",\n        \"std\": 0.8366600265340756,\n        \"min\": -1.0,\n        \"max\": 1.0,\n        \"num_unique_values\": 3,\n        \"samples\": [\n          -1.0\n        ],\n        \"semantic_type\": \"\",\n        \"description\": \"\"\n      }\n    },\n    {\n      \"column\": \"nothing\",\n      \"properties\": {\n        \"dtype\": \"number\",\n        \"std\": 0,\n        \"min\": 0,\n        \"max\": 0,\n        \"num_unique_values\": 1,\n        \"samples\": [\n          0\n        ],\n        \"semantic_type\": \"\",\n        \"description\": \"\"\n      }\n    }\n  ]\n}"
            }
          },
          "metadata": {},
          "execution_count": 82
        }
      ]
    },
    {
      "cell_type": "code",
      "source": [
        "df['unigrams'] = df['text'].apply(lambda x: dmh.tokenize_text(x))"
      ],
      "metadata": {
        "id": "1Je2ZJdIc18Z"
      },
      "execution_count": 84,
      "outputs": []
    },
    {
      "cell_type": "code",
      "source": [
        "df['unigrams']"
      ],
      "metadata": {
        "colab": {
          "base_uri": "https://localhost:8080/",
          "height": 458
        },
        "id": "r7Nwju2Zc1-u",
        "outputId": "6d76ebc8-14ac-4bca-9a0c-e53c4d6df665"
      },
      "execution_count": 85,
      "outputs": [
        {
          "output_type": "execute_result",
          "data": {
            "text/plain": [
              "0                                   [Calls, on, retards]\n",
              "1      [Stunt, as, in, like, why, did, they, even, ma...\n",
              "2            [Seeing, lots, of, red, in, the, ticker, .]\n",
              "3      [Vision, Marine, Technologies, Inc., is, rewri...\n",
              "4                   [He, didn, ’, t, say, thank, you, .]\n",
              "                             ...                        \n",
              "842    [Invest, now, it, is, going, to, shoot, up, to...\n",
              "843                       [Where, can, I, read, this, ?]\n",
              "844    [Upgrades, ,, Downgrades, [, Stock, Analyst, R...\n",
              "845    [i, sold, my, puts, so, i, expect, cheeto, to,...\n",
              "846           [!, [, img, ], (, emote|t5_2th52|31224, )]\n",
              "Name: unigrams, Length: 847, dtype: object"
            ],
            "text/html": [
              "<div>\n",
              "<style scoped>\n",
              "    .dataframe tbody tr th:only-of-type {\n",
              "        vertical-align: middle;\n",
              "    }\n",
              "\n",
              "    .dataframe tbody tr th {\n",
              "        vertical-align: top;\n",
              "    }\n",
              "\n",
              "    .dataframe thead th {\n",
              "        text-align: right;\n",
              "    }\n",
              "</style>\n",
              "<table border=\"1\" class=\"dataframe\">\n",
              "  <thead>\n",
              "    <tr style=\"text-align: right;\">\n",
              "      <th></th>\n",
              "      <th>unigrams</th>\n",
              "    </tr>\n",
              "  </thead>\n",
              "  <tbody>\n",
              "    <tr>\n",
              "      <th>0</th>\n",
              "      <td>[Calls, on, retards]</td>\n",
              "    </tr>\n",
              "    <tr>\n",
              "      <th>1</th>\n",
              "      <td>[Stunt, as, in, like, why, did, they, even, ma...</td>\n",
              "    </tr>\n",
              "    <tr>\n",
              "      <th>2</th>\n",
              "      <td>[Seeing, lots, of, red, in, the, ticker, .]</td>\n",
              "    </tr>\n",
              "    <tr>\n",
              "      <th>3</th>\n",
              "      <td>[Vision, Marine, Technologies, Inc., is, rewri...</td>\n",
              "    </tr>\n",
              "    <tr>\n",
              "      <th>4</th>\n",
              "      <td>[He, didn, ’, t, say, thank, you, .]</td>\n",
              "    </tr>\n",
              "    <tr>\n",
              "      <th>...</th>\n",
              "      <td>...</td>\n",
              "    </tr>\n",
              "    <tr>\n",
              "      <th>842</th>\n",
              "      <td>[Invest, now, it, is, going, to, shoot, up, to...</td>\n",
              "    </tr>\n",
              "    <tr>\n",
              "      <th>843</th>\n",
              "      <td>[Where, can, I, read, this, ?]</td>\n",
              "    </tr>\n",
              "    <tr>\n",
              "      <th>844</th>\n",
              "      <td>[Upgrades, ,, Downgrades, [, Stock, Analyst, R...</td>\n",
              "    </tr>\n",
              "    <tr>\n",
              "      <th>845</th>\n",
              "      <td>[i, sold, my, puts, so, i, expect, cheeto, to,...</td>\n",
              "    </tr>\n",
              "    <tr>\n",
              "      <th>846</th>\n",
              "      <td>[!, [, img, ], (, emote|t5_2th52|31224, )]</td>\n",
              "    </tr>\n",
              "  </tbody>\n",
              "</table>\n",
              "<p>847 rows × 1 columns</p>\n",
              "</div><br><label><b>dtype:</b> object</label>"
            ]
          },
          "metadata": {},
          "execution_count": 85
        }
      ]
    },
    {
      "cell_type": "code",
      "source": [
        "from sklearn.feature_extraction.text import CountVectorizer\n",
        "\n",
        "count_vect = CountVectorizer()\n",
        "df_counts = count_vect.fit_transform(df['text']) #learn the vocabulary and return document-term matrix\n",
        "print(df_counts[0])"
      ],
      "metadata": {
        "colab": {
          "base_uri": "https://localhost:8080/"
        },
        "id": "aP6Wivznc2BL",
        "outputId": "ec3b64f7-8b72-43b6-bce0-3174d12b0ee3"
      },
      "execution_count": 110,
      "outputs": [
        {
          "output_type": "stream",
          "name": "stdout",
          "text": [
            "<Compressed Sparse Row sparse matrix of dtype 'int64'\n",
            "\twith 3 stored elements and shape (1, 4346)>\n",
            "  Coords\tValues\n",
            "  (0, 692)\t1\n",
            "  (0, 2706)\t1\n",
            "  (0, 3248)\t1\n"
          ]
        }
      ]
    },
    {
      "cell_type": "code",
      "source": [
        "# Display the learned vocabulary\n",
        "print(\"Vocabulary:\")\n",
        "print(count_vect.vocabulary_)\n",
        "\n",
        "# Display the shape of the document-term matrix\n",
        "print(\"\\nShape of the document-term matrix:\")\n",
        "print(df_counts.shape)\n",
        "\n",
        "\n",
        "#???????應該沒錯"
      ],
      "metadata": {
        "colab": {
          "base_uri": "https://localhost:8080/"
        },
        "id": "gn9uuJEsc2Ez",
        "outputId": "ec3b4f48-3e87-4211-aee7-baf915714bbd"
      },
      "execution_count": 111,
      "outputs": [
        {
          "output_type": "stream",
          "name": "stdout",
          "text": [
            "Vocabulary:\n",
            "{'calls': 692, 'on': 2706, 'retards': 3248, 'stunt': 3696, 'as': 388, 'in': 2024, 'like': 2310, 'why': 4244, 'did': 1168, 'they': 3858, 'even': 1409, 'make': 2402, 'big': 538, 'deal': 1083, 'about': 175, 'starting': 3628, 'it': 2161, 'the': 3848, 'first': 1568, 'place': 2878, 'no': 2645, 'company': 887, 'should': 3477, 'ever': 1412, 'talk': 3795, 'politics': 2918, 'seeing': 3386, 'lots': 2370, 'of': 2687, 'red': 3150, 'ticker': 3888, 'vision': 4145, 'marine': 2422, 'technologies': 3823, 'inc': 2026, 'is': 2149, 'rewriting': 3263, 'watercraft': 4190, 'rulebook': 3313, 'their': 3849, 'collaboration': 856, 'with': 4271, 'shaun': 3437, 'torrente': 3930, 'has': 1837, 'achieved': 195, 'unthinkable': 4066, 'blazing': 560, '116': 18, 'mph': 2560, 'water': 4189, 'this': 3866, 'isn': 2154, 'just': 2197, 'speed': 3585, 'propelling': 3014, 'electric': 1329, 'boating': 576, 'into': 2117, 'new': 2622, 'era': 1388, 'cutting': 1054, 'edge': 1303, 'technology': 3824, 'combined': 863, 'skill': 3517, 'making': 2405, 'waves': 4193, 'that': 3846, 'll': 2339, 'ripple': 3275, 'for': 1604, 'generations': 1699, 'highlight': 1892, 'main': 2397, 'points': 2909, 'achieves': 197, 'record': 3147, 'breaking': 620, 'feat': 1523, 'highlights': 1894, 'power': 2950, 'and': 327, 'pushes': 3045, 'limits': 2316, 'innovation': 2078, 'partners': 2796, 'octillion': 2685, 'systems': 3775, 'danfoss': 1068, 'editron': 1306, 'contribute': 950, 'to': 3911, 'groundbreaking': 1788, 'achievement': 196, 'tldr': 3907, 'hold': 1920, 'onto': 2714, 'your': 4335, 'seats': 3376, 'have': 1842, 'shattered': 3436, 'at': 406, 'an': 320, 'astonishing': 404, 'pioneering': 2871, 'passion': 2803, 'creating': 1008, 'ripples': 3276, 'be': 486, 'felt': 1542, 'years': 4323, 'come': 865, 'world': 4293, 'he': 1846, 'didn': 1169, 'say': 3349, 'thank': 3844, 'you': 4333, 'hoping': 1940, 'ejaculate': 1322, 'wet': 4222, 'warm': 4177, 'puss': 3047, 'tonight': 3924, 'wish': 4269, 'me': 2453, 'luck': 2379, 'trump': 3977, 'will': 4255, 'respond': 3225, 'china': 796, 'increasing': 2038, 'tariffs': 3808, 'looking': 2358, 'fire': 1562, 'jerome': 2177, 'powell': 2949, 'earnings': 1287, 'reporting': 3203, 'personally': 2848, 'think': 3862, 'next': 2627, 'few': 1543, 'weeks': 4211, 'are': 374, 'going': 1742, 'brutal': 645, 'if': 1987, 'all': 289, 'companies': 886, 'adjust': 225, 'downwards': 1245, 'jpow': 2194, 'fired': 1563, 'can': 697, 'see': 3385, 'down': 1240, 'lot': 2369, 'very': 4130, 'quickly': 3070, 'confirmed': 917, 'not': 2659, 'trap': 3954, 'its': 2163, 'been': 496, 'probably': 2988, 'months': 2542, 'we': 4198, 'let': 2295, 'slowly': 3528, 'spread': 3604, 'by': 680, 'word': 4287, 'mouth': 2552, 'am': 305, 'only': 2712, 'one': 2708, 'cup': 1041, 'handle': 1817, 'breakout': 621, 'here': 1881, '52': 133, 'week': 4208, 'high': 1889, 'third': 3865, 'green': 1777, 'day': 1075, 'pivot': 2876, 'was': 4183, 'thursday': 3884, 'perfectly': 2836, 'held': 1871, 'base': 473, 'trend': 3964, 'line': 2317, 'follow': 1597, 'technicals': 3822, 'folks': 1596, 'hlgn': 1912, '10': 8, 'hurry': 1964, 'catch': 735, 'now': 2665, 'before': 497, 'shoots': 3463, 'moon': 2543, 'copy': 963, 'paste': 2807, 'from': 1639, 'bloomberg': 569, 'terminal': 3832, 'sub': 3700, 'ruined': 3310, 'emails': 1339, 'whenever': 4228, 'write': 4304, 'best': 524, 'regards': 3167, 'wsb': 4309, 'honestly': 1932, 'economy': 1301, 'burn': 670, 'maybe': 2448, 'people': 2828, 'learn': 2276, 've': 4121, 'doing': 1222, 'pretty': 2972, 'good': 1747, 'but': 675, 'heavy': 1863, 'fees': 1536, 'similar': 3501, 'risk': 3280, 'return': 3250, 'profile': 3001, 'any': 346, 'ideas': 1981, 'how': 1950, 'do': 1212, 'less': 2290, 'don': 1226, 'want': 4172, 'sell': 3395, 'myself': 2582, 'qdte': 3053, '35': 100, 'upro': 4080, '25': 77, 'tltw': 3908, '15': 29, 'ispy': 2156, 'brkb': 631, 'msci': 2563, 'nvda': 2670, 'usa': 4088, 'begging': 499, 'call': 689, 'them': 3850, 'disgusting': 1194, 'tactics': 3783, 'jesus': 2178, 'christ': 804, 'exactly': 1422, 'blink': 564, 'because': 492, 'end': 1350, 'answer': 343, 'his': 1902, 'prices': 2978, 'empty': 1348, 'shelves': 3442, 'useless': 4097, 'dollar': 1223, 'protest': 3022, 'riot': 3273, 'there': 3854, 'growing': 1792, 'removal': 3188, 'office': 2690, 'things': 3861, 'halt': 1813, 'standstill': 3624, 'general': 1695, 'chaos': 767, 'try': 3984, 'tiananmen': 3886, 'square': 3612, 'revolt': 3261, 'dissent': 1198, 'ccp': 743, 'says': 3352, 'or': 2737, 'suffer': 3718, 'severe': 3417, 'punishment': 3040, 'xi': 4315, 'holds': 1924, 'cards': 717, 'long': 2354, 'term': 3831, 'trade': 3944, 'war': 4175, 'does': 1217, 'win': 4259, 'mental': 2470, 'illness': 1994, 'tells': 3827, 'him': 1897, 'otherwise': 2753, 'dump': 1273, 'past': 2806, 'numbers': 2669, 'assume': 400, 'wide': 4245, 'another': 342, 'safe': 3326, 'store': 3669, 'money': 2537, 'used': 4095, 'over': 2760, 'hell': 1872, 'us': 4087, 'safer': 3327, 'my': 2580, 'uncharted': 4025, 'waters': 4191, 'already': 301, 'shaky': 3431, 'begin': 500, 'far': 1497, 'too': 3925, 'many': 2419, 'americans': 314, 'woefully': 4279, 'unaware': 4022, 'much': 2567, 'actually': 213, 'depend': 1137, 'hard': 1829, 'lessons': 2294, 'learned': 2277, 'forward': 1620, 'bonds': 584, 'treasuries': 3958, 'need': 2608, 'believe': 510, 'buy': 677, 'idea': 1979, 'rapidly': 3093, 'exiting': 1438, 'stage': 3616, 'right': 3271, 'could': 977, 'wrong': 4306, 'those': 3868, 'rates': 3095, 'screaming': 3370, 'trusted': 3982, 'partner': 2795, 'nooo': 2653, 'dont': 1233, 'go': 1737, 'smug': 3537, 'bull': 661, 'geo': 1704, 'wm': 4274, 'google': 1750, 'target': 3805, 'dei': 1118, 'feel': 1532, 'these': 3856, 'hfs': 1886, 'took': 3926, 'retard': 3246, 'thrown': 3882, 'around': 383, 'literally': 2331, 'trying': 3985, 'pack': 2775, 'shit': 3453, 'tiffany': 3892, 'bags': 453, 'ain': 278, 'buying': 679, 'shop': 3464, 'billionaire': 544, 'pissing': 2873, 'off': 2688, 'chunk': 806, 'loyal': 2376, 'customer': 1050, 'wasn': 4185, 'never': 2621, 'lose': 2362, 'delusional': 1124, 'old': 2701, 'guy': 1801, 'queens': 3065, 'understood': 4034, 'thoughts': 3871, 'rvph': 3323, 'wife': 4246, 'tarded': 3804, 'she': 3438, 'pilot': 2869, 'sundial': 3730, 'growers': 1791, 'rise': 3277, 'up': 4071, 'still': 3652, 'seems': 3391, 'awful': 441, 'investment': 2126, 'sentiment': 3405, 'above': 176, 'everything': 1416, 'else': 1334, 'happening': 1824, 'what': 4224, 'most': 2548, 'terrified': 3835, 'faith': 1487, 'crumbling': 1030, 'evgo': 1418, 'revenue': 3254, 'straight': 3672, 'quarters': 3063, '30': 90, 'si': 3487, 'poised': 2910, 'massive': 2434, 'squeeze': 3613, 'small': 3531, 'cap': 709, 'bear': 487, 'thesis': 3857, 'anymore': 347, 'major': 2400, 'partnership': 2797, 'key': 2210, 'oem': 2686, 'toyota': 3939, 'addition': 221, 'gm': 1735, 'honda': 1930, 'ford': 1608, 'rivian': 3283, '33': 97, 'together': 3916, 'nyt': 2673, 'article': 385, 'where': 4229, 'vp': 4154, 'mentioned': 2473, 'states': 3633, 'some': 3552, 'biggest': 541, 'inevitable': 2062, 'sara': 3340, 'rafalson': 3079, 'vice': 4136, 'president': 2967, 'los': 2361, 'angeles': 330, 'based': 474, 'charging': 772, 'built': 659, 'chargers': 771, 'said': 3330, 'demand': 1126, 'growth': 1794, 'republican': 3208, 'led': 2281, 'texas': 3841, 'florida': 1586, 'ev': 1406, 'winter': 4266, 'ending': 1352, 'equinox': 1385, 'launch': 2264, 'june': 2196, '17th': 38, 'costco': 973, 'discount': 1187, 'blazer': 559, 'cost': 972, 'reduction': 3156, 'stellantis': 3644, '25k': 80, 'jeep': 2176, 'other': 2751, 'cheap': 778, '2nd': 88, 'half': 1812, 'year': 4322, 'under': 4027, 'hertz': 1883, 'firesale': 1565, '4500': 118, '7500': 149, 'incentive': 2027, 'ceo': 750, 'insider': 2084, '125': 22, '000': 1, 'shares': 3434, 'lower': 2374, 'interest': 2104, 'september': 3406, 'vehicle': 4123, 'models': 2526, 'compact': 885, 'low': 2373, 'debt': 1088, 'rolling': 3296, 'out': 2755, 'north': 2657, 'american': 313, 'standard': 3621, 'nacs': 2583, 'entire': 1374, 'country': 984, 'so': 3544, 'vehicles': 4124, 'recharge': 3138, 'stations': 3635, 'customers': 1051, 'doubling': 1239, 'annually': 341, 'least': 2279, 'likely': 2311, 'more': 2544, 'artificial': 387, 'intelligence': 2099, 'maximum': 2446, 'renew': 3191, 'program': 3005, 'upgrade': 4075, 'older': 2702, '100': 9, 'parts': 2798, 'compliant': 896, 'affected': 248, 'take': 3787, 'business': 673, 'others': 2752, 'must': 2577, 'infrastructure': 2071, 'compete': 890, 'globally': 1731, 'fast': 1505, 'blnk': 567, 'chpt': 803, 'give': 1725, 'time': 3897, 'sales': 3333, 'whereas': 4230, 'gives': 1727, 'multiple': 2570, 'tesla': 3838, 'backing': 446, 'leaves': 2280, 'room': 3298, 'grow': 1790, 'l3': 2241, 'ebidta': 1295, 'forecast': 1609, 'positive': 2934, 'early': 1285, '2025': 66, 'sooner': 3562, 'secondary': 3379, 'offering': 2689, 'credit': 1011, 'case': 728, 'cash': 730, 'reserves': 3220, 'may': 2447, 'getting': 1714, 'cut': 1052, 'soon': 3561, 'leading': 2269, 'expect': 1443, 'doe': 1216, 'loan': 2342, 'trading': 3947, 'sideways': 3491, 'perfect': 2835, 'entry': 1377, 'leg': 2284, 'last': 2257, 'spike': 3591, 'month': 2540, 'same': 3338, 'timeline': 3898, 'adding': 220, 'talent': 3793, 'names': 2587, 'recently': 3135, 'hired': 1900, 'cpo': 996, 'chief': 792, 'peoples': 2829, 'officer': 2691, 'implying': 2010, 'expecting': 1447, 'expand': 1439, 'thus': 3885, 'someone': 3555, 'strong': 3683, 'connections': 922, 'space': 3574, 'sorry': 3565, 'dumb': 1269, 'usd': 4091, 'conversion': 957, 'chart': 773, 'pls': 2900, 'went': 4219, 'saying': 3351, 'redditors': 3152, 'bad': 448, 'manipulating': 2414, 'market': 2424, 'praising': 2956, 'silver': 3500, 'goshdang': 1752, 'fine': 1559, 'when': 4227, 'kid': 2213, 'college': 859, 'then': 3852, 'back': 444, 'whole': 4238, 'got': 1753, 'suuuuuper': 3760, 'weird': 4214, '2012': 61, 'important': 2013, 'miss': 2516, 'something': 3557, 'calm': 693, 'sure': 3747, 'footed': 1602, 'response': 3228, 'while': 4233, 'irrational': 2147, 'makes': 2404, 'quick': 3069, 'decisions': 1097, 'without': 4273, 'considering': 930, 'consequence': 926, 'also': 303, 'stupid': 3697, 'hey': 1885, 'our': 2754, 'net': 2617, 'worth': 4297, 'match': 2440, 'friends': 1638, 'countries': 983, 'through': 3879, 'recession': 3137, 'reason': 3124, 'would': 4299, 'hyperinflation': 1971, 'remember': 3183, 'mitigate': 2522, 'inflation': 2064, 'little': 2333, 'wobbly': 4278, 'ai': 274, 'factory': 1478, 'memes': 2468, 'gotta': 1755, 'admit': 230, 'boomed': 590, 'plug': 2902, 'machine': 2388, 'completely': 894, 'unrelated': 4061, '20': 56, 'life': 2307, 'thought': 3870, 'button': 676, 'hatches': 1839, '27': 81, 'somebody': 3553, 'corrected': 969, 'every': 1413, 'always': 304, 'man': 2407, 'really': 3122, 'common': 880, 'knowledge': 2232, 'thing': 3860, 'know': 2230, 'fact': 1475, 'truth': 3983, 'hurts': 1966, 'rule': 3312, 'law': 2265, 'total': 3931, 'joke': 2189, 'might': 2494, 'badly': 450, 'nobody': 2646, 'who': 4237, 'matters': 2445, 'weekend': 4209, 'thread': 3874, 'real': 3117, 'ones': 2709, 'img': 1999, 'emote': 1344, 't5_2th52': 3776, '8883': 158, 'marketwatch': 2427, 'stock': 3654, 'news': 2625, 'financial': 1556, 'earmings': 1286, 'stonkvest': 3661, 'stockbuyvest': 3655, 'com': 861, 'catalyst': 734, 'event': 1411, 'mr': 2562, 'yup': 4341, 'brazilian': 616, 'change': 762, 'advice': 239, 'digging': 1175, 'found': 1621, 'had': 1808, 'government': 1761, 'contract': 946, 'listed': 2326, 'usaspending': 4090, '2021': 63, 're': 3107, 'vaporware': 4117, '3000': 92, 'compare': 888, 'lockheed': 2346, 'raytheon': 3102, 'defense': 1105, 'contractor': 947, 'point': 2907, 'knows': 2234, 'idiot': 1983, 'chalk': 758, 'actions': 207, 'stupidity': 3699, 'undersells': 4030, 'poses': 2931, 'basically': 475, 'everyone': 1415, 'hope': 1937, 'comes': 867, 'top': 3928, 'teach': 3817, 'lesson': 2293, 'idgaf': 1982, 'steal': 3641, 'fair': 1482, 'chinese': 797, 'exports': 1458, 'larger': 2254, 'portion': 2930, 'gdp': 1688, 'than': 3843, 'way': 4194, 'kinda': 2220, 'rely': 3182, 'consumer': 938, 'degree': 1117, 'pretend': 2971, 'put': 3048, 'blind': 563, 'trust': 3981, 'survey': 3753, 'expected': 1446, 'heard': 1859, 'chatter': 777, 'upto': 4083, '350': 101, 'irdm': 2143, 'x200b': 4313, 'level': 2299, 'consolidating': 933, 'however': 1951, 'currently': 1047, 'uptrend': 4084, 'survive': 3755, 'comedy': 866, 'gold': 1743, 'please': 2895, 'use': 4094, 'discuss': 1189, 'portfolio': 2928, 'tickers': 3889, 'portfolios': 2929, 'warren': 4181, 'buffet': 656, 'help': 1875, 'users': 4099, 'giving': 1728, 'constructive': 936, 'criticism': 1020, 'quarterly': 3062, 'public': 3032, 'report': 3202, 'investors': 2130, 'opportunity': 2726, 'rebalance': 3129, 'highly': 1895, 'recommend': 3142, 'reading': 3114, 'check': 781, 'wiki': 4247, 'list': 2325, 'relevant': 3179, 'posts': 2940, 'book': 587, 'recommendations': 3144, 'wiki_relevant_posts': 4250, '2c_books': 84, '2c_wiki_recommendations': 85, 'find': 1558, 'stocks': 3658, 'own': 2767, 'using': 4100, 'scanner': 3357, 'broker': 636, 'finviz': 1561, 'further': 1662, 'websites': 4206, 'wiki_relevant_websites': 4251, '2fapps': 86, 'yet': 4327, 'brokers': 638, 'wiki_brokers_for_investing': 4248, 'search': 3375, 'haven': 1843, 'started': 3627, 'investing': 2125, 'setup': 3414, 'paper': 2785, 'basics': 476, 'orders': 2743, 'vs': 4155, 'limit': 2313, 'wiki_is_there_a_way_to_practice': 4249, '3f': 105, 'aware': 438, 'cycle': 1059, 'which': 4232, 'fidelity': 1548, 'issues': 2160, 'updates': 4074, 'state': 3631, 'global': 1730, 'cycles': 1060, 'note': 2661, 'changes': 764, 'links': 2321, 'often': 2695, 'since': 3507, 'enlightening': 1364, 'investopedia': 2128, 'falling': 1491, 'price': 2976, 'art': 384, 'selling': 3397, 'losing': 2365, 'position': 2932, 'biases': 534, 'previous': 2974, 'stickies': 3650, 'title': 3906, '3a': 103, '22rate': 72, '22': 71, 'restrict_sr': 3234, 'sort': 3566, 'called': 690, 'winning': 4264, 'bought': 601, 'made': 2391, 'nice': 2632, 'amount': 318, 'morning': 2545, 'funny': 1660, 'part': 2790, 'elmo': 1332, 'navarro': 2599, 'tariff': 3807, 'expert': 1451, 'such': 3713, 'economist': 1300, 'name': 2586, 'rearranged': 3123, 'ron': 3297, 'vara': 4118, 'dumbass': 1270, 'hurt': 1965, 'rest': 3231, 'corrupt': 970, 'fascist': 1503, 'agenda': 262, 'keeps': 2207, 'coming': 868, 'guess': 1796, 'oh': 2696, 'gourd': 1758, 'puts': 3049, 'absolutely': 178, 'february': 1526, 'dxy': 1281, 'dropped': 1263, '50': 128, 'pushing': 3046, 'bond': 583, 'increased': 2036, '81': 154, 'period': 2842, 'front': 1640, 'updated': 4073, 'daily': 1063, 'eod': 1380, 'shorts': 3474, 'thinking': 3863, 'spending': 3588, '250': 78, 'below': 517, 'tmmw': 3910, 'partial': 2791, 'cuz': 1055, 'im': 1995, 'robinhood': 3290, 'reddit': 3151, '60': 138, 'nvidia': 2671, '70': 147, 'kulr': 2237, '40': 108, 'icu': 1977, 'blgo': 562, 'optt': 2736, 'lmk': 2341, 'invest': 2124, 'crypto': 1035, 'young': 4334, 'double': 1237, 'spend': 3587, '500': 129, 'start': 3626, 'look': 2356, 'somehow': 3554, 'second': 3378, 'fool': 1600, 'rational': 3099, 'shown': 3482, 'partially': 2792, 'supported': 3741, 'cult': 1039, 'wild': 4253, 'scary': 3360, 'acquisition': 201, 'watchlist': 4188, 'almost': 298, '50k': 131, 'port': 2927, 'ok': 2698, 'brain': 610, 'dead': 1082, 'lol': 2349, 'funds': 1659, 'directly': 1181, 'physical': 2862, 'intermediate': 2109, 'contracts': 948, 'vaults': 4120, 'switzerland': 3769, 'singapore': 3509, 'expensive': 1448, 'examples': 1424, 'zsil': 4345, 'sw': 3761, 'zgld': 4343, 'auusi': 427, 'quite': 3072, 'etfs': 1397, 'swiss': 3766, 'domiciled': 1225, 'gonna': 1746, 'work': 4289, 'itself': 2164, 'doom': 1234, 'gloom': 1733, '4900': 123, 'deleted': 1121, 'app': 355, 'underway': 4037, 'petro': 2852, 'longer': 2355, 'brics': 626, 'interesting': 2106, 'natural': 2596, 'barrel': 472, 'process': 2992, 'allowed': 293, 'control': 952, 'fed': 1527, 'cooked': 958, 'hello': 1873, 'spy': 3608, '8882': 157, 'showing': 3481, 'issue': 2158, 'white': 4236, 'act': 204, 'show': 3478, 'plan': 2882, 'fuck': 1646, 'poor': 2921, 'retarded': 3247, 'ball': 458, 'clean': 823, 'energy': 1356, 'promising': 3010, 'sector': 3381, 'elect': 1324, 'bring': 628, 'headwinds': 1853, 'profitable': 3003, 'affect': 247, 'decline': 1099, 'slow': 3526, 'cause': 738, 'reverse': 3257, 'course': 987, 'stop': 3665, 'listening': 2329, 'noise': 2647, 'bud': 654, 'recommendation': 3143, 'set': 3412, 'forget': 1615, 'internationally': 2113, 'except': 1425, 'consulted': 937, 'source': 3570, 'ask': 392, 'yourself': 4337, 'sense': 3402, 'questions': 3068, 'assuming': 401, '2045': 68, 'conditions': 913, 'smart': 3533, 'short': 3468, 'medium': 2461, 'overvalued': 2765, '98th': 166, 'percentile': 2834, 'math': 2441, '80': 153, 'individual': 2054, 'picks': 2865, 'drag': 1247, 'extreme': 1466, 'territory': 3837, 'sound': 3568, 'react': 3110, 'negatively': 2612, 'upon': 4077, 'receiving': 3133, 'feedback': 1531, 'were': 4220, 'presumably': 2970, 'seeking': 3387, 'thorough': 3867, 'argument': 378, 'strategy': 3678, 'confident': 915, 'recommending': 3146, 'allocation': 292, 'friend': 1636, 'family': 1493, 'member': 2466, 'hiring': 1901, 'hire': 1899, 'reaction': 3111, 'heavily': 1862, 'concentrated': 904, 'geographically': 1707, 'albeit': 287, 'lesser': 2292, 'justifies': 2200, 'investments': 2127, 'rr': 3308, 'future': 1665, 'mention': 2472, 'emotional': 1345, 'unfortunately': 4043, 'temporary': 3828, 'either': 1320, 'reasons': 3127, 'maintain': 2399, 'true': 3975, 'ago': 267, 'today': 3913, 'yours': 4336, 'obligated': 2676, 'rationally': 3101, 'simply': 3504, 'extremely': 1467, 'difficult': 1174, 'rationale': 3100, 'discounting': 1188, 'trends': 3966, 'couple': 986, 'days': 1076, 'writing': 4305, 'geographical': 1706, 'responses': 3229, 'each': 1282, 'etc': 1395, 'strongest': 3685, 'possible': 2936, 'counterargument': 981, 'justifications': 2199, 'reasoning': 3126, 'weak': 4199, 'better': 530, 'savings': 3346, 'proud': 3023, 'wanted': 4173, 'prove': 3024, 'stranger': 3673, 'internet': 2114, 'apparently': 356, 'international': 2112, 'south': 3572, 'again': 256, 'freeze': 1632, 'fdx': 1521, 'downtrend': 1242, 'ice': 1976, 'rooting': 3301, 'realizes': 3121, 'terrible': 3834, 'slightly': 3524, 'worked': 4290, 'backtracking': 447, 'economic': 1297, 'demise': 1128, 'america': 312, 'well': 4216, 'maga': 2393, 'basis': 477, 'unwinding': 4070, 'causing': 740, 'speculation': 3583, 'selloff': 3398, 'middle': 2493, 'class': 820, 'homeless': 1928, 'destroying': 1157, 'homelessness': 1929, 'illegal': 1993, 'round': 3306, 'camps': 696, 'provide': 3027, 'free': 1630, 'labor': 2242, 'corporations': 968, 'profit': 3002, 'four': 1622, 'lying': 2387, 'japan': 2172, 'uk': 4014, 'two': 4002, 'largest': 2255, 'holders': 1921, 'bills': 547, 'iirc': 1992, '200k': 59, 'loss': 2366, 'haha': 1810, 'surrounded': 3752, 'himself': 1898, 'telling': 3826, 'wants': 4174, 'hear': 1858, 'filtering': 1553, 'gets': 1713, 'bunch': 668, 'idiots': 1985, 'center': 746, 'circle': 809, 'rich': 3266, 'shorted': 3470, 'intentionally': 2102, 'walked': 4163, 'away': 439, 'billions': 546, 'aren': 376, 'playing': 2892, 'calculated': 686, 'attack': 411, 'single': 3510, 'person': 2846, 'robbed': 3289, 'mango': 2412, 'challenges': 759, 'cage': 685, 'wrestlemania': 4302, '41': 111, 'settle': 3413, 'differences': 1172, 'kindergarten': 2221, 'graduation': 1765, 'certificate': 753, 'ideally': 1980, 'form': 1618, 'version': 4127, 'worry': 4294, 'buddy': 655, 'personal': 2847, 'favorite': 1514, 'graph': 1769, 'brought': 642, 'breakeven': 619, 'rode': 3293, 'nothing': 2662, 'doge': 1220, 'coin': 852, 'elon': 1333, 'tweeting': 3998, 'markets': 2426, '9000': 161, 'gif': 1718, 'giphy': 1721, '3oz8xzgfhartvh99yi': 107, 'carryover': 723, 'indefinitely': 2042, 'taxpayer': 3814, 'felon': 1540, 'lump': 2383, 'sum': 3724, 'tends': 3830, 'beat': 488, 'dca': 1077, 'minimizes': 2507, 'data': 1073, 'schd': 3363, 'versus': 4128, 'etf': 1396, 'ie': 1986, 'fxaix': 1668, 'higher': 1890, 'dose': 1236, '027': 4, 'mean': 2454, 'info': 2069, 'post': 2938, 'evil': 1420, 'nation': 2591, 'ground': 1787, 'ashes': 390, 'sun': 3728, 'tzu': 4010, 'pardon': 2788, 'crazy': 1004, 'after': 253, 'mess': 2478, 'compliance': 895, 'seem': 3389, 'anything': 349, 'anywhere': 351, 'extension': 1461, 'spring': 3605, '2024': 65, 'traded': 3945, 'afterwards': 255, 'rkt': 3285, 'dividend': 1207, 'surprise': 3749, 'keep': 2205, 'occasional': 2681, 'covered': 991, 'chicken': 790, 'driving': 1260, 'car': 714, 'semi': 3400, 'yikes': 4330, 'shitshow': 3456, 'continually': 943, 'surprises': 3751, 'shockingly': 3460, 'wonder': 4284, 'congress': 920, 'able': 173, 'spine': 3595, 'counter': 980, 'threat': 3875, 'drumpf': 1266, 'rabid': 3076, 'qult': 3073, 'fucking': 1649, 'clown': 841, 'aggressor': 265, 'allies': 290, 'siding': 3492, 'remembered': 3184, 'byddy': 681, 'mark': 2423, 'words': 4288, 'frame': 1624, 'reference': 3158, 'actual': 212, 'documents': 1214, 'talking': 3796, 'clarify': 819, 'stating': 3634, 'moving': 2559, 'known': 2233, 'definitions': 1113, 'doesn': 1218, 'dictatorship': 1167, 'verbiage': 4126, 'importantly': 2014, 'works': 4292, 'different': 1173, 'demanding': 1127, 'explodes': 1455, 'shorting': 3472, 'thanks': 3845, 'annoying': 339, 'brother': 640, 'ego': 1318, 'throwing': 3881, 'tantrums': 3803, 'get': 1712, 'bigger': 540, 'attention': 415, 'disgusted': 1193, 'entered': 1372, 'yesterday': 4326, '24': 76, 'fortunately': 1619, 'dip': 1179, 'upswing': 4082, '28': 82, 'cents': 749, '87': 156, 'average': 431, '1728': 37, 'potential': 2943, 'profits': 3004, 'carney': 721, 'mastermind': 2438, 'saved': 3344, 'til': 3894, 'later': 2259, 'strengthen': 3682, 'currency': 1045, 'cashing': 731, 'jpn': 2193, 'eu': 1402, 'stronger': 3684, 'mostly': 2549, 'sometimes': 3558, 'dcfs': 1079, '10ks': 15, 'revisit': 3259, 'reports': 3204, 'analysis': 322, 'read': 3113, 'perspectives': 2849, 'watch': 4186, 'tutorials': 3995, 'effective': 1310, 'learning': 2278, 'blinked': 565, 'once': 2707, 'anyone': 348, 'gme': 1736, 'guys': 1802, 'conditioned': 912, 'instant': 2088, 'gratification': 1771, 'done': 1228, 'fixed': 1574, 'sighted': 3493, 'depressing': 1143, 'street': 3680, 'rebalanced': 3130, 'em': 1337, 'nope': 2654, 'drops': 1265, 'credibility': 1009, 'confidence': 914, 'fix': 1573, 'admin': 226, 'stepping': 3646, 'happen': 1822, 'gop': 1751, 'step': 3645, 'late': 2258, 'signing': 3498, 'tweets': 3999, 'quoting': 3075, 'boomers': 592, 'bro': 632, 'lmao': 2340, 'dumping': 1275, 'joby': 2186, 'wholesale': 4239, 'premium': 2963, 'oz': 2772, 'suisse': 3723, '150': 30, '140': 26, 'thats': 3847, 'imagine': 1997, 'having': 1844, 'backed': 445, 'crash': 998, 'essentially': 1391, 'worthless': 4298, 'chair': 757, 'decision': 1096, 'save': 3343, 'loyalist': 2377, 'decide': 1094, 'fate': 1508, 'happy': 1828, 'love': 2372, 'allows': 295, 'live': 2334, 'vicariously': 4135, 'upper': 4078, 'hand': 1815, 'against': 257, 'liberals': 2301, 'awesome': 440, 'stuff': 3693, 'care': 718, 'proof': 3012, 'genius': 1700, 'excuses': 1431, 'changing': 765, 'nipu': 2642, 'randomized': 3089, 'multi': 2568, 'phase': 2857, 'ii': 1991, 'study': 3692, 'evaluated': 1408, 'efficacy': 1312, 'universal': 4050, 'cancer': 704, 'vaccine': 4106, 'uv1': 4103, 'combination': 862, 'checkpoint': 782, 'inhibitors': 2076, 'ipilimumab': 2136, 'nivolumab': 2643, 'treatment': 3961, 'mesothelioma': 2477, 'sponsored': 3599, 'oslo': 2750, 'university': 4052, 'hospital': 1943, 'bristol': 630, 'myers': 2581, 'squibb': 3614, 'ultimovacs': 4018, 'trial': 3967, 'enrolled': 1367, '118': 19, 'patients': 2809, 'alone': 299, 'primary': 2980, 'objective': 2675, 'determine': 1159, 'whether': 4231, 'leads': 2270, 'clinically': 831, 'significant': 3497, 'improvement': 2022, 'progression': 3007, 'survival': 3754, 'pfs': 2855, 'malignant': 2406, 'pleural': 2898, 'mpm': 2561, 'platinum': 2887, 'doublet': 1238, 'chemotherapy': 786, 'reached': 3109, 'inheritance': 2072, 'consistently': 931, 'ruins': 3311, 'touches': 3935, 'pauper': 2812, 'wealth': 4202, 'support': 3740, 'build': 657, 'isnt': 2155, 'economics': 1299, 'impact': 2003, 'hence': 1879, 'reacts': 3112, 'debacle': 1086, 'goods': 1748, 'consumes': 939, 'wayyyy': 4196, 'produces': 2996, 'surplus': 3748, 'supplier': 3738, 'services': 3411, 'royally': 3307, 'fucked': 1647, 'replacing': 3200, 'elsewhere': 1335, 'needs': 2610, 'truly': 3976, 'interdependent': 2103, 'system': 3774, 'accepted': 185, 'until': 4067, 'due': 1268, 'favourable': 1515, 'negotiations': 2614, 'supply': 3739, '90': 160, 'pause': 2813, 'nations': 2594, 'screwing': 3373, 'tank': 3801, 'faster': 1506, 'incredibly': 2040, 'susceptible': 3756, 'movements': 2556, 'dependent': 1138, 'understand': 4031, 'education': 1307, 'degraded': 1116, 'decades': 1091, 'tiring': 3905, 'ass': 397, 'ignorant': 1989, 'comments': 872, 'murica': 2572, 'borderline': 594, 'sold': 3548, 'everywhere': 1417, 'local': 2344, 'hobby': 1916, 'shops': 3467, 'facebook': 1472, 'definitely': 1111, 'being': 506, 'hyped': 1970, 'rddt': 3106, 'subreddit': 3705, 'useful': 4096, 'accurate': 191, 'information': 2070, 'especially': 1389, 'anal': 321, 'isis': 2152, 'becuz': 494, 'reciyclical': 3140, 'won': 4283, 'pass': 2800, 'arbitration': 371, 'accurately': 192, 'predict': 2960, 'forest': 1613, 'fires': 1564, 'dope': 1235, 'id': 1978, 'dvax': 1279, 'yeah': 4321, 'realized': 3120, 'happens': 1825, 'attacked': 412, 'matter': 2444, 'run': 3317, 'nuclear': 2666, 'option': 2734, 'laugh': 2262, 'looked': 2357, 'hood': 1934, 'turtles': 3994, 'raised': 3082, 'hours': 1947, 'pre': 2957, 'yo': 4332, 'ya': 4316, 'bing': 548, 'bong': 585, 'brace': 609, 'volatility': 4148, 'west': 4221, 'cuts': 1053, 'russia': 3320, 'access': 186, 'swift': 3765, 'gappers': 1680, 'futures': 1666, 'euro': 1403, 'crude': 1029, 'oil': 2697, 'gas': 1682, 'corn': 965, 'indication': 2049, 'investor': 2129, 'expectations': 1445, 'direction': 1180, 'generally': 1696, 'indicates': 2048, 'optimism': 2732, 'suggesting': 3722, 'conversely': 956, 'indicate': 2047, 'pessimism': 2850, 'suggest': 3721, 'indicators': 2051, 'activity': 209, 'depends': 1139, 'various': 4119, 'factors': 1477, 'influence': 2067, 'beginner': 501, 'following': 1598, 'roth': 3304, 'ira': 2140, 'qqqm': 3058, 'vti': 4156, 'fsggx': 1643, 'fitlx': 1572, '7k': 151, 'bit': 549, '1k': 54, 'brokerage': 637, 'acct': 190, 'hopefully': 1938, 'advantage': 236, 'tips': 3903, 'allocating': 291, 'tysm': 4009, 'firms': 1567, 'retail': 3241, 'ath': 407, 'giga': 1719, 'rapid': 3092, 'bouncing': 603, 'worse': 4295, 'generated': 1697, 'technical': 3821, 'weekly': 4210, 'established': 1392, 'sma': 3530, 'geo_usa': 1705, 'ind_stocksonly': 2041, 'sh_avgvol_o2000': 3420, 'sh_curvol_o5000': 3421, 'sh_instown_o50': 3422, 'sh_relvol_o1': 3423, 'ta_rsi_nob60': 3777, 'ta_sma20_sa50': 3779, 'ta_sma200_pa': 3778, 'ta_sma50_sa200': 3780, 'ft': 1645, 'pb': 2818, 'obvious': 2679, 'refreshing': 3160, 'cnbc': 845, 'kashkari': 2201, 'rising': 3279, 'yields': 4329, 'stumbled': 3694, 'exciting': 1428, 'star': 3625, 'navigation': 2600, 'group': 1789, 'ltd': 2378, 'cse': 1038, 'sna': 3538, 'inflight': 2066, 'safety': 3329, 'monitoring': 2538, 'fascinated': 1501, 'modern': 2528, 'aviation': 434, 'couldn': 978, 'bullish': 664, 'solutions': 3551, 'optimizing': 2733, 'industry': 2060, 'summary': 3726, 'isms': 2153, 'acquires': 200, 'computes': 900, 'aircraft': 280, 'providing': 3030, 'actionable': 206, 'insights': 2085, 'tracking': 3941, 'transmission': 3953, 'recent': 3134, 'developments': 1162, 'include': 2028, 'ongoing': 2710, 'discussions': 1192, 'aerocontractors': 246, 'air': 279, 'peace': 2820, 'nigeria': 2635, 'upgrades': 4076, 'almasria': 297, 'airlines': 282, 'egypt': 1319, 'proposals': 3016, 'acn': 199, 'ethiopian': 1399, 'talks': 3797, 'boliviana': 579, 'de': 1081, 'aviación': 433, 'despite': 1154, 'cancellations': 703, 'gaining': 1672, 'traction': 3943, 'modernizing': 2529, 'highlighted': 1893, 'innovative': 2079, 'provides': 3029, 'alerts': 288, 'valuable': 4109, 'operations': 2721, 'showcase': 3479, 'moar': 2523, 'club': 842, 'nuke': 2667, 'concern': 906, 'near': 2603, 'drop': 1262, 'effect': 1309, 'bs': 646, 'bed': 495, 'shortly': 3473, 'damage': 1064, 'struggle': 3686, 'sputter': 3607, 'add': 216, 'mik': 2495, 'cannot': 707, 'during': 1278, 'monday': 2534, 'fun': 1654, 'atm': 409, 'rklb': 3284, '42': 112, 'undisclosed': 4038, 'lumen': 2382, 'asts': 405, 'rtx': 3309, '18': 39, 'ionq': 2133, 'amzn': 319, '06': 6, 'amd': 310, 'taken': 3788, 'stimulus': 3653, '235': 75, 'highest': 1891, '300': 91, 'republicans': 3209, 'removed': 3190, 'saving': 3345, 'grace': 1763, 'cpi': 995, 'ppi': 2952, 'both': 599, 'came': 694, 'job': 2184, 'quant': 3061, 'cool': 960, 'finra': 1560, 'ats': 410, 'conservative': 928, 'chest': 789, 'bumping': 667, 'stories': 3670, 'firing': 1566, 'judges': 2195, 'deporting': 1141, 'students': 3690, 'trans': 3951, 'school': 3365, 'sports': 3602, 'bans': 467, 'bored': 595, 'devalue': 1160, 'geniuses': 1701, 'realize': 3119, 'assets': 399, 'crashing': 1001, 'ked': 2204, '401k': 109, 'resume': 3238, 'amass': 306, 'inventory': 2123, 'moved': 2554, 'warehousing': 4176, 'jit': 2182, 'shipping': 3451, 'ability': 172, 'large': 2252, 'stockpile': 3657, 'limited': 2314, 'sec': 3377, 'paranoid': 2787, 'nonsense': 2651, 'hedge': 1865, 'fund': 1655, 'excited': 1427, 'date': 1074, 'symbol': 3772, 'shortvolume': 3475, 'shortexemptvolume': 3471, 'totalvolume': 3934, '20211209': 64, 'ppsi': 2953, '6026762': 140, '296895': 83, '12855584': 23, '46': 120, 'party': 2799, 'cares': 720, 'insanity': 2082, 'delta': 1123, 'summarized': 3725, 'eow': 1381, 'cot': 975, 'lunatic': 2384, 'left': 2283, 'warning': 4178, 'democracy': 1129, 'underpinning': 4029, 'obliterated': 2677, 'flowed': 1588, 'gone': 1745, 'citizens': 814, 'responsibility': 3230, 'manifestation': 2413, 'hostility': 1944, 'towards': 3937, 'mind': 2501, 'clint': 833, 'eastwood': 1290, 'tommy': 3921, 'lee': 2282, 'jones': 2190, 'donald': 1227, 'sutherland': 3759, 'description': 1148, 'wait': 4158, 'tax': 3812, 'fall': 1489, 'waiting': 4159, 'bank': 462, 'announce': 336, 'deep': 1100, 'strategic': 3675, 'harmonized': 1835, 'swap': 3762, 'shits': 3455, 'instrument': 2091, 'spontaneously': 3600, 'colapse': 855, 'agolf': 268, 'shittler': 3458, 'tangerine': 3799, 'toddler': 3914, 'criminals': 1015, 'belong': 515, 'jail': 2168, 'forgot': 1617, 'existed': 1436, 'apart': 353, 'goal': 1738, 'wake': 4160, 'wouldn': 4300, 'denial': 1133, 'knowing': 2231, 'safest': 3328, 'housing': 1949, 'popular': 2925, 'areas': 375, 'play': 2889, 'golf': 1744, 'heads': 1852, 'fold': 1595, 'nicely': 2633, 'typo': 4008, 'hitting': 1907, 'submit': 3704, 'forgive': 1616, 'humble': 1959, 'crayon': 1003, 'eating': 1294, 'ape': 354, 'landing': 2250, 'breakdown': 618, 'between': 532, 'necessities': 2606, 'recreation': 3149, 'purchases': 3042, 'grocers': 1783, 'calling': 691, 'embargo': 1340, 'pr': 2954, 'spin': 3594, 'kind': 2219, 'distract': 1201, 'yoyo': 4340, 'aoc': 352, 'el': 1323, 'salvador': 3335, 'virtually': 4144, 'everybody': 1414, 'stopped': 3666, 'shopping': 3466, 'sucked': 3714, 'tinyhands': 3901, 'killing': 2217, 'phony': 2861, 'commitment': 876, 'anyway': 350, 'stung': 3695, 'hardcore': 1830, 'shoppers': 3465, 'hasn': 1838, 'kick': 2212, 'among': 317, 'afford': 250, 'voted': 4152, 'unbelievably': 4023, '77': 150, 'million': 2498, 'fell': 1538, 'chatgpt': 776, 'model': 2524, 'results': 3237, 'orange': 2739, 'fucker': 1648, 'cyberlux': 1057, 'wont': 4286, 'upset': 4081, 'wholesome': 4240, 'trash': 3955, 'q3': 3052, 'liz': 2338, 'truss': 3980, 'kwasi': 2239, 'kwarteng': 2238, 'smaller': 3532, 'scale': 3354, 'plays': 2893, 'derailed': 1145, 'radical': 3078, 'politicians': 2917, 'enough': 1365, 'remove': 3189, 'her': 1880, 'steps': 3647, 'goes': 1741, 'depression': 1144, 'priced': 2977, 'break': 617, 'rip': 3274, 'easily': 1289, 'employed': 1347, 'shifted': 3446, 'cooking': 959, 'rather': 3096, 'takeout': 3789, 'drive': 1258, 'dramatically': 1250, 'home': 1927, 'plans': 2884, 'switch': 3767, 'enjoy': 1361, 'shift': 3445, 'times': 3900, 'unexpected': 4041, 'expectation': 1444, 'house': 1948, 'disaster': 1185, 'asking': 394, 'opinions': 2723, 'opposing': 2728, 'views': 4141, 'weighing': 4212, 'pros': 3017, 'cons': 924, 'command': 869, 'sunbound': 3729, 'vessel': 4131, 'question': 3067, 'epitome': 1383, 'honest': 1931, 'representation': 3205, 'political': 2915, 'living': 2337, 'memory': 2469, 'immensely': 2000, 'destroys': 1158, 'happier': 1826, 'oligarchs': 2704, 'figure': 1550, 'electing': 1326, 'richard': 3267, 'nixon': 2644, 'elected': 1325, '1947': 45, '1953': 46, 'nearly': 2604, '1961': 47, '1969': 48, '1974': 50, 'occupied': 2682, 'instead': 2090, 'prison': 2986, 'crimes': 1013, 'walk': 4162, 'scot': 3368, '1973': 49, 'engineered': 1357, 'coup': 985, 'install': 2087, 'become': 493, 'ensure': 1368, 'officials': 2694, 'criminal': 1014, 'intent': 2100, 'regain': 3164, 'face': 1471, 'justice': 2198, 'easy': 1291, 'gerald': 1709, 'worst': 4296, 'history': 1904, 'typical': 4007, 'gaslighting': 1683, 'rallying': 3086, 'cry': 1033, 'land': 2249, 'terms': 3833, 'exact': 1421, 'opposite': 2729, 'paying': 2816, 'immortal': 2001, 'michael': 2488, 'bolton': 581, '1999': 53, 'spiro': 3596, 'agnew': 266, 'spent': 3589, 'lives': 2336, 'federal': 1528, 'pound': 2945, 'wing': 4262, 'positions': 2933, 'fleecing': 1582, 'dollars': 1224, 'extention': 1463, 'across': 203, 'globe': 1732, 'dream': 1253, 'looks': 2359, 'gyina': 1804, 'ready': 3116, 'phone': 2859, 'ring': 3272, 'hook': 1935, '5000': 130, 'capital': 712, 'gains': 1673, 'pocket': 2904, 'working': 4291, 'rn': 3287, 'usually': 4101, 'suckers': 3715, 'ban': 459, 'bet': 525, 'lost': 2368, 'wall': 4166, '4359': 116, '540': 135, 'within': 4272, '522': 134, '186': 40, 'banned': 466, 'wins': 4265, 'losses': 2367, 'join': 2188, 'discord': 1186, 'dumpster': 1277, 'behind': 505, 'wendy': 4218, 'handy': 1821, 'hour': 1946, 'eat': 1292, 'frostys': 1641, 'hmm': 1914, 'sounds': 3569, 'sir': 3511, 'bolster': 580, 'politically': 2916, 'greatest': 1773, 'pressure': 2969, 'failed': 1480, 'covid': 993, 'policies': 2913, 'great': 1772, 'tv': 3996, 'kissing': 2225, 'tired': 3904, 'amirite': 316, 'clear': 824, 'self': 3394, 'interests': 2107, 'game': 1677, 'likes': 2312, 'blame': 556, 'yourselves': 4338, 'ge': 1689, 'rose': 3302, 'drone': 1261, 'amc': 309, 'fsr': 1644, 'hrs': 1952, 'clearly': 825, 'watching': 4187, 'marvel': 2432, 'movies': 2558, 'leadership': 2268, 'betrayed': 528, 'uneducated': 4039, 'sucking': 3716, 'nipple': 2641, 'propaganda': 3013, '6969': 144, 'broken': 635, 'carts': 727, 'walmart': 4168, 'smooth': 3535, '14': 25, 'dec': 1089, 'along': 300, 'fake': 1488, 'tan': 3798, 'embargoing': 1342, 'minerals': 2505, 'needed': 2609, 'military': 2496, 'tech': 3820, 'sectors': 3382, 'amazed': 307, '90k': 162, '1m': 55, '25bps': 79, 'fellas': 1539, 'hive': 1908, 'contest': 941, 'adult': 234, 'grift': 1781, 'blatant': 558, 'partisan': 2794, 'forced': 1606, 'laws': 2266, 'rules': 3314, 'passed': 2802, 'unanimously': 4021, 'prevent': 2973, 'cluster': 843, 'sitting': 3514, 'highs': 1896, 'gays': 1686, 'pelosi': 2825, 'several': 3416, 'razor': 3103, 'syntheia': 3773, 'corp': 966, 'share': 3433, 'advanced': 235, 'improve': 2021, 'service': 3410, 'helping': 1877, 'centers': 747, 'restaurants': 3233, 'manage': 2408, 'tasks': 3810, 'agentnlp': 263, 'ordernlp': 2742, 'streamline': 3679, 'communication': 882, 'reduce': 3154, 'repetitive': 3197, 'enhance': 1359, 'experience': 1449, 'cases': 729, 'incoming': 2032, 'ensuring': 1370, 'guests': 1797, 'reservations': 3217, 'handled': 1818, 'efficiently': 1314, 'estate': 1393, 'offices': 2692, 'virtual': 4143, 'receptionist': 3136, 'means': 2456, 'missed': 2517, 'property': 3015, 'listings': 2330, 'communicated': 881, 'buyers': 678, 'doctors': 1213, 'clinics': 832, 'responds': 3227, 'patient': 2808, 'inquiries': 2080, 'booking': 588, 'appointments': 361, 'essential': 1390, 'guidance': 1798, 'delay': 1119, 'businesses': 674, 'tools': 3927, 'easier': 1288, 'helps': 1878, 'industries': 2059, 'healthcare': 1856, 'smoothly': 3536, 'manipulation': 2415, 'mf': 2485, 'signs': 3499, 'texts': 3842, 'grief': 1780, 'created': 1006, 'refugees': 3161, 'though': 3869, 'groceries': 1782, 'fashioned': 1504, 'beautiful': 490, 'bullets': 663, 'understanding': 4033, 'healthy': 1857, 'culture': 1040, 'posturing': 2941, 'freebie': 1631, 'fantasies': 1496, 'fairy': 1485, 'tales': 3794, 'substance': 3708, 'yelling': 4324, 'oklahoma': 2700, 'reality': 3118, 'california': 688, 'opposition': 2730, 'stoke': 3659, 'anger': 331, 'tangible': 3800, 'current': 1046, 'crisis': 1017, 'manufactured': 2416, 'branded': 613, 'entourage': 1376, 'sniffling': 3542, 'uninformed': 4045, 'sycophants': 3771, 'consequences': 927, 'owning': 2770, 'libs': 2303, '10yr': 16, 'vertical': 4129, 'mornings': 2546, 'serious': 3407, 'slv': 3529, 'takes': 3790, 'sunglasses': 3731, 'boycott': 606, 'hit': 1905, '83': 155, 'roids': 3294, 'addicted': 218, 'suppose': 3744, 'lie': 2305, 'cheat': 780, 'ip': 2134, 'ends': 1353, 'protections': 3021, 'recourse': 3148, 'behavior': 503, 'tell': 3825, 'operate': 2719, 'bending': 518, 'knee': 2228, 'totalitarian': 3932, 'claims': 818, 'utopia': 4102, 'deliver': 1122, 'hegemony': 1869, 'anti': 344, 'losers': 2363, 'complete': 893, 'bitching': 551, 'administration': 227, 'abusing': 180, 'bastion': 479, 'fairness': 1484, 'stand': 3620, 'overreach': 2763, 'policy': 2914, 'central': 748, 'monetary': 2536, 'independent': 2043, 'executive': 1433, 'legislative': 2287, 'branch': 611, 'fiscal': 1569, 'goddamn': 1740, 'explain': 1453, 'tme': 3909, 'rises': 3278, '66': 143, 'minutes': 2512, 'black': 554, 'lambo': 2248, 'blue': 570, 'taiwanese': 3786, 'ukrainian': 4016, 'supporter': 3742, 'muslim': 2575, 'non': 2648, 'invaded': 2121, 'iraq': 2142, 'vietnam': 4140, 'mic': 2487, 'threaten': 3876, 'annex': 335, 'greenland': 1778, 'panama': 2780, 'ukraine': 4015, 'israel': 2157, 'genocides': 1702, 'arming': 381, 'wipe': 4267, 'native': 2595, 'starvation': 3629, 'hawaii': 1845, '1945': 44, 'root': 3300, 'speak': 3578, 'harder': 1831, 'pissed': 2872, 'anime': 334, 'betrayals': 527, 'pop': 2922, 'convenient': 954, 'bbq': 483, 'potato': 2942, 'chips': 799, 'sneakers': 3541, 'guitars': 1799, 'cyrpto': 1061, 'naming': 2588, 'proved': 3025, 'arhs': 379, 'united': 4048, 'furniture': 1661, 'closed': 835, 'christmas': 805, 'poked': 2912, 'dragon': 1248, 'burned': 671, 'holding': 1922, 'usds': 4093, 'outside': 2758, 'stable': 3615, 'foreign': 1610, 'currencies': 1044, 'bob': 577, 'resolve': 3222, 'situation': 3515, 'hes': 1884, 'mad': 2390, 'games': 1678, 'whos': 4242, 'kiss': 2224, 'sycophant': 3770, 'cryptocurrency': 1036, 'charts': 774, 'coinbase': 853, 'btcusd': 651, 'ethusd': 1400, 'jasmyusd': 2174, 'pepeusd': 2830, 'cadres': 684, 'rural': 3319, 'villages': 4142, 'universities': 4051, 'push': 3044, 'stamp': 3617, 'wilderness': 4254, 'cabinet': 682, '4260': 113, '31225': 95, 'uaa': 4011, 'chance': 761, 'vote': 4151, 'candidate': 705, 'available': 429, 'keeping': 2206, 'laughable': 2263, 'stances': 3619, 'democrats': 1132, 'poison': 2911, 'hah': 1809, '3d': 104, 'modelling': 2525, 'order': 2740, 'magnitude': 2395, 'gamble': 1675, 'magnitudes': 2396, 'twat': 3997, 'absolute': 177, 'favourite': 1516, 'emoluments': 1343, 'clause': 822, 'btw': 652, 'abuse': 179, 'treats': 3962, 'powers': 2951, 'requires': 3214, 'economically': 1298, 'ironically': 2145, 'ensures': 1369, 'fictional': 1547, 'advisor': 242, 'grok': 1785, 'thiel': 3859, 'helbent': 1870, 'classes': 821, 'oligarch': 2703, 'minus': 2511, 'windows': 4261, 'fairly': 1483, 'asked': 393, 'supreme': 3746, 'court': 988, 'agencies': 261, 'citing': 813, 'assert': 398, 'regulators': 3170, 'explains': 1454, 'caved': 742, 'pivoted': 2877, 'bullshit': 665, 'pumps': 3039, 'replaced': 3199, 'reasonable': 3125, 'reducing': 3155, 'holdings': 1923, 'close': 834, 'zero': 4342, 'avoid': 435, 'bomb': 582, 'timer': 3899, 'ticking': 3890, 'evaluate': 1407, 'commercial': 873, 'hybrid': 1968, 'reads': 3115, 'iq': 2139, 'marketing': 2425, 'intern': 2110, 'capitaliq': 713, 'barfed': 470, 'shitty': 3459, 'pager': 2777, 'dude': 1267, 'fight': 1549, 'posted': 2939, 'comment': 870, 'megawatt': 2464, 'moves': 2557, 'bagging': 452, 'labrador': 2243, 'mineral': 2504, 'resources': 3224, 'raising': 3084, 'shows': 3483, 'resource': 3223, 'expansion': 1442, 'sooo': 3563, 'cent': 745, 'huh': 1957, 'caught': 737, 'admins': 229, 'fuxked': 1667, 'hosed': 1942, 'qualified': 3059, 'advisors': 243, 'moment': 2531, 'costs': 974, 'increase': 2035, 'media': 2459, 'twist': 4000, 'number': 2668, 'etrade': 1401, 'feed': 1530, 'articles': 386, 'hands': 1820, 'diamonds': 1164, 'forever': 1614, 'bb': 482, 'bitcoin': 552, 'mining': 2508, 'mara': 2420, 'wulf': 4310, 'bitf': 553, 'btbt': 647, 'cifr': 808, 'hut': 1967, 'sq': 3609, 'dmgi': 1211, 'bigg': 539, 'gree': 1774, 'btcm': 648, 'glxy': 1734, 'gbtc': 1687, 'ibit': 1975, 'fbtc': 1518, 'arkb': 380, 'bitb': 550, 'btco': 649, 'ezbc': 1470, 'hodl': 1917, 'brrr': 643, 'btcq': 650, 'defi': 1107, 'premarket': 2962, 'gainers': 1671, 'food': 1599, 'sources': 3571, 'pharmaceuticals': 2856, 'airplanes': 284, 'airplane': 283, 'replace': 3198, 'imports': 2016, 'night': 2636, 'regular': 3169, 'monthly': 2541, 'trip': 3972, 'northern': 2658, 'va': 4104, 'products': 2999, 'toilet': 3917, 'towels': 3938, 'klennex': 2226, 'treasury': 3959, 'allowing': 294, 'cock': 849, 'jay': 2175, 'gee': 1690, 'seven': 3415, 'meow': 2475, 'yippee': 4331, 'infinity': 2063, 'bois': 578, 'handed': 1816, 'platter': 2888, 'incredible': 2039, 'prez': 2975, 'tuned': 3989, 'vacation': 4105, 'paced': 2774, 'nature': 2597, 'figured': 1551, 'critical': 1019, 'metals': 2483, 'rang': 3090, 'nasdaq': 2590, 'bell': 513, 'crml': 1023, 'aiming': 277, 'lithium': 2332, 'europe': 1404, 'turn': 3991, 'integrated': 2097, 'battery': 480, 'chain': 756, 'mou': 2551, 'bmw': 573, 'zone': 4344, 'production': 2998, 'including': 2030, '15m': 32, 'payment': 2817, 'seen': 3392, 'dd': 1080, 'appreciated': 362, 'pool': 2919, 'elva': 1336, 'restaurant': 3232, 'coffee': 850, 'walking': 4164, 'charged': 770, 'mstr': 2565, 'aapl': 171, 'effing': 1315, 'site': 3513, 'purchase': 3041, 'sad': 3325, 'lines': 2318, 'science': 3366, 'fusion': 1663, 'coal': 847, 'empires': 1346, 'fickle': 1546, 'lifetime': 2308, 'seconds': 3380, 'consecutive': 925, '_so': 170, 'far_': 1498, 'aladeen': 286, 'comparison': 889, 'germany': 1711, '1934': 43, 'careful': 719, 'pump': 3037, 'killed': 2216, 'iv': 2165, 'crush': 1031, 'movement': 2555, 'sqqq': 3610, 'imo': 2002, 'avoided': 436, 'vix': 4146, 'related': 3174, 'liquid': 2322, 'tighter': 3893, 'bid': 536, 'jockey': 2187, 'canadianinvestor': 700, 'xeqt': 4314, 'choosing': 801, 'vfv': 4132, 'betting': 531, 'focus': 1592, 'dividends': 1208, 'supporters': 3743, 'wrote': 4307, 'victorious': 4137, 'strategist': 3677, 'seeks': 3388, 'battle': 481, 'victory': 4138, 'yes': 4325, 'surprised': 3750, 'described': 1147, 'viable': 4133, 'scenario': 3361, 'full': 1652, 'felons': 1541, 'crooks': 1025, 'serve': 3409, 'greed': 1775, 'create': 1005, 'holiday': 1925, 'hype': 1969, 'nonstop': 2652, 'presentation': 2965, 'happened': 1823, 'winners': 4263, '11': 17, '65': 142, 'gamestop': 1679, 'ryan': 3324, 'cohen': 851, 'latest': 2260, 'move': 2553, 'revive': 3260, 'struggling': 3688, 'video': 4139, 'retailer': 3242, 'putting': 3050, 'billion': 543, 'reserve': 3218, 'microstrategy': 2489, 'footsteps': 1603, 'nintendo': 2640, 'rumors': 3316, 'flying': 1590, 'hugely': 1955, 'successful': 3711, 'console': 932, 'released': 3178, '2017': 62, 'reveal': 3252, 'sherwood': 3443, '08': 7, 'tree': 3963, 'decade': 1090, 'fit': 1571, 'struggled': 3687, 'players': 2891, 'relieved': 3181, 'refocus': 3159, 'core': 964, 'brand': 612, 'yahoo': 4317, '58': 137, 'canada': 698, 'froze': 1642, 'millions': 2499, 'rebates': 3131, 'programs': 3006, 'auto': 423, 'announced': 337, 'broader': 633, 'ibd': 1974, '97': 164, 'h20': 1805, 'chip': 798, 'designed': 1152, 'meet': 2462, 'export': 1457, 'shut': 3485, 'efficiency': 1313, 'standards': 3622, 'urging': 4086, 'criteria': 1018, 'comply': 897, 'scoop': 3367, 'inbox': 2025, 'evening': 1410, 'subscribe': 3707, 'newsletter': 2626, 'draw': 1251, 'wave': 4192, 'seriously': 3408, 'neoauthoritarian': 2616, 'jingping': 2181, 'col': 854, 'force': 1605, 'subjects': 3701, 'burgeoning': 669, 'agree': 269, 'medical': 2460, 'manufacturing': 2418, 'instantly': 2089, 'risks': 3281, 'health': 1855, 'repurchase': 3210, 'april': 366, 'hongqiao': 1933, 'hkd': 1910, '55': 136, '145': 27, '4675': 121, 'rcat': 3105, 'umus': 4019, 'owned': 2768, 'niche': 2634, 'equipment': 1386, 'scaling': 3355, 'nor': 2655, 'aka': 285, 'enter': 1371, 'decent': 1093, 'mba': 2449, 'mgmt': 2486, 'team': 3819, 'ipo': 2137, 'flag': 1575, 'successes': 3710, 'heck': 1864, 'advertisements': 238, 'ndaa': 2602, 'meaning': 2455, 'dod': 1215, 'op': 2716, 'shilling': 3448, 'update': 4072, 'website': 4205, 'riding': 3270, 'momentum': 2532, 'cough': 976, 'donjr': 1229, 'chasing': 775, 'anduril': 329, 'conclusion': 911, '4267': 114, 'turned': 3992, '_are': 169, 'guys_': 1803, 'rebound': 3132, 'curve': 1049, 'korea': 2236, 'perhaps': 2841, 'tbbb': 3815, 'pltr': 2901, 'wears': 4203, 'rally': 3085, 'lunch': 2385, 'egg': 1317, 'poultry': 2944, 'en': 1349, 'passant': 2801, 'kavl': 2203, 'opinion': 2722, 'blackrock': 555, 'taking': 3791, 'brief': 627, 'curiosity': 1042, 'attracted': 416, 'december': 1092, 'result': 3235, 'acts': 211, 'speaks': 3579, 'circulate': 811, 'thinks': 3864, 'gents': 1703, 'girl': 1723, 'sorts': 3567, 'habits': 1807, 'picking': 2864, 'obscure': 2678, 'pick': 2863, 'environmentally': 1379, 'friendly': 1637, 'cardboard': 716, 'packed': 2776, 'flow': 1587, 'traditional': 3949, 'drinker': 1256, 'environment': 1378, 'bonus': 586, 'publicly': 3034, 'tsx': 3987, 'saw': 3348, 'increases': 2037, 'concluded': 910, 'ton': 3923, 'tasted': 3811, 'dasani': 1072, 'aquafina': 368, 'told': 3919, 'hooked': 1936, 'kept': 2209, 'drinking': 1257, 'box': 605, 'unique': 4046, 'grocery': 1784, 'items': 2162, 'reeeeeeeeeeetardations': 3157, 'foreseeable': 1612, 'election': 1327, 'voters': 4153, 'skills': 3518, 'crying': 1034, 'arms': 382, 'deals': 1084, 'didnt': 1170, 'closet': 839, 'god': 1739, 'damn': 1066, 'bringing': 629, 'fd': 1519, 'sick': 3488, 'context': 942, 'press': 2968, 'meeting': 2463, 'replied': 3201, 'permitted': 2845, 'aged': 260, 'milk': 2497, 'oooooffff': 2715, '99': 167, '45': 117, 'type': 4004, '2011': 60, 'defaulted': 1102, 'sensing': 3403, 'pattern': 2811, 'private': 2987, 'khc': 2211, 'bottom': 600, 'avct': 430, 'americas': 315, 'flee': 1581, 'vanish': 4116, 'fairytale': 1486, 'trending': 3965, 'social': 3546, 'spaxx': 3577, 'example': 1423, 'closely': 836, 'tied': 3891, 'indicator': 2050, 'heading': 1849, 'protection': 3020, 'welcome': 4215, 'lick': 2304, 'proven': 3026, 'descent': 1146, 'negotiating': 2613, 'knew': 2229, 'wise': 4268, 'problems': 2990, 'pandemic': 2781, 'shortages': 3469, 'unregulated': 4060, 'gouging': 1757, 'rampant': 3087, 'toast': 3912, 'value': 4112, 'multiply': 2571, '12': 20, 'laid': 2247, 'populace': 2924, 'unwind': 4069, 'calculus': 687, 'themselves': 3851, 'spooking': 3601, 'anticipate': 345, 'exit': 1437, 'unless': 4054, 'blinks': 566, 'panic': 2782, 'sells': 3399, 'lucky': 2381, 'co': 846, 'ordinate': 2744, 'card': 715, 'capable': 711, 'dumbassery': 1271, 'trigger': 3968, 'collapse': 857, 'defaulting': 1103, 'turns': 3993, 'bang': 460, 'whimper': 4235, 'nightmare': 2637, 'fan': 1494, 'pale': 2779, 'unleash': 4053, 'bickering': 535, 'promote': 3011, 'protect': 3019, 'friday': 1635, 'pumped': 3038, 'beyond': 533, 'contradicts': 949, 'mentality': 2471, 'obviously': 2680, 'lived': 2335, 'corruption': 971, 'occurring': 2683, 'ungrateful': 4044, 'experienced': 1450, 'deficit': 1109, 'lessen': 2291, 'weaker': 4200, 'cheaper': 779, 'relation': 3175, 'edit': 1305, 'missing': 2518, 'entirely': 1375, 'inhibited': 2075, 'ally': 296, 'screwed': 3372, 'wobbling': 4277, 'indexes': 2045, 'mid': 2490, 'sized': 3516, '13': 24, '16': 33, 'giants': 1717, 'fedex': 1529, 'nike': 2639, 'tough': 3936, 'slowing': 3527, 'headed': 1848, 'povs': 2948, 'avoiding': 437, 'plague': 2880, 'dan': 1067, 'magnificent': 2394, 'metal': 2482, 'downgrades': 1241, 'analyst': 323, 'preparing': 2964, 'opium': 2724, 'wars': 4182, 'civilizational': 816, 'prioritize': 2985, 'individualism': 2055, 'lean': 2272, 'collectivism': 858, 'lifetimes': 2309, 'generational': 1698, 'legacy': 2285, 'focused': 1593, 'deeply': 1101, 'necessary': 2605, 'unnecessary': 4057, 'yall': 4318, 'cryptos': 1037, 'belichick': 507, '2028': 67, 'squad': 3611, 'handouts': 1819, 'spacex': 3575, 'excuse': 1430, 'declare': 1098, 'martial': 2431, 'suspend': 3757, 'constitution': 935, 'shitting': 3457, 'pants': 2784, 'reprieve': 3206, 'spiking': 3592, 'refusing': 3163, 'none': 2649, 'popping': 2923, 'tsla': 3986, '4271': 115, 'signaled': 3495, 'panicked': 2783, 'earlier': 1284, 'sit': 3512, 'mistakes': 2520, 'sleep': 3521, 'lets': 2296, 'influencers': 2068, 'analysts': 324, 'quote': 3074, 'tropic': 3974, 'thunder': 3883, 'normal': 2656, 'prosecuting': 3018, 'scotus': 3369, 'presidency': 2966, 'flawless': 1580, 'monarchy': 2533, 'unable': 4020, 'commit': 875, 'crime': 1012, 'inside': 2083, 'traitor': 3950, 'holy': 1926, 'morons': 2547, 'irange': 2141, 'someplace': 3556, 'shitadel': 3454, 'shirts': 3452, 'bail': 454, 'plentiful': 2897, 'nancy': 2589, 'typed': 4005, 'accelerate': 182, 'refused': 3162, 'hypothetical': 1973, 'huge': 1954, 'cars': 724, 'popularity': 2926, 'atlas': 408, 'brazil': 615, 'exploration': 1456, 'project': 3008, 'minas': 2500, 'gerais': 1708, 'modular': 2530, 'processing': 2993, 'plant': 2885, 'africa': 252, 'produce': 2994, 'grade': 1764, 'concentrate': 903, 'crucial': 1028, 'sustainable': 3758, 'methods': 2484, 'renewable': 3192, 'storage': 3668, 'favorable': 1513, 'benefit': 519, 'curious': 1043, 'additional': 222, 'ipos': 2138, 'performance': 2838, 'vomit': 4149, 'conservatives': 929, 'wow': 4301, 'okay': 2699, 'listened': 2328, 'russian': 3321, 'funded': 1657, 'podcast': 2906, 'continuing': 945, 'stupidest': 3698, 'echo': 1296, 'chamber': 760, '153': 31, 'bros': 639, 'banzai': 468, 'bnzi': 574, 'introduced': 2119, 'product': 2997, 'reach': 3108, 'supposedly': 3745, 'aimed': 276, 'improving': 2023, 'webinar': 4204, 'attendance': 414, 'targeted': 3806, 'strategies': 3676, 'features': 1524, 'redesigned': 3153, 'user': 4098, 'interface': 2108, 'campaign': 695, 'management': 2409, 'enhanced': 1360, 'analytics': 325, 'notable': 2660, 'platform': 2886, 'cisco': 812, 'asap': 389, 'bby': 484, 'rock': 3291, 'impeach': 2006, 'flavor': 1578, 'crayola': 1002, 'fans': 1495, 'climb': 828, 'cross': 1026, 'purple': 3043, 'ema': 1338, '21': 70, 'confirm': 916, 'ordered': 2741, '200': 57, 'columbia': 860, '10000': 11, 'ahead': 273, '1981': 51, 'import': 2011, '4th': 126, 'cripple': 1016, 'unemployment': 4040, 'faults': 1512, 'loans': 2343, 'interested': 2105, 'ngl': 2630, 'masterfully': 2437, 'executed': 1432, 'yea': 4320, 'sums': 3727, 'expose': 1459, 'desperation': 1153, 'sam': 3337, 'bulk': 660, 'wal': 4161, 'mart': 2429, 'quality': 3060, 'extent': 1462, 'mainly': 2398, 'carry': 722, 'scents': 3362, 'soap': 3545, 'smells': 3534, '4x': 127, 'ha': 1806, 'distributed': 1202, 'majority': 2401, 'apple': 358, 'adp': 233, 'freaky': 1629, 'letters': 2298, 'benefits': 520, 'banging': 461, 'ladies': 2245, 'animal': 333, 'walks': 4165, 'upright': 4079, 'deficiency': 1108, 'fluids': 1589, 'fill': 1552, 'muscles': 2573, 'appears': 357, 'grows': 1793, 'lank': 2251, 'wrinkled': 4303, 'neck': 2607, 'breast': 622, 'plump': 2903, 'covering': 992, 'basket': 478, 'regarding2': 3165, 'girdle': 1722, 'impossible': 2019, 'women': 4282, 'dark': 1070, 'cats': 736, 'grey': 1779, 'pleasure': 2896, 'corporal': 967, 'enjoyment': 1363, 'woman': 4281, 'equal': 1384, 'frequently': 1634, 'superior': 3735, 'knack': 2227, 'practice': 2955, 'benjamin': 521, 'franklin': 1625, 'cheer': 783, 'clothes': 840, 'beauty': 491, '10k': 14, 'super': 3733, 'bowl': 604, 'children': 793, 'guns': 1800, 'priorities': 2984, 'stopping': 3667, 'count': 979, 'pardoning': 2789, '1700': 36, 'insurrection': 2094, 'deportation': 1140, 'salvadorian': 3336, 'attempting': 413, '14th': 28, 'amendment': 311, 'repeatedly': 3196, 'shuttering': 3486, 'departments': 1136, 'courts': 989, 'die': 1171, 'reinforced': 3171, 'belief': 508, 'logically': 2348, 'philosophy': 2858, 'defence': 1104, 'falls': 1492, 'negative': 2611, 'ny': 2672, 'eyes': 1469, 'sign': 3494, 'diversifying': 1205, 'sweet': 3763, 'newbie': 2624, 'definitive': 1114, 'stick': 3649, 'agreement': 271, 'insane': 2081, 'possibly': 2937, 'kidding': 2214, 'incompetent': 2033, 'unmitigated': 4056, 'governance': 1760, 'granted': 1768, 'helm': 1874, '01378': 2, 'hk': 1909, 'repurchased': 3211, '64': 141, 'per': 2831, 'finance': 1555, 'student': 3689, 'equities': 1387, 'studies': 3691, 'researches': 3216, 'community': 884, 'degenerated': 1115, 'king': 2222, 'yield': 4328, 'stay': 3637, 'gain': 1670, 'spoke': 3598, 'censorship': 744, 'usage': 4089, 'democrat': 1130, 'rfkjr': 3264, 'tulsi': 3988, 'switched': 3768, 'indirectly': 2053, 'helped': 1876, 'djt': 1209, 'gothic': 1754, 'billionaires': 545, 'destroy': 1155, 'youtube': 4339, 'enrichment': 1366, 'stone': 3660, 'dissolution': 1199, 'libertarian': 2302, 'blockchain': 568, 'scared': 3359, 'sexist': 3418, 'charge': 769, 'responding': 3226, 'conversation': 955, 'circles': 810, 'happily': 1827, 'harris': 1836, 'swell': 3764, 'threshold': 3878, 'cvna': 1056, 'intc': 2096, 'unstable': 4063, 'spelled': 3586, 'climbed': 829, '456': 119, 'asia': 391, 'resumed': 3239, 'treasurys': 3960, 'sharp': 3435, 'triggered': 3969, 'forcing': 1607, 'rethink': 3249, 'halted': 1814, 'waned': 4170, 'slide': 3523, 'resuming': 3240, 'faced': 1473, 'wednesday': 4207, 'feels': 1535, 'pill': 2868, 'masses': 2433, 'ten': 3829, 'leaps': 2275, 'approved': 364, 'gotten': 1756, 'preclinical': 2959, 'funding': 1658, 'certainly': 752, 'multikine': 2569, 'failing': 1481, '4m': 125, 'pay': 2814, 'geert': 1691, 'ridiculous': 3269, '600k': 139, 'salary': 3332, 'dilution': 1177, 'delete': 1120, 'remindme': 3187, '47': 122, 'historically': 1903, 'mondays': 2535, 'retailers': 3243, 'pounded': 2946, 'pooper': 2920, 'irl': 2144, 'creates': 1007, 'problem': 2989, 'renewing': 3194, 'passport': 2805, 'january': 2171, 'lady': 2246, 'pockets': 2905, 'atus': 418, 'crushed': 1032, 'futes': 1664, 'arbitrage': 369, 'dumps': 1276, 'wanna': 4171, '36': 102, 'trillion': 3970, 'biden': 537, 'retaliatory': 3245, 'dramatic': 1249, 'hardly': 1832, 'undecided': 4026, 'dcaing': 1078, 'killjoy': 2218, 'submissions': 3703, '208': 69, 'account': 188, 'age': 259, 'idiotic': 1984, 'uncalled': 4024, 'standing': 3623, 'advised': 241, 'netflix': 2618, 'closes': 838, 'excercised': 1426, 'expire': 1452, 'leveraged': 2300, 'phones': 2860, 'ways': 4195, 'tahgit': 3784, 'screw': 3371, 'european': 1405, 'opens': 2718, 'meant': 2457, 'airline': 281, 'aerc': 245, 'float': 1585, 'qe': 3054, 'table': 3781, 'decided': 1095, 'resilient': 3221, 'throw': 3880, 'weight': 4213, 'finally': 1554, 'willing': 4256, 'liquidity': 2324, 'tomorrow': 3922, 'strat': 3674, 'troll': 3973, '1000': 10, 'tarrifs': 3809, 'dropping': 1264, 'resulting': 3236, 'concede': 901, 'drills': 1255, 'rbdx': 3104, 'according': 187, 'rocky8888': 3292, 'twitter': 4001, 'elections': 1328, 'applying': 359, 'jobs': 2185, 'lies': 2306, 'barely': 469, 'treading': 3956, 'sates': 3341, 'whilst': 4234, 'simultaneously': 3506, 'claiming': 817, 'blaming': 557, 'administrations': 228, 'meat': 2458, 'willingly': 4257, 'chose': 802, 'toll': 3920, 'recommended': 3145, 'muslims': 2576, '6k': 145, '9k': 168, 'depressed': 1142, 'definition': 1112, 'dictator': 1166, 'wonders': 4285, 'cgc': 755, 'dog': 1219, 'eerie': 1308, 'hearing': 1860, 'jaime': 2169, 'diamond': 1163, 'interview': 2116, 'pity': 2875, 'miniscule': 2509, 'feelings': 1534, 'sent': 3404, 'cheeto': 784, 'trumpedo': 3978, 'singal': 3508, 'gate': 1684, 'gagillion': 1669, 'fafillion': 1479, 'shabadabalo': 3424, 'shabadamillion': 3425, 'shabaling': 3426, 'shabalomillion': 3427, 'percent': 2833, 'football': 1601, 'pride': 2979, 'nfl': 2628, 'paychecks': 2815, 'wit': 4270, 'bets': 529, 'proceeds': 2991, 'appointed': 360, 'performing': 2840, 'official': 2693, 'reversal': 3256, 'limiting': 2315, 'humphrey': 1960, 'executor': 1434, 'fishing': 1570, 'permission': 2844, 'sovereign': 3573, 'stashed': 3630, 'securities': 3383, 'whose': 4243, 'leader': 2267, 'father': 1509, 'republic': 3207, 'frc': 1628, 'coworkers': 994, '100x': 13, 'listen': 2327, 'conspiracy': 934, 'theories': 3853, 'involving': 2132, 'fauci': 1510, 'hunter': 1962, 'obama': 2674, 'extra': 1465, 'beginning': 502, '95': 163, 'imbecile': 1998, 'legit': 2288, 'trillions': 3971, 'masters': 2439, 'prime': 2981, 'rate': 3094, 'abolish': 174, 'passive': 2804, 'income': 2031, 'brrrrrr': 644, 'electronics': 1330, 'miner': 2503, 'auy': 428, 'yamana': 4319, 'plg': 2899, 'assumption': 402, 'underlying': 4028, 'statement': 3632, 'possesses': 2935, 'capability': 710, 'aptitude': 367, 'indicted': 2052, 'motherfucker': 2550, 'fiber': 1545, 'optic': 2731, 'network': 2619, 'cabling': 683, 'ethernet': 1398, 'operational': 2720, 'b2b': 442, 'bulletproof': 662, 'kate': 2202, 'rooney': 3299, 'instagram': 2086, 'requested': 3212, 'married': 2428, 'pending': 2826, 'requests': 3213, 'hot': 1945, 'noticed': 2663, 'click': 827, 'exist': 1435, 'ws': 4308, 'enemy': 1355, 'chyyyynnnnnaaaaa': 807, 'owns': 2771, 'pin': 2870, 'boomer': 591, 'spur': 3606, 'thr': 3873, 'factories': 1476, 'values': 4113, 'criticizing': 1021, 'regardless': 3166, 'willingness': 4258, 'accept': 183, 'dangerous': 1069, 'patriotic': 2810, 'advise': 240, 'supplicate': 3737, 'hopes': 1939, 'dreams': 1254, 'fault': 1511, 'deserved': 1150, 'deserve': 1149, 'damaged': 1065, 'teslas': 3839, 'q1': 3051, 'caused': 739, 'downturn': 1243, 'abysmal': 181, 'pull': 3035, 'boycotting': 607, 'approval': 363, 'rating': 3097, 'underwater': 4036, 'dem': 1125, 'pickup': 2866, 'overperform': 2762, 'november': 2664, 'addressed': 223, 'announces': 338, 'reciprocal': 3139, 'research': 3215, 'graphite': 1770, 'includes': 2029, 'importance': 2012, 'online': 2711, 'jan': 2170, 'matt': 2443, 'unit': 4047, 'discussing': 1190, 'impacts': 2004, 'controls': 953, 'hugues': 1956, 'jacquemin': 2167, 'sole': 3549, 'producer': 2995, 'primed': 2982, 'player': 2890, 'automakers': 425, 'manufacturers': 2417, 'heres': 1882, 'link': 2319, 'tim': 3896, 'stoocks': 3662, 'agane': 258, 'washing': 4184, 'bakrupt': 455, 'casino': 732, 'changed': 763, 'solid': 3550, 'intention': 2101, 'revered': 3255, 'leaning': 2273, 'sides': 3490, 'sudden': 3717, 'kool': 2235, 'aid': 275, 'sensational': 3401, 'headlines': 1851, 'boring': 596, 'nflx': 2629, 'cope': 961, '2007': 58, 'nationalist': 2593, 'wallstreet': 4167, 'canadian': 699, 'japanese': 2173, 'bankers': 463, 'involves': 2131, 'balance': 456, 'sheet': 3439, 'certain': 751, 'actors': 210, 'fear': 1522, 'ended': 1351, 'dick': 1165, 'crashed': 999, 'imposes': 2018, 'foreigners': 1611, 'liquidating': 2323, 'repatriating': 3195, 'hog': 1919, 'special': 3580, 'english': 1358, 'mute': 2578, 'clever': 826, 'french': 1633, 'welsh': 4217, '404': 110, 'hm': 1913, 'feeling': 1533, 'random': 3088, 'intervals': 2115, 'matrix': 2442, 'grossly': 1786, 'miscalculated': 2514, 'extort': 1464, 'strength': 3681, 'projection': 3009, 'thereof': 3855, 'chin': 795, 'leap': 2274, 'afraid': 251, 'suffering': 3720, 'scare': 3358, 'committing': 878, 'fallacy': 1490, 'humans': 1958, 'committed': 877, 'impart': 2005, 'adversaries': 237, 'hardship': 1833, 'anathema': 326, 'endure': 1354, 'lololol': 2350, 'concepts': 905, 'totally': 3933, 'successfully': 3712, 'develop': 1161, 'eye': 1468, 'validation': 4108, 'inherits': 2074, 'outlandish': 2756, 'advocating': 244, 'wilbur': 4252, 'ross': 3303, 'trumps': 3979, '2s': 89, '7s': 152, 'aces': 193, 'kings': 2223, 'regime': 3168, 'untouchable': 4068, 'manchild': 2410, 'raise': 3081, 'retaliate': 3244, 'effectively': 1311, 'embargoed': 1341, 'rmb': 3286, 'pegged': 2824, 'somewhat': 3559, 'banks': 465, 'dumped': 1274, 'specific': 3581, 'open': 2717, 'stayed': 3638, 'flat': 1577, 'larping': 2256, 'believable': 509, 'improper': 2020, 'peanut': 2821, 'farm': 1499, 'rhetorical': 3265, 'query': 3066, 'valuing': 4114, 'ignorance': 1988, 'earings': 1283, 'sellers': 3396, 'overwhelm': 2766, 'steady': 3640, 'pace': 2773, 'saunas': 3342, 'hate': 1840, 'russians': 3322, 'alright': 302, 'ur': 4085, 'andrew': 328, 'sorkin': 3564, 'shabby': 3428, 'journalism': 2191, 'shotty': 3476, 'hearsay': 1861, 'began': 498, 'fud': 1651, 'cramer': 997, 'cherry': 787, 'angle': 332, 'actively': 208, 'fundamentals': 1656, 'valuation': 4110, 'stifle': 3651, 'hedgies': 1866, 'episode': 1382, 'audience': 419, 'snowflake': 3543, 'unnnnngggggggkkkaaayyyyy': 4058, 'ps': 3031, 'coverage': 990, 'melissa': 2465, 'traders': 3946, 'transitory': 3952, 'ad': 214, 'nauseam': 2598, 'jabroni': 2166, 'incorrect': 2034, 'roughly': 3305, 'asleep': 395, 'quietly': 3071, 'print': 2983, 'amazon': 308, 'importers': 2015, 'canceled': 702, 'aggressively': 264, 'iphone': 2135, 'india': 2046, 'shafted': 3429, 'ocean': 2684, '160': 34, 'range': 3091, 'relative': 3177, 'denominated': 1135, 'split': 3597, 'index': 2044, 'ishares': 2151, 'vanguard': 4115, 'options': 2735, 'meme': 2467, 'sliver': 3525, 'lololololol': 2351, 'nah': 2584, 'turbotax': 3990, 'remembers': 3185, 'reckon': 3141, 'peasant': 2822, 'fartcoin': 1500, '89': 159, '234': 74, 'building': 658, 'city': 815, 'skyline': 3519, 'german': 1710, 'rivalry': 3282, '1870': 42, 'window': 4260, 'australia': 421, 'submarines': 3702, 'owner': 2769, 'drives': 1259, 'cybertruck': 1058, 'richer': 3268, 'sees': 3393, 'miran': 2513, 'believing': 511, 'cartman': 726, 'bullying': 666, 'loudmouth': 2371, 'stan': 3618, 'kyle': 2240, 'kenny': 2208, 'loner': 2353, 'whoops': 4241, 'spot': 3603, 'hated': 1841, 'acceptable': 184, 'martha': 2430, 'stewart': 3648, 'lock': 2345, 'giggle': 1720, 'comprehension': 899, 'lacking': 2244, 'beta': 526, 'unity': 4049, 'das': 1071, 'publication': 3033, 'tip': 3902, 'professional': 3000, 'side': 3489, 'sayeth': 3350, 'makers': 2403, 'vehemently': 4122, 'adausd': 215, 'shibusd': 3444, 'dogeusd': 1221, 'precious': 2958, 'crashes': 1000, '6th': 146, 'largely': 2253, 'mitch': 2521, 'mcconnell': 2451, 'madman': 2392, 'running': 3318, 'agriculture': 272, 'boom': 589, 'gem': 1693, 'usdeur': 4092, 'agreed': 270, 'cat': 733, 'bounce': 602, 'pulling': 3036, 'fewer': 1544, 'choice': 800, 'counties': 982, 'thousands': 3872, 'organizations': 2746, 'individuals': 2056, 'arguing': 377, 'flight': 1583, 'simple': 3502, 'achilles': 198, 'heel': 1868, 'unlocked': 4055, 'governments': 1762, 'concerted': 909, 'effort': 1316, 'orlando': 2747, 'hhn': 1887, 'balanced': 457, 'slave': 3520, 'democratic': 1131, 'master': 2435, 'gave': 1685, 'curse': 1048, 'vent': 4125, 'inner': 2077, 'dissatisfaction': 1197, 'indulging': 2057, 'debauchery': 1087, 'harm': 1834, 'minors': 2510, 'whatsoever': 4226, 'ecstasy': 1302, 'frantically': 1626, 'commenting': 871, 'exposure': 1460, 'avgo': 432, 'msft': 2564, 'mu': 2566, 'vonovia': 4150, 'mercedes': 2476, 'baba': 443, 'reliance': 3180, 'meta': 2481, 'crm': 1022, 'speculative': 3584, 'intel': 2098, 'oracle': 2738, 'wmt': 4276, 'jpm': 2192, 'rollercoaster': 3295, 'beaten': 489, 'gems': 1694, 'shine': 3449, 'climbers': 830, 'evidence': 1419, '4d': 124, 'chess': 788, 'admitted': 231, 'bluffed': 572, 'threatening': 3877, 'flip': 1584, 'monopoly': 2539, 'board': 575, '1992': 52, 'till': 3895, 'returns': 3251, 'reinvested': 3172, 'simulated': 3505, 'annual': 340, 'contribution': 951, 'belive': 512, 'outperformed': 2757, 'statistical': 3636, 'margin': 2421, 'suffered': 3719, 'painful': 2778, 'drawdown': 1252, 'periods': 2843, 'hahahaahahahahahaha': 1811, 'simplify': 3503, '31f': 96, 'barista': 471, 'coast': 848, 'blend': 561, 'int': 2095, 'excl': 1429, 'fmdgx': 1591, 'midcap': 2491, 'fdlxx': 1520, 'gov': 1759, 'inherited': 2073, 'brick': 625, 'savvy': 3347, 'pitch': 2874, 'tradingview': 3948, 'image': 1996, '100k': 12, 'bc': 485, 'storms': 3671, 'tic': 3887, 'tac': 3782, 'toe': 3915, 'pensions': 2827, 'head': 1847, 'grand': 1766, 'scheme': 3364, 'steadily': 3639, 'steam': 3642, 'conquer': 923, 'bankrupt': 464, 'donnie': 1230, 'dumbfuck': 1272, 'bucko': 653, 'vibes': 4134, 'ship': 3450, 'sailed': 3331, 'diversify': 1204, 'donno': 1231, 'downvoted': 1244, 'afternoon': 254, 'papers': 2786, 'shrink': 3484, 'concerning': 907, 'eli5': 1331, 'tyde': 4003, 'shakedown': 3430, 'reversing': 3258, 'intolerable': 2118, 'stooges': 3663, 'belongs': 516, 'teachers': 3818, 'pet': 2851, 'ugh': 4013, 'stearns': 3643, 'participants': 2793, 'fully': 1653, 'burying': 672, 'sand': 3339, 'hits': 1906, 'gfc': 1715, 'lehman': 2289, 'ignored': 1990, 'warnings': 4179, 'nak': 2585, 'volatile': 4147, 'dm': 1210, 'acgl': 194, 'arch': 372, '23': 73, '3306': 98, 'hkg': 1911, 'jnby': 2183, 'design': 1151, '75': 148, 'crox': 1027, 'crocs': 1024, 'dr': 1246, 'facilities': 1474, 'pbr': 2819, 'petroleo': 2853, 'brasileiro': 614, 'sgov': 3419, 'qfin': 3055, 'qifu': 3056, 'tal': 3792, 'petrotal': 2854, '00': 0, 'lon': 2352, 'plc': 2894, 'oscr': 2749, 'oscar': 2748, 'defensives': 1106, 'insurance': 2093, 'lows': 2375, '34': 99, 'cancel': 701, 'mutual': 2579, 'significance': 3496, 'feb': 1525, 'flair': 1576, 'snap': 3540, 'added': 217, 'hi': 1888, 'stockmarket': 3656, 'topic': 3929, 'affects': 249, 'subreddits': 3706, 'communities': 883, 'linking': 2320, 'bot': 598, 'action': 205, 'performed': 2839, 'automatically': 426, 'contact': 940, 'moderators': 2527, 'message': 2479, 'compose': 898, 'concerns': 908, 'naw': 2601, 'boost': 593, 'musky': 2574, 'miners': 2506, 'woke': 4280, 'sleeping': 3522, 'giant': 1716, 'fraud': 1627, 'horrible': 1941, 'prefect': 2961, 'divesting': 1206, 'pointless': 2908, 'garbage': 1681, 'spilling': 3593, 'masterful': 2436, 'gambit': 1674, 'bessent': 523, 'hunters': 1963, 'pecker': 2823, 'cant': 708, 'brewing': 624, 'plain': 2881, 'spaghetti': 3576, 'taxes': 3813, 'bluff': 571, 'dad': 1062, 'geez': 1692, 'hunt': 1961, 'brothers': 641, 'ratio': 3098, 'whack': 4223, 'industrial': 2058, 'renewables': 3193, '50x': 132, 'continue': 944, 'astonished': 403, 'supine': 3736, 'destroyed': 1156, 'dimon': 1178, 'stooping': 3664, 'besides': 522, '3k': 106, 'chemistry': 785, 'test': 3840, '18630': 41, 'sc': 3353, 'ultimate': 4017, 'broke': 634, 'nonetheless': 2650, 'warrant': 4180, 'specified': 3582, 'valid': 4107, 'htzzw': 1953, 'gtfo': 1795, 'eitherway': 1321, 'ish': 2150, 'grandma': 1767, 'raises': 3083, 'shooting': 3462, 'feet': 1537, 'discussion': 1191, 'focuses': 1594, 'perceived': 2832, 'weakness': 4201, 'flavoraid': 1579, 'death': 1085, 'unfortunate': 4042, 'closer': 837, 'mentioning': 2474, 'candle': 706, 'wutang': 4311, 'badass': 449, 'onlyfans': 2713, 'girls': 1724, 'bellarus': 514, 'confused': 919, 'revelation': 3253, 'fascism': 1502, 'tracks': 3942, 'issued': 2159, 'commodity': 879, 'commission': 874, 'cftc': 754, 'types': 4006, 'inequality': 2061, 'misguided': 2515, 'understandable': 4032, 'seemed': 3390, 'heed': 1867, 'quasi': 3064, 'baffling': 451, 'adjacent': 224, 'ww2': 4312, 'bigly': 542, 'digit': 1176, 'tbf': 3816, 'walter': 4169, 'rumor': 3315, 'scrounge': 3374, 'midday': 2492, 'borrow': 597, 'luckily': 2380, 'fat': 1507, 'uber': 4012, 'nihilistic': 2638, 'irony': 2146, 'greek': 1776, 'apps': 365, 'places': 2879, 'hyping': 1972, 'undervalued': 4035, 'reit': 3173, 'ard': 373, 'credible': 1010, 'headline': 1850, 'newb': 2623, 'eaten': 1293, 'shame': 3432, 'rage': 3080, 'jimmy': 2180, 'carter': 725, 'perform': 2837, 'chicks': 791, 'tanking': 3802, 'leggings': 2286, 'given': 1726, 'logic': 2347, 'unsurprised': 4064, 'unsurprising': 4065, 'fucks': 1650, 'sunset': 3732, 'reminder': 3186, 'deficits': 1110, 'picture': 2867, 'ngmi': 2631, 'impose': 2017, 'somewhere': 3560, 'qqq': 3057, 'overexposed': 2761, 'distance': 1200, 'loses': 2364, 'donny': 1232, 'conceded': 902, 'reassuring': 3128, 'provided': 3028, 'congressional': 921, 'authority': 422, 'oversight': 2764, 'disloyal': 1195, 'treasonous': 3957, 'superfluous': 3734, 'fb': 1517, 'bp': 608, 'hoep': 1918, '1242': 21, 'accretive': 189, 'organic': 2745, 'acquisitions': 202, 'track': 3940, 'competing': 891, 'mission': 2519, 'wms': 4275, 'expanding': 1440, 'omni': 2705, 'channel': 766, 'enterprise': 1373, 'software': 3547, 'expands': 1441, 'macro': 2389, 'implementations': 2009, 'internally': 2111, 'opposed': 2727, 'outsources': 2759, 'implementation': 2008, 'cautious': 741, 'attractive': 417, 'opportunities': 2725, 'adobe': 232, 'asml': 396, 'mco': 2452, 'goog': 1749, 'spgi': 3590, 'valuations': 4111, 'unremarkable': 4062, 'distributor': 1203, 'leak': 2271, 'mandate': 2411, 'shower': 3480, 'toilets': 3918, 'heal': 1854, 'vxus': 4157, 'dwac': 1280, 'terrifying': 3836, 'rewrite': 3262, 'letter': 2297, 'hmmm': 1915, 'reserved': 3219, 'planning': 2883, 'relationship': 3176, 'invade': 2120, 'taiwan': 3785, 'invasion': 2122, 'success': 3709, 'glass': 1729, '98': 165, 'neither': 2615, 'minds': 2502, 'scamming': 3356, 'edgy': 1304, 'snake': 3539, 'salesmen': 3334, 'racist': 3077, '2k': 87, 'disabled': 1183, 'chill': 794, 'jfk': 2179, 'national': 2592, 'security': 3384, 'pour': 2947, 'financially': 1557, 'irresponsible': 2148, 'gambling': 1676, 'addicts': 219, 'loophole': 2360, 'characterize': 768, 'shifting': 3447, 'unpredictable': 4059, 'autocracy': 424, 'arbitrary': 370, 'behaviour': 504, 'confiscating': 918, 'insulting': 2092, 'messiah': 2480, 'whatever': 4225, 'aurcana': 420, 'nevada': 2620, 'copper': 962, 'inflations': 2065, 'kids': 2215, 'roaring': 3288, 'complain': 892, 'lvmh': 2386, 'mc': 2450, '31': 93, 'disney': 1196, 'dis': 1182, '17': 35, '03': 5, 'estee': 1394, 'lauder': 2261, 'comcast': 864, 'cmcsa': 844, 'shell': 3441, 'shel': 3440, '02': 3, 'wbd': 4197, 'impeached': 2007, 'disappointed': 1184, 'brew': 623, 'enjoying': 1362, 'fr': 1623, 'shoot': 3461, 'denmark': 1134, '31224': 94}\n",
            "\n",
            "Shape of the document-term matrix:\n",
            "(847, 4346)\n"
          ]
        }
      ]
    },
    {
      "cell_type": "code",
      "source": [
        "count_vect.get_feature_names_out()[4300]"
      ],
      "metadata": {
        "colab": {
          "base_uri": "https://localhost:8080/",
          "height": 35
        },
        "id": "2uBBUr92c2LZ",
        "outputId": "edab76a8-fee4-4f5a-924a-22e651fa681c"
      },
      "execution_count": 112,
      "outputs": [
        {
          "output_type": "execute_result",
          "data": {
            "text/plain": [
              "'wouldn'"
            ],
            "application/vnd.google.colaboratory.intrinsic+json": {
              "type": "string"
            }
          },
          "metadata": {},
          "execution_count": 112
        }
      ]
    },
    {
      "cell_type": "code",
      "source": [
        "count_vect.get_feature_names_out()[4300]"
      ],
      "metadata": {
        "colab": {
          "base_uri": "https://localhost:8080/",
          "height": 35
        },
        "id": "qhYkV6B1c2ON",
        "outputId": "5301e84d-67f5-4f12-bcab-c5cfa3c03583"
      },
      "execution_count": 113,
      "outputs": [
        {
          "output_type": "execute_result",
          "data": {
            "text/plain": [
              "'wouldn'"
            ],
            "application/vnd.google.colaboratory.intrinsic+json": {
              "type": "string"
            }
          },
          "metadata": {},
          "execution_count": 113
        }
      ]
    },
    {
      "cell_type": "code",
      "source": [
        "df_counts.shape"
      ],
      "metadata": {
        "colab": {
          "base_uri": "https://localhost:8080/"
        },
        "id": "FmAtbLdpV7j9",
        "outputId": "345342db-dd16-4dee-d150-b95a718fe5ae"
      },
      "execution_count": 114,
      "outputs": [
        {
          "output_type": "execute_result",
          "data": {
            "text/plain": [
              "(847, 4346)"
            ]
          },
          "metadata": {},
          "execution_count": 114
        }
      ]
    },
    {
      "cell_type": "code",
      "source": [
        "count_vect.get_feature_names_out()[0:10]"
      ],
      "metadata": {
        "colab": {
          "base_uri": "https://localhost:8080/"
        },
        "id": "ZLnz18jrV7md",
        "outputId": "4a4eba8a-f3fa-473b-8293-5952ee0982b3"
      },
      "execution_count": 115,
      "outputs": [
        {
          "output_type": "execute_result",
          "data": {
            "text/plain": [
              "array(['00', '000', '01378', '02', '027', '03', '06', '08', '10', '100'],\n",
              "      dtype=object)"
            ]
          },
          "metadata": {},
          "execution_count": 115
        }
      ]
    },
    {
      "cell_type": "code",
      "source": [
        "import numpy as np\n",
        "\n",
        "arr = df_counts[0:5, 0:100].toarray()\n",
        "\n",
        "positions = np.argwhere(arr == 1)\n",
        "\n",
        "# Get the feature names (words) from the CountVectorizer\n",
        "feature_names = count_vect.get_feature_names_out()\n",
        "\n",
        "# Map the column indices from the positions to the feature names\n",
        "positions_words = [(row, feature_names[col]) for row, col in positions]\n",
        "\n",
        "print(\"Positions of '1' and corresponding words (row, word):\")\n",
        "print(positions_words)"
      ],
      "metadata": {
        "colab": {
          "base_uri": "https://localhost:8080/"
        },
        "id": "HEDgE5fTfOSZ",
        "outputId": "d9500eed-d71e-4fd8-9b64-15d92fb85c37"
      },
      "execution_count": 116,
      "outputs": [
        {
          "output_type": "stream",
          "name": "stdout",
          "text": [
            "Positions of '1' and corresponding words (row, word):\n",
            "[]\n"
          ]
        }
      ]
    },
    {
      "cell_type": "code",
      "source": [
        "plot_x = [\"term_\"+str(i) for i in count_vect.get_feature_names_out()[0:20]]\n",
        "plot_y = [\"doc_\"+ str(i) for i in list(df.index)[0:20]]"
      ],
      "metadata": {
        "id": "d1WomzGEfOVH"
      },
      "execution_count": 118,
      "outputs": []
    },
    {
      "cell_type": "code",
      "source": [
        "plot_z = df_counts[0:20, 0:20].toarray() #X_counts[how many documents, how many terms]\n",
        "plot_z"
      ],
      "metadata": {
        "colab": {
          "base_uri": "https://localhost:8080/"
        },
        "id": "RhmH_8PPfOYI",
        "outputId": "b82c692f-0ad5-4c4c-d15e-fd37e206e4dc"
      },
      "execution_count": 119,
      "outputs": [
        {
          "output_type": "execute_result",
          "data": {
            "text/plain": [
              "array([[0, 0, 0, 0, 0, 0, 0, 0, 0, 0, 0, 0, 0, 0, 0, 0, 0, 0, 0, 0],\n",
              "       [0, 0, 0, 0, 0, 0, 0, 0, 0, 0, 0, 0, 0, 0, 0, 0, 0, 0, 0, 0],\n",
              "       [0, 0, 0, 0, 0, 0, 0, 0, 0, 0, 0, 0, 0, 0, 0, 0, 0, 0, 0, 0],\n",
              "       [0, 0, 0, 0, 0, 0, 0, 0, 0, 0, 0, 0, 0, 0, 0, 0, 0, 0, 3, 0],\n",
              "       [0, 0, 0, 0, 0, 0, 0, 0, 0, 0, 0, 0, 0, 0, 0, 0, 0, 0, 0, 0],\n",
              "       [0, 0, 0, 0, 0, 0, 0, 0, 0, 0, 0, 0, 0, 0, 0, 0, 0, 0, 0, 0],\n",
              "       [0, 0, 0, 0, 0, 0, 0, 0, 0, 0, 0, 0, 0, 0, 0, 0, 0, 0, 0, 0],\n",
              "       [0, 0, 0, 0, 0, 0, 0, 0, 0, 0, 0, 0, 0, 0, 0, 0, 0, 0, 0, 0],\n",
              "       [0, 0, 0, 0, 0, 0, 0, 0, 0, 0, 0, 0, 0, 0, 0, 0, 0, 0, 0, 0],\n",
              "       [0, 0, 0, 0, 0, 0, 0, 0, 1, 0, 0, 0, 0, 0, 0, 0, 0, 0, 0, 0],\n",
              "       [0, 0, 0, 0, 0, 0, 0, 0, 0, 0, 0, 0, 0, 0, 0, 0, 0, 0, 0, 0],\n",
              "       [0, 0, 0, 0, 0, 0, 0, 0, 0, 0, 0, 0, 0, 0, 0, 0, 0, 0, 0, 0],\n",
              "       [0, 0, 0, 0, 0, 0, 0, 0, 0, 0, 0, 0, 0, 0, 0, 0, 0, 0, 0, 0],\n",
              "       [0, 0, 0, 0, 0, 0, 0, 0, 2, 0, 0, 0, 0, 0, 0, 0, 0, 0, 0, 0],\n",
              "       [0, 0, 0, 0, 0, 0, 0, 0, 0, 0, 0, 0, 0, 0, 0, 0, 0, 0, 0, 0],\n",
              "       [0, 0, 0, 0, 0, 0, 0, 0, 0, 0, 0, 0, 0, 0, 0, 0, 0, 0, 0, 0],\n",
              "       [0, 0, 0, 0, 0, 0, 0, 0, 0, 0, 0, 0, 0, 0, 0, 0, 0, 0, 0, 0],\n",
              "       [0, 0, 0, 0, 0, 0, 0, 0, 0, 0, 0, 0, 0, 0, 0, 0, 0, 0, 0, 0],\n",
              "       [0, 0, 0, 0, 0, 0, 0, 0, 0, 0, 0, 0, 0, 0, 0, 0, 0, 0, 0, 0],\n",
              "       [0, 0, 0, 0, 0, 0, 0, 0, 0, 0, 0, 0, 0, 0, 0, 0, 0, 0, 0, 0]])"
            ]
          },
          "metadata": {},
          "execution_count": 119
        }
      ]
    },
    {
      "cell_type": "code",
      "source": [
        "import seaborn as sns\n",
        "\n",
        "df_todraw = pd.DataFrame(plot_z, columns = plot_x, index = plot_y)\n",
        "plt.subplots(figsize=(9, 7))\n",
        "ax = sns.heatmap(df_todraw,\n",
        "                 cmap=\"PuRd\",\n",
        "                 vmin=0, vmax=1, annot=True)"
      ],
      "metadata": {
        "colab": {
          "base_uri": "https://localhost:8080/",
          "height": 675
        },
        "id": "XkErJwxbfObA",
        "outputId": "86f2fa39-4819-42e4-b051-69ffdcaf69c6"
      },
      "execution_count": 120,
      "outputs": [
        {
          "output_type": "display_data",
          "data": {
            "text/plain": [
              "<Figure size 900x700 with 2 Axes>"
            ],
            "image/png": "[encoded data removed]"
          },
          "metadata": {}
        }
      ]
    },
    {
      "cell_type": "code",
      "source": [
        "import numpy as np\n",
        "\n",
        "# 對所有文檔計算每個詞的出現次數總和\n",
        "term_frequencies = np.array(df_counts[0:20, 0:20].sum(axis=0)).flatten()\n",
        "\n",
        "# 找出出現最多的前 10 個詞\n",
        "top_terms_idx = term_frequencies.argsort()[::-1][:10]\n",
        "top_terms = count_vect.get_feature_names_out()[top_terms_idx]\n",
        "top_counts = term_frequencies[top_terms_idx]\n",
        "\n",
        "print(\"出現頻率最高的 10 個詞：\")\n",
        "for t, c in zip(top_terms, top_counts):\n",
        "    print(f\"{t}: {c}\")\n",
        "# 每篇文檔總詞數\n",
        "doc_lengths = np.array(df_counts.sum(axis=1)).flatten()\n",
        "\n",
        "# 顯示前 10 篇文檔的詞數\n",
        "print(\"前 10 篇文檔的詞數：\", doc_lengths[:10])\n",
        "density = df_counts.nnz / (df_counts.shape[0] * df_counts.shape[1])\n",
        "print(f\"矩陣密度: {density:.6f} (非零元素比例)\")\n",
        "top_terms_idx = term_frequencies.argsort()[::-1][:50]  # 前 50 高頻詞\n",
        "subset_sparse = df_counts[:, top_terms_idx]  # 整個文檔，僅這些詞\n",
        "import matplotlib.pyplot as plt\n",
        "import seaborn as sns\n",
        "\n",
        "plt.figure(figsize=(12, 6))\n",
        "sns.barplot(x=top_terms, y=top_counts)\n",
        "plt.xticks(rotation=45)\n",
        "plt.title(\"Top 10 Most Frequent Terms\")\n",
        "plt.show()\n"
      ],
      "metadata": {
        "colab": {
          "base_uri": "https://localhost:8080/",
          "height": 797
        },
        "id": "TleUWOOhfOfW",
        "outputId": "fce64498-001b-4488-d425-9528bb9a8077"
      },
      "execution_count": 121,
      "outputs": [
        {
          "output_type": "stream",
          "name": "stdout",
          "text": [
            "出現頻率最高的 10 個詞：\n",
            "116: 3\n",
            "10: 3\n",
            "11: 0\n",
            "118: 0\n",
            "10yr: 0\n",
            "10ks: 0\n",
            "100x: 0\n",
            "10k: 0\n",
            "100k: 0\n",
            "10000: 0\n",
            "前 10 篇文檔的詞數： [  3  26   7 155   5  11  49  21  34  14]\n",
            "矩陣密度: 0.004671 (非零元素比例)\n"
          ]
        },
        {
          "output_type": "display_data",
          "data": {
            "text/plain": [
              "<Figure size 1200x600 with 1 Axes>"
            ],
            "image/png": "[encoded data removed]"
          },
          "metadata": {}
        }
      ]
    },
    {
      "cell_type": "code",
      "source": [
        "term_frequencies = []\n",
        "for j in range(0,df_counts.shape[1]):\n",
        "    term_frequencies.append(sum(df_counts[:,j].toarray()))\n"
      ],
      "metadata": {
        "id": "9T-usmIMfOiP"
      },
      "execution_count": 122,
      "outputs": []
    },
    {
      "cell_type": "code",
      "source": [
        "term_frequencies = np.asarray(df_counts.sum(axis=0))[0]"
      ],
      "metadata": {
        "id": "FtkM3naUfOkz"
      },
      "execution_count": 123,
      "outputs": []
    },
    {
      "cell_type": "code",
      "source": [
        "term_frequencies[0]"
      ],
      "metadata": {
        "colab": {
          "base_uri": "https://localhost:8080/"
        },
        "id": "b0he-pfWfOnM",
        "outputId": "5fb6a2a5-25a2-44ef-9d8b-6604a6f7ad27"
      },
      "execution_count": 124,
      "outputs": [
        {
          "output_type": "execute_result",
          "data": {
            "text/plain": [
              "np.int64(4)"
            ]
          },
          "metadata": {},
          "execution_count": 124
        }
      ]
    },
    {
      "cell_type": "code",
      "source": [
        "plt.subplots(figsize=(100, 10))\n",
        "g = sns.barplot(x=count_vect.get_feature_names_out()[:300],\n",
        "            y=term_frequencies[:300])\n",
        "g.set_xticklabels(count_vect.get_feature_names_out()[:300], rotation = 90);"
      ],
      "metadata": {
        "colab": {
          "base_uri": "https://localhost:8080/",
          "height": 228
        },
        "id": "0sidX1oqjm6k",
        "outputId": "13125d64-2b63-4aba-de5f-f3406a8efd3b"
      },
      "execution_count": 125,
      "outputs": [
        {
          "output_type": "stream",
          "name": "stderr",
          "text": [
            "/tmp/ipython-input-1135719481.py:4: UserWarning: set_ticklabels() should only be used with a fixed number of ticks, i.e. after set_ticks() or using a FixedLocator.\n",
            "  g.set_xticklabels(count_vect.get_feature_names_out()[:300], rotation = 90);\n"
          ]
        },
        {
          "output_type": "display_data",
          "data": {
            "text/plain": [
              "<Figure size 10000x1000 with 1 Axes>"
            ],
            "image/png": "[encoded data removed]"
          },
          "metadata": {}
        }
      ]
    },
    {
      "cell_type": "code",
      "source": [
        "# Answer here\n",
        "import plotly.express as px\n",
        "\n",
        "term_frequencies = np.asarray(df_counts.sum(axis=0))[0]\n",
        "top_n = 300\n",
        "terms = count_vect.get_feature_names_out()[:top_n]\n",
        "counts = term_frequencies[:top_n]\n",
        "\n",
        "# Plotly 互動柱狀圖\n",
        "fig = px.bar(x=terms, y=counts,\n",
        "             labels={'x':'Terms', 'y':'Frequency'},\n",
        "             title=f\"Top {top_n} Terms Frequency\")\n",
        "fig.update_layout(xaxis_tickangle=-90, width=1500, height=600)\n",
        "fig.show()"
      ],
      "metadata": {
        "colab": {
          "base_uri": "https://localhost:8080/",
          "height": 637
        },
        "id": "Xyu3Y2rtjm-F",
        "outputId": "ce6198c5-aa15-423c-c579-930db3a8bae3"
      },
      "execution_count": 126,
      "outputs": [
        {
          "output_type": "display_data",
          "data": {
            "text/html": [
              "<html>\n",
              "<head><meta charset=\"utf-8\" /></head>\n",
              "<body>\n",
              "    <div>            <script src=\"https://cdnjs.cloudflare.com/ajax/libs/mathjax/2.7.5/MathJax.js?config=TeX-AMS-MML_SVG\"></script><script type=\"text/javascript\">if (window.MathJax && window.MathJax.Hub && window.MathJax.Hub.Config) {window.MathJax.Hub.Config({SVG: {font: \"STIX-Web\"}});}</script>                <script type=\"text/javascript\">window.PlotlyConfig = {MathJaxConfig: 'local'};</script>\n",
              "        <script charset=\"utf-8\" src=\"https://cdn.plot.ly/plotly-2.35.2.min.js\"></script>                <div id=\"5bbcf818-e356-4a85-b1e9-899ab9d18b71\" class=\"plotly-graph-div\" style=\"height:600px; width:1500px;\"></div>            <script type=\"text/javascript\">                                    window.PLOTLYENV=window.PLOTLYENV || {};                                    if (document.getElementById(\"5bbcf818-e356-4a85-b1e9-899ab9d18b71\")) {                    Plotly.newPlot(                        \"5bbcf818-e356-4a85-b1e9-899ab9d18b71\",                        [{\"alignmentgroup\":\"True\",\"hovertemplate\":\"Terms=%{x}\\u003cbr\\u003eFrequency=%{y}\\u003cextra\\u003e\\u003c\\u002fextra\\u003e\",\"legendgroup\":\"\",\"marker\":{\"color\":\"#636efa\",\"pattern\":{\"shape\":\"\"}},\"name\":\"\",\"offsetgroup\":\"\",\"orientation\":\"v\",\"showlegend\":false,\"textposition\":\"auto\",\"x\":[\"00\",\"000\",\"01378\",\"02\",\"027\",\"03\",\"06\",\"08\",\"10\",\"100\",\"1000\",\"10000\",\"100k\",\"100x\",\"10k\",\"10ks\",\"10yr\",\"11\",\"116\",\"118\",\"12\",\"1242\",\"125\",\"12855584\",\"13\",\"14\",\"140\",\"145\",\"14th\",\"15\",\"150\",\"153\",\"15m\",\"16\",\"160\",\"17\",\"1700\",\"1728\",\"17th\",\"18\",\"186\",\"18630\",\"1870\",\"1934\",\"1945\",\"1947\",\"1953\",\"1961\",\"1969\",\"1973\",\"1974\",\"1981\",\"1992\",\"1999\",\"1k\",\"1m\",\"20\",\"200\",\"2007\",\"200k\",\"2011\",\"2012\",\"2017\",\"2021\",\"20211209\",\"2024\",\"2025\",\"2028\",\"2045\",\"208\",\"21\",\"22\",\"22rate\",\"23\",\"234\",\"235\",\"24\",\"25\",\"250\",\"25bps\",\"25k\",\"27\",\"28\",\"296895\",\"2c_books\",\"2c_wiki_recommendations\",\"2fapps\",\"2k\",\"2nd\",\"2s\",\"30\",\"300\",\"3000\",\"31\",\"31224\",\"31225\",\"31f\",\"33\",\"3306\",\"34\",\"35\",\"350\",\"36\",\"3a\",\"3d\",\"3f\",\"3k\",\"3oz8xzgfhartvh99yi\",\"40\",\"401k\",\"404\",\"41\",\"42\",\"4260\",\"4267\",\"4271\",\"4359\",\"45\",\"4500\",\"456\",\"46\",\"4675\",\"47\",\"4900\",\"4d\",\"4m\",\"4th\",\"4x\",\"50\",\"500\",\"5000\",\"50k\",\"50x\",\"52\",\"522\",\"540\",\"55\",\"58\",\"60\",\"600k\",\"6026762\",\"64\",\"65\",\"66\",\"6969\",\"6k\",\"6th\",\"70\",\"75\",\"7500\",\"77\",\"7k\",\"7s\",\"80\",\"81\",\"83\",\"87\",\"8882\",\"8883\",\"89\",\"90\",\"9000\",\"90k\",\"95\",\"97\",\"98\",\"98th\",\"99\",\"9k\",\"_are\",\"_so\",\"aapl\",\"ability\",\"able\",\"abolish\",\"about\",\"above\",\"absolute\",\"absolutely\",\"abuse\",\"abusing\",\"abysmal\",\"accelerate\",\"accept\",\"acceptable\",\"accepted\",\"access\",\"according\",\"account\",\"accretive\",\"acct\",\"accurate\",\"accurately\",\"aces\",\"acgl\",\"achieved\",\"achievement\",\"achieves\",\"achilles\",\"acn\",\"acquires\",\"acquisition\",\"acquisitions\",\"across\",\"act\",\"action\",\"actionable\",\"actions\",\"actively\",\"activity\",\"actors\",\"acts\",\"actual\",\"actually\",\"ad\",\"adausd\",\"add\",\"added\",\"addicted\",\"addicts\",\"adding\",\"addition\",\"additional\",\"addressed\",\"adjacent\",\"adjust\",\"admin\",\"administration\",\"administrations\",\"admins\",\"admit\",\"admitted\",\"adobe\",\"adp\",\"adult\",\"advanced\",\"advantage\",\"adversaries\",\"advertisements\",\"advice\",\"advise\",\"advised\",\"advisor\",\"advisors\",\"advocating\",\"aerc\",\"aerocontractors\",\"affect\",\"affected\",\"affects\",\"afford\",\"afraid\",\"africa\",\"after\",\"afternoon\",\"afterwards\",\"again\",\"against\",\"agane\",\"age\",\"aged\",\"agencies\",\"agenda\",\"agentnlp\",\"aggressively\",\"aggressor\",\"agnew\",\"ago\",\"agolf\",\"agree\",\"agreed\",\"agreement\",\"agriculture\",\"ahead\",\"ai\",\"aid\",\"aimed\",\"aiming\",\"ain\",\"air\",\"aircraft\",\"airline\",\"airlines\",\"airplane\",\"airplanes\",\"aka\",\"aladeen\",\"albeit\",\"alerts\",\"all\",\"allies\",\"allocating\",\"allocation\",\"allowed\",\"allowing\",\"allows\",\"ally\",\"almasria\",\"almost\",\"alone\"],\"xaxis\":\"x\",\"y\":[4,6,1,1,1,1,1,1,21,11,1,1,1,1,1,1,1,5,3,1,8,1,2,1,2,1,1,1,1,8,2,1,1,1,1,1,1,1,2,2,1,3,1,1,2,1,1,1,1,1,1,1,1,1,1,1,7,2,1,1,1,1,1,2,1,2,6,1,1,1,2,4,1,3,1,1,2,7,3,1,2,1,2,1,1,1,1,1,2,1,9,1,1,1,1,1,1,1,2,1,3,2,2,1,2,1,1,1,4,1,1,1,2,2,1,7,1,1,1,1,1,1,1,1,1,1,1,1,12,4,4,1,1,1,1,1,1,1,2,1,1,2,2,1,1,1,1,2,2,1,2,1,1,3,1,1,1,1,2,1,5,1,1,1,1,2,1,1,1,1,1,3,2,6,1,72,4,1,3,1,1,1,1,1,2,1,1,1,1,1,1,5,1,1,1,1,1,1,1,3,1,3,1,3,2,1,3,1,1,4,1,2,5,11,1,1,1,1,1,1,3,2,4,1,1,3,2,10,1,1,1,1,1,1,1,1,1,1,1,7,1,1,1,3,2,1,3,3,2,1,1,1,1,27,1,1,14,7,1,1,1,1,1,1,1,1,1,12,1,4,1,1,1,2,5,1,1,1,2,3,2,1,6,1,1,1,1,1,2,97,7,1,6,3,1,3,2,3,6,4],\"yaxis\":\"y\",\"type\":\"bar\"}],                        {\"template\":{\"data\":{\"histogram2dcontour\":[{\"type\":\"histogram2dcontour\",\"colorbar\":{\"outlinewidth\":0,\"ticks\":\"\"},\"colorscale\":[[0.0,\"#0d0887\"],[0.1111111111111111,\"#46039f\"],[0.2222222222222222,\"#7201a8\"],[0.3333333333333333,\"#9c179e\"],[0.4444444444444444,\"#bd3786\"],[0.5555555555555556,\"#d8576b\"],[0.6666666666666666,\"#ed7953\"],[0.7777777777777778,\"#fb9f3a\"],[0.8888888888888888,\"#fdca26\"],[1.0,\"#f0f921\"]]}],\"choropleth\":[{\"type\":\"choropleth\",\"colorbar\":{\"outlinewidth\":0,\"ticks\":\"\"}}],\"histogram2d\":[{\"type\":\"histogram2d\",\"colorbar\":{\"outlinewidth\":0,\"ticks\":\"\"},\"colorscale\":[[0.0,\"#0d0887\"],[0.1111111111111111,\"#46039f\"],[0.2222222222222222,\"#7201a8\"],[0.3333333333333333,\"#9c179e\"],[0.4444444444444444,\"#bd3786\"],[0.5555555555555556,\"#d8576b\"],[0.6666666666666666,\"#ed7953\"],[0.7777777777777778,\"#fb9f3a\"],[0.8888888888888888,\"#fdca26\"],[1.0,\"#f0f921\"]]}],\"heatmap\":[{\"type\":\"heatmap\",\"colorbar\":{\"outlinewidth\":0,\"ticks\":\"\"},\"colorscale\":[[0.0,\"#0d0887\"],[0.1111111111111111,\"#46039f\"],[0.2222222222222222,\"#7201a8\"],[0.3333333333333333,\"#9c179e\"],[0.4444444444444444,\"#bd3786\"],[0.5555555555555556,\"#d8576b\"],[0.6666666666666666,\"#ed7953\"],[0.7777777777777778,\"#fb9f3a\"],[0.8888888888888888,\"#fdca26\"],[1.0,\"#f0f921\"]]}],\"heatmapgl\":[{\"type\":\"heatmapgl\",\"colorbar\":{\"outlinewidth\":0,\"ticks\":\"\"},\"colorscale\":[[0.0,\"#0d0887\"],[0.1111111111111111,\"#46039f\"],[0.2222222222222222,\"#7201a8\"],[0.3333333333333333,\"#9c179e\"],[0.4444444444444444,\"#bd3786\"],[0.5555555555555556,\"#d8576b\"],[0.6666666666666666,\"#ed7953\"],[0.7777777777777778,\"#fb9f3a\"],[0.8888888888888888,\"#fdca26\"],[1.0,\"#f0f921\"]]}],\"contourcarpet\":[{\"type\":\"contourcarpet\",\"colorbar\":{\"outlinewidth\":0,\"ticks\":\"\"}}],\"contour\":[{\"type\":\"contour\",\"colorbar\":{\"outlinewidth\":0,\"ticks\":\"\"},\"colorscale\":[[0.0,\"#0d0887\"],[0.1111111111111111,\"#46039f\"],[0.2222222222222222,\"#7201a8\"],[0.3333333333333333,\"#9c179e\"],[0.4444444444444444,\"#bd3786\"],[0.5555555555555556,\"#d8576b\"],[0.6666666666666666,\"#ed7953\"],[0.7777777777777778,\"#fb9f3a\"],[0.8888888888888888,\"#fdca26\"],[1.0,\"#f0f921\"]]}],\"surface\":[{\"type\":\"surface\",\"colorbar\":{\"outlinewidth\":0,\"ticks\":\"\"},\"colorscale\":[[0.0,\"#0d0887\"],[0.1111111111111111,\"#46039f\"],[0.2222222222222222,\"#7201a8\"],[0.3333333333333333,\"#9c179e\"],[0.4444444444444444,\"#bd3786\"],[0.5555555555555556,\"#d8576b\"],[0.6666666666666666,\"#ed7953\"],[0.7777777777777778,\"#fb9f3a\"],[0.8888888888888888,\"#fdca26\"],[1.0,\"#f0f921\"]]}],\"mesh3d\":[{\"type\":\"mesh3d\",\"colorbar\":{\"outlinewidth\":0,\"ticks\":\"\"}}],\"scatter\":[{\"fillpattern\":{\"fillmode\":\"overlay\",\"size\":10,\"solidity\":0.2},\"type\":\"scatter\"}],\"parcoords\":[{\"type\":\"parcoords\",\"line\":{\"colorbar\":{\"outlinewidth\":0,\"ticks\":\"\"}}}],\"scatterpolargl\":[{\"type\":\"scatterpolargl\",\"marker\":{\"colorbar\":{\"outlinewidth\":0,\"ticks\":\"\"}}}],\"bar\":[{\"error_x\":{\"color\":\"#2a3f5f\"},\"error_y\":{\"color\":\"#2a3f5f\"},\"marker\":{\"line\":{\"color\":\"#E5ECF6\",\"width\":0.5},\"pattern\":{\"fillmode\":\"overlay\",\"size\":10,\"solidity\":0.2}},\"type\":\"bar\"}],\"scattergeo\":[{\"type\":\"scattergeo\",\"marker\":{\"colorbar\":{\"outlinewidth\":0,\"ticks\":\"\"}}}],\"scatterpolar\":[{\"type\":\"scatterpolar\",\"marker\":{\"colorbar\":{\"outlinewidth\":0,\"ticks\":\"\"}}}],\"histogram\":[{\"marker\":{\"pattern\":{\"fillmode\":\"overlay\",\"size\":10,\"solidity\":0.2}},\"type\":\"histogram\"}],\"scattergl\":[{\"type\":\"scattergl\",\"marker\":{\"colorbar\":{\"outlinewidth\":0,\"ticks\":\"\"}}}],\"scatter3d\":[{\"type\":\"scatter3d\",\"line\":{\"colorbar\":{\"outlinewidth\":0,\"ticks\":\"\"}},\"marker\":{\"colorbar\":{\"outlinewidth\":0,\"ticks\":\"\"}}}],\"scattermapbox\":[{\"type\":\"scattermapbox\",\"marker\":{\"colorbar\":{\"outlinewidth\":0,\"ticks\":\"\"}}}],\"scatterternary\":[{\"type\":\"scatterternary\",\"marker\":{\"colorbar\":{\"outlinewidth\":0,\"ticks\":\"\"}}}],\"scattercarpet\":[{\"type\":\"scattercarpet\",\"marker\":{\"colorbar\":{\"outlinewidth\":0,\"ticks\":\"\"}}}],\"carpet\":[{\"aaxis\":{\"endlinecolor\":\"#2a3f5f\",\"gridcolor\":\"white\",\"linecolor\":\"white\",\"minorgridcolor\":\"white\",\"startlinecolor\":\"#2a3f5f\"},\"baxis\":{\"endlinecolor\":\"#2a3f5f\",\"gridcolor\":\"white\",\"linecolor\":\"white\",\"minorgridcolor\":\"white\",\"startlinecolor\":\"#2a3f5f\"},\"type\":\"carpet\"}],\"table\":[{\"cells\":{\"fill\":{\"color\":\"#EBF0F8\"},\"line\":{\"color\":\"white\"}},\"header\":{\"fill\":{\"color\":\"#C8D4E3\"},\"line\":{\"color\":\"white\"}},\"type\":\"table\"}],\"barpolar\":[{\"marker\":{\"line\":{\"color\":\"#E5ECF6\",\"width\":0.5},\"pattern\":{\"fillmode\":\"overlay\",\"size\":10,\"solidity\":0.2}},\"type\":\"barpolar\"}],\"pie\":[{\"automargin\":true,\"type\":\"pie\"}]},\"layout\":{\"autotypenumbers\":\"strict\",\"colorway\":[\"#636efa\",\"#EF553B\",\"#00cc96\",\"#ab63fa\",\"#FFA15A\",\"#19d3f3\",\"#FF6692\",\"#B6E880\",\"#FF97FF\",\"#FECB52\"],\"font\":{\"color\":\"#2a3f5f\"},\"hovermode\":\"closest\",\"hoverlabel\":{\"align\":\"left\"},\"paper_bgcolor\":\"white\",\"plot_bgcolor\":\"#E5ECF6\",\"polar\":{\"bgcolor\":\"#E5ECF6\",\"angularaxis\":{\"gridcolor\":\"white\",\"linecolor\":\"white\",\"ticks\":\"\"},\"radialaxis\":{\"gridcolor\":\"white\",\"linecolor\":\"white\",\"ticks\":\"\"}},\"ternary\":{\"bgcolor\":\"#E5ECF6\",\"aaxis\":{\"gridcolor\":\"white\",\"linecolor\":\"white\",\"ticks\":\"\"},\"baxis\":{\"gridcolor\":\"white\",\"linecolor\":\"white\",\"ticks\":\"\"},\"caxis\":{\"gridcolor\":\"white\",\"linecolor\":\"white\",\"ticks\":\"\"}},\"coloraxis\":{\"colorbar\":{\"outlinewidth\":0,\"ticks\":\"\"}},\"colorscale\":{\"sequential\":[[0.0,\"#0d0887\"],[0.1111111111111111,\"#46039f\"],[0.2222222222222222,\"#7201a8\"],[0.3333333333333333,\"#9c179e\"],[0.4444444444444444,\"#bd3786\"],[0.5555555555555556,\"#d8576b\"],[0.6666666666666666,\"#ed7953\"],[0.7777777777777778,\"#fb9f3a\"],[0.8888888888888888,\"#fdca26\"],[1.0,\"#f0f921\"]],\"sequentialminus\":[[0.0,\"#0d0887\"],[0.1111111111111111,\"#46039f\"],[0.2222222222222222,\"#7201a8\"],[0.3333333333333333,\"#9c179e\"],[0.4444444444444444,\"#bd3786\"],[0.5555555555555556,\"#d8576b\"],[0.6666666666666666,\"#ed7953\"],[0.7777777777777778,\"#fb9f3a\"],[0.8888888888888888,\"#fdca26\"],[1.0,\"#f0f921\"]],\"diverging\":[[0,\"#8e0152\"],[0.1,\"#c51b7d\"],[0.2,\"#de77ae\"],[0.3,\"#f1b6da\"],[0.4,\"#fde0ef\"],[0.5,\"#f7f7f7\"],[0.6,\"#e6f5d0\"],[0.7,\"#b8e186\"],[0.8,\"#7fbc41\"],[0.9,\"#4d9221\"],[1,\"#276419\"]]},\"xaxis\":{\"gridcolor\":\"white\",\"linecolor\":\"white\",\"ticks\":\"\",\"title\":{\"standoff\":15},\"zerolinecolor\":\"white\",\"automargin\":true,\"zerolinewidth\":2},\"yaxis\":{\"gridcolor\":\"white\",\"linecolor\":\"white\",\"ticks\":\"\",\"title\":{\"standoff\":15},\"zerolinecolor\":\"white\",\"automargin\":true,\"zerolinewidth\":2},\"scene\":{\"xaxis\":{\"backgroundcolor\":\"#E5ECF6\",\"gridcolor\":\"white\",\"linecolor\":\"white\",\"showbackground\":true,\"ticks\":\"\",\"zerolinecolor\":\"white\",\"gridwidth\":2},\"yaxis\":{\"backgroundcolor\":\"#E5ECF6\",\"gridcolor\":\"white\",\"linecolor\":\"white\",\"showbackground\":true,\"ticks\":\"\",\"zerolinecolor\":\"white\",\"gridwidth\":2},\"zaxis\":{\"backgroundcolor\":\"#E5ECF6\",\"gridcolor\":\"white\",\"linecolor\":\"white\",\"showbackground\":true,\"ticks\":\"\",\"zerolinecolor\":\"white\",\"gridwidth\":2}},\"shapedefaults\":{\"line\":{\"color\":\"#2a3f5f\"}},\"annotationdefaults\":{\"arrowcolor\":\"#2a3f5f\",\"arrowhead\":0,\"arrowwidth\":1},\"geo\":{\"bgcolor\":\"white\",\"landcolor\":\"#E5ECF6\",\"subunitcolor\":\"white\",\"showland\":true,\"showlakes\":true,\"lakecolor\":\"white\"},\"title\":{\"x\":0.05},\"mapbox\":{\"style\":\"light\"}}},\"xaxis\":{\"anchor\":\"y\",\"domain\":[0.0,1.0],\"title\":{\"text\":\"Terms\"},\"tickangle\":-90},\"yaxis\":{\"anchor\":\"x\",\"domain\":[0.0,1.0],\"title\":{\"text\":\"Frequency\"}},\"legend\":{\"tracegroupgap\":0},\"title\":{\"text\":\"Top 300 Terms Frequency\"},\"barmode\":\"relative\",\"width\":1500,\"height\":600},                        {\"responsive\": true}                    ).then(function(){\n",
              "                            \n",
              "var gd = document.getElementById('5bbcf818-e356-4a85-b1e9-899ab9d18b71');\n",
              "var x = new MutationObserver(function (mutations, observer) {{\n",
              "        var display = window.getComputedStyle(gd).display;\n",
              "        if (!display || display === 'none') {{\n",
              "            console.log([gd, 'removed!']);\n",
              "            Plotly.purge(gd);\n",
              "            observer.disconnect();\n",
              "        }}\n",
              "}});\n",
              "\n",
              "// Listen for the removal of the full notebook cells\n",
              "var notebookContainer = gd.closest('#notebook-container');\n",
              "if (notebookContainer) {{\n",
              "    x.observe(notebookContainer, {childList: true});\n",
              "}}\n",
              "\n",
              "// Listen for the clearing of the current output cell\n",
              "var outputEl = gd.closest('.output');\n",
              "if (outputEl) {{\n",
              "    x.observe(outputEl, {childList: true});\n",
              "}}\n",
              "\n",
              "                        })                };                            </script>        </div>\n",
              "</body>\n",
              "</html>"
            ]
          },
          "metadata": {}
        }
      ]
    },
    {
      "cell_type": "code",
      "source": [
        "import numpy as np\n",
        "import seaborn as sns\n",
        "import matplotlib.pyplot as plt\n",
        "\n",
        "\n",
        "term_frequencies = np.asarray(df_counts.sum(axis=0))[0]\n",
        "\n",
        "# 取出前 50 高頻詞\n",
        "top_n = 50\n",
        "top_idx = term_frequencies.argsort()[::-1][:top_n]\n",
        "top_terms = count_vect.get_feature_names_out()[top_idx]\n",
        "top_counts = term_frequencies[top_idx]\n",
        "\n",
        "# 畫柱狀圖\n",
        "plt.figure(figsize=(12, 6))\n",
        "g = sns.barplot(x=top_terms, y=top_counts)\n",
        "g.set_xticklabels(top_terms, rotation=90)\n",
        "plt.title(f\"Top {top_n} Most Frequent Terms\")\n",
        "plt.show()\n"
      ],
      "metadata": {
        "colab": {
          "base_uri": "https://localhost:8080/",
          "height": 649
        },
        "id": "U_od3sN1kAi-",
        "outputId": "1754b8ed-ceda-4341-bc12-d383cb4aa59a"
      },
      "execution_count": 128,
      "outputs": [
        {
          "output_type": "stream",
          "name": "stderr",
          "text": [
            "/tmp/ipython-input-1588227194.py:17: UserWarning:\n",
            "\n",
            "set_ticklabels() should only be used with a fixed number of ticks, i.e. after set_ticks() or using a FixedLocator.\n",
            "\n"
          ]
        },
        {
          "output_type": "display_data",
          "data": {
            "text/plain": [
              "<Figure size 1200x600 with 1 Axes>"
            ],
            "image/png": "[encoded data removed]"
          },
          "metadata": {}
        }
      ]
    },
    {
      "cell_type": "code",
      "source": [
        "import numpy as np\n",
        "import seaborn as sns\n",
        "import matplotlib.pyplot as plt\n",
        "import math\n",
        "\n",
        "# 計算每個詞的總出現頻率\n",
        "term_frequencies = np.asarray(df_counts.sum(axis=0))[0]\n",
        "\n",
        "top_n=50\n",
        "top_idx = term_frequencies.argsort()[::-1][:top_n]\n",
        "top_terms = count_vect.get_feature_names_out()[top_idx]\n",
        "top_counts = term_frequencies[top_idx]\n",
        "\n",
        "# 對數轉換，避免 log(0)\n",
        "top_counts_log = [math.log(i) for i in top_counts]\n",
        "\n",
        "# 畫對數頻率柱狀圖\n",
        "plt.figure(figsize=(12, 6))\n",
        "g = sns.barplot(x=top_terms, y=top_counts_log)\n",
        "g.set_xticklabels(top_terms, rotation=90)\n",
        "plt.title(f\"Top {top_n} Most Frequent Terms (Log-scaled)\")\n",
        "plt.ylabel(\"Log(Frequency)\")\n",
        "plt.show()\n"
      ],
      "metadata": {
        "colab": {
          "base_uri": "https://localhost:8080/",
          "height": 649
        },
        "id": "dOn-5Es0kAl1",
        "outputId": "355f76c3-ee5f-4197-b5fc-748e0045bec8"
      },
      "execution_count": 129,
      "outputs": [
        {
          "output_type": "stream",
          "name": "stderr",
          "text": [
            "/tmp/ipython-input-525060673.py:20: UserWarning:\n",
            "\n",
            "set_ticklabels() should only be used with a fixed number of ticks, i.e. after set_ticks() or using a FixedLocator.\n",
            "\n"
          ]
        },
        {
          "output_type": "display_data",
          "data": {
            "text/plain": [
              "<Figure size 1200x600 with 1 Axes>"
            ],
            "image/png": "[encoded data removed]"
          },
          "metadata": {}
        }
      ]
    },
    {
      "cell_type": "code",
      "source": [],
      "metadata": {
        "id": "i1QmfCyNkApD"
      },
      "execution_count": null,
      "outputs": []
    },
    {
      "cell_type": "code",
      "source": [],
      "metadata": {
        "id": "qNS7XJUMfOsH"
      },
      "execution_count": null,
      "outputs": []
    },
    {
      "cell_type": "code",
      "source": [],
      "metadata": {
        "id": "S7bmT5LYfO0Q"
      },
      "execution_count": null,
      "outputs": []
    },
    {
      "cell_type": "markdown",
      "metadata": {
        "id": "XsgmgjFwNEBC"
      },
      "source": [
        "# Phase 2"
      ]
    },
    {
      "cell_type": "code",
      "execution_count": null,
      "metadata": {
        "id": "lAss3NHdNEBC"
      },
      "outputs": [],
      "source": [
        "### Begin Assignment Here"
      ]
    },
    {
      "cell_type": "code",
      "source": [],
      "metadata": {
        "id": "hpIZvf5_fPvD"
      },
      "execution_count": null,
      "outputs": []
    },
    {
      "cell_type": "code",
      "source": [],
      "metadata": {
        "id": "eDkkWG56fPxm"
      },
      "execution_count": null,
      "outputs": []
    },
    {
      "cell_type": "code",
      "source": [],
      "metadata": {
        "id": "PGTtR_fjfP1C"
      },
      "execution_count": null,
      "outputs": []
    },
    {
      "cell_type": "code",
      "source": [],
      "metadata": {
        "id": "LbAq5J7FfP4a"
      },
      "execution_count": null,
      "outputs": []
    },
    {
      "cell_type": "code",
      "source": [],
      "metadata": {
        "id": "xmg8YNHEfP69"
      },
      "execution_count": null,
      "outputs": []
    },
    {
      "cell_type": "code",
      "source": [],
      "metadata": {
        "id": "JXyWnKLAfP-6"
      },
      "execution_count": null,
      "outputs": []
    },
    {
      "cell_type": "code",
      "source": [],
      "metadata": {
        "id": "lJf_HFstfQBZ"
      },
      "execution_count": null,
      "outputs": []
    },
    {
      "cell_type": "code",
      "source": [],
      "metadata": {
        "id": "tpZv-tq3fQEP"
      },
      "execution_count": null,
      "outputs": []
    },
    {
      "cell_type": "code",
      "source": [],
      "metadata": {
        "id": "btA1d0pyfQHF"
      },
      "execution_count": null,
      "outputs": []
    },
    {
      "cell_type": "code",
      "source": [],
      "metadata": {
        "id": "o90Zwz0pfQJh"
      },
      "execution_count": null,
      "outputs": []
    },
    {
      "cell_type": "code",
      "source": [],
      "metadata": {
        "id": "KCC7xUpzfQLs"
      },
      "execution_count": null,
      "outputs": []
    },
    {
      "cell_type": "code",
      "source": [],
      "metadata": {
        "id": "t9mxvLphfQN3"
      },
      "execution_count": null,
      "outputs": []
    },
    {
      "cell_type": "code",
      "source": [],
      "metadata": {
        "id": "toKP0FhJfQQZ"
      },
      "execution_count": null,
      "outputs": []
    },
    {
      "cell_type": "code",
      "source": [],
      "metadata": {
        "id": "-mjTXQxpfQSy"
      },
      "execution_count": null,
      "outputs": []
    },
    {
      "cell_type": "code",
      "source": [],
      "metadata": {
        "id": "mFZcpmY5fQVO"
      },
      "execution_count": null,
      "outputs": []
    },
    {
      "cell_type": "code",
      "source": [],
      "metadata": {
        "id": "lIPAs99GfQco"
      },
      "execution_count": null,
      "outputs": []
    },
    {
      "cell_type": "code",
      "source": [],
      "metadata": {
        "id": "spVN9fBAfQfw"
      },
      "execution_count": null,
      "outputs": []
    },
    {
      "cell_type": "code",
      "source": [],
      "metadata": {
        "id": "CsVPgA8bfQih"
      },
      "execution_count": null,
      "outputs": []
    },
    {
      "cell_type": "code",
      "source": [],
      "metadata": {
        "id": "m4g5c4h0fQlH"
      },
      "execution_count": null,
      "outputs": []
    },
    {
      "cell_type": "code",
      "source": [],
      "metadata": {
        "id": "wEYNaHgifQoM"
      },
      "execution_count": null,
      "outputs": []
    },
    {
      "cell_type": "code",
      "source": [],
      "metadata": {
        "id": "vbD5Dlx_fQrA"
      },
      "execution_count": null,
      "outputs": []
    }
  ],
  "metadata": {
    "kernelspec": {
      "display_name": "Python 3 (ipykernel)",
      "language": "python",
      "name": "python3"
    },
    "language_info": {
      "codemirror_mode": {
        "name": "ipython",
        "version": 3
      },
      "file_extension": ".py",
      "mimetype": "text/x-python",
      "name": "python",
      "nbconvert_exporter": "python",
      "pygments_lexer": "ipython3",
      "version": "3.11.0"
    },
    "colab": {
      "provenance": []
    }
  },
  "nbformat": 4,
  "nbformat_minor": 0
}